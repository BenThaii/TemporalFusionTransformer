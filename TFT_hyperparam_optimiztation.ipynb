{
 "cells": [
  {
   "cell_type": "code",
   "execution_count": 2,
   "id": "b2f945c3",
   "metadata": {},
   "outputs": [
    {
     "name": "stderr",
     "output_type": "stream",
     "text": [
      "/opt/conda/lib/python3.6/site-packages/tqdm/auto.py:22: TqdmWarning: IProgress not found. Please update jupyter and ipywidgets. See https://ipywidgets.readthedocs.io/en/stable/user_install.html\n",
      "  from .autonotebook import tqdm as notebook_tqdm\n"
     ]
    }
   ],
   "source": [
    "import boto3\n",
    "from pytorch_forecasting import Baseline, TemporalFusionTransformer, TimeSeriesDataSet\n",
    "# client=boto3.client('sts')\n",
    "# account=client.get_caller_identity()['Account']\n",
    "\n",
    "# my_session=boto3.session.Session()\n",
    "# region=my_session.region_name\n",
    "\n",
    "# algorithm_name=\"pytorch-tft-container-test\"\n",
    "# ecr_image='{}.dkr.ecr.{}.amazonaws.com/{}:latest'.format(account, region, algorithm_name)\n",
    "\n",
    "# ecr_image"
   ]
  },
  {
   "cell_type": "code",
   "execution_count": 3,
   "id": "b6307dcf",
   "metadata": {},
   "outputs": [
    {
     "name": "stdout",
     "output_type": "stream",
     "text": [
      "SageMaker version: 2.29.1\n",
      "Checkpointing Path: s3://sagemaker-us-east-1-049151007956/checkpoints/checkpoint-e4c4a82b\n"
     ]
    }
   ],
   "source": [
    "import sagemaker\n",
    "import uuid\n",
    "\n",
    "sagemaker_session = sagemaker.Session()\n",
    "print('SageMaker version: ' + sagemaker.__version__)\n",
    "\n",
    "bucket = sagemaker_session.default_bucket()\n",
    "prefix = 'sagemaker/DEMO-pytorch-cnn-cifar10'\n",
    "\n",
    "role = sagemaker.get_execution_role()\n",
    "checkpoint_suffix = str(uuid.uuid4())[:8]\n",
    "checkpoint_s3_path = 's3://{}/checkpoints/checkpoint-{}'.format(bucket, checkpoint_suffix)\n",
    "\n",
    "print('Checkpointing Path: {}'.format(checkpoint_s3_path))"
   ]
  },
  {
   "cell_type": "code",
   "execution_count": 4,
   "id": "4c4b3b0f",
   "metadata": {},
   "outputs": [],
   "source": [
    "import pandas as pd\n",
    "\n",
    "data_df = pd.read_csv(\"../dataset-group-by-day.csv\")\n",
    "# test_df = pd.read_csv(\"../HistoricalSalesandActive Inventory_3years_testing_no_header.csv\", names=['timestamp','item','store','sales'])\n",
    "\n",
    "# data_df = pd.concat([data_df, test_df])\n",
    "\n"
   ]
  },
  {
   "cell_type": "code",
   "execution_count": 5,
   "id": "2829ada7-3712-45ba-b372-14f795216621",
   "metadata": {},
   "outputs": [
    {
     "name": "stdout",
     "output_type": "stream",
     "text": [
      "<class 'pandas.core.frame.DataFrame'>\n",
      "RangeIndex: 869036 entries, 0 to 869035\n",
      "Data columns (total 16 columns):\n",
      " #   Column              Non-Null Count   Dtype  \n",
      "---  ------              --------------   -----  \n",
      " 0   PRODCODE            869036 non-null  object \n",
      " 1   PLANT               869036 non-null  object \n",
      " 2   DISCHAN             869036 non-null  object \n",
      " 3   PR_GROUP            869036 non-null  object \n",
      " 4   SOLUONG             869036 non-null  float64\n",
      " 5   in_collection       869036 non-null  object \n",
      " 6   solar_month         869036 non-null  object \n",
      " 7   solar_day_of_month  869036 non-null  object \n",
      " 8   solar_day_of_week   869036 non-null  object \n",
      " 9   solar_day_of_year   869036 non-null  object \n",
      " 10  lunar_month         869036 non-null  object \n",
      " 11  lunar_day_of_month  869036 non-null  object \n",
      " 12  MATERIAL            869036 non-null  object \n",
      " 13  TYPE_JEWEL          869036 non-null  object \n",
      " 14  STONES              869036 non-null  object \n",
      " 15  time_idx            869036 non-null  int64  \n",
      "dtypes: float64(1), int64(1), object(14)\n",
      "memory usage: 106.1+ MB\n"
     ]
    }
   ],
   "source": [
    "data_df['time_idx'] = pd.DatetimeIndex(data_df[\"BILLDATE\"]).astype(int)/ 86400000000000   # equals to 1 day\n",
    "\n",
    "data_df.drop(columns = ['BILLDATE'], inplace = True) # drop bill date\n",
    "\n",
    "data_df['time_idx'] = data_df['time_idx'].astype(int)\n",
    "data_df['PLANT'] = data_df['PLANT'].astype(str)\n",
    "data_df['DISCHAN'] = data_df['DISCHAN'].astype(str)\n",
    "data_df['solar_month'] = data_df['solar_month'].astype(str)\n",
    "data_df['solar_day_of_month'] = data_df['solar_day_of_month'].astype(str)\n",
    "data_df['solar_day_of_week'] = data_df['solar_day_of_week'].astype(str)\n",
    "data_df['solar_day_of_year'] = data_df['solar_day_of_year'].astype(str)\n",
    "data_df['lunar_month'] = data_df['lunar_month'].astype(str)\n",
    "data_df['lunar_day_of_month'] = data_df['lunar_day_of_month'].astype(str)\n",
    "data_df['MATERIAL'] = data_df['MATERIAL'].astype(str)\n",
    "data_df['TYPE_JEWEL'] = data_df['TYPE_JEWEL'].astype(str)\n",
    "data_df['STONES'] = data_df['STONES'].astype(str)\n",
    "data_df['in_collection'] = data_df['in_collection'].astype(str)\n",
    "\n",
    "data_df.info()"
   ]
  },
  {
   "cell_type": "code",
   "execution_count": 6,
   "id": "14bc12a7",
   "metadata": {},
   "outputs": [],
   "source": [
    "import os\n",
    "import json\n",
    "def save_local_and_upload_s3(data_df, sagemaker_session, bucket, dir_name = \"timeseries_data\", data_filename = \"data\"):\n",
    "    #create data directory if not exist\n",
    "    if os.path.isdir(dir_name):\n",
    "        print(\"Checkpointing directory {} exists\".format(dir_name))\n",
    "    else:\n",
    "        print(\"Creating Checkpointing directory {}\".format(dir_name))\n",
    "        os.makedirs(dir_name)\n",
    "\n",
    "    data_df.to_parquet('{}/{}.parquet'.format(dir_name, data_filename))   \n",
    "    print(\"saved raw data to {}/{}.parquet\".format(dir_name, data_filename))\n",
    "    \n",
    "    return sagemaker_session.upload_data(path=dir_name, bucket=bucket, key_prefix='data/{}'.format(dir_name))\n",
    "\n",
    "\n",
    "\n",
    "def metadata_json_upload_s3(training_metadata, sagemaker_session, bucket, dir_name = \"timeseries_data\", metadata_filename = \"data_metadata\"):\n",
    "    #create data directory if not exist\n",
    "    if os.path.isdir(dir_name):\n",
    "        print(\"Checkpointing directory {} exists\".format(dir_name))\n",
    "    else:\n",
    "        print(\"Creating Checkpointing directory {}\".format(dir_name))\n",
    "        os.makedirs(dir_name)\n",
    "    \n",
    "    with open('{}/{}.json'.format(dir_name, metadata_filename), 'w') as fp:\n",
    "        json.dump(training_metadata, fp)\n",
    "        print(\"saved metadata to {}/{}.json\".format(dir_name, metadata_filename))\n",
    "    \n",
    "    return sagemaker_session.upload_data(path=dir_name, bucket=bucket, key_prefix='data/{}'.format(dir_name))\n"
   ]
  },
  {
   "cell_type": "code",
   "execution_count": 7,
   "id": "9632414c",
   "metadata": {},
   "outputs": [
    {
     "name": "stdout",
     "output_type": "stream",
     "text": [
      "Checkpointing directory timeseries_data/pnj exists\n",
      "saved raw data to timeseries_data/pnj/pnj_training_data.parquet\n"
     ]
    },
    {
     "data": {
      "text/plain": [
       "'s3://sagemaker-us-east-1-049151007956/data/timeseries_data/pnj'"
      ]
     },
     "execution_count": 7,
     "metadata": {},
     "output_type": "execute_result"
    }
   ],
   "source": [
    "import pandas as pd \n",
    "\n",
    "inputs = save_local_and_upload_s3(data_df, sagemaker_session, bucket,\n",
    "                                  dir_name = \"timeseries_data/pnj\",\n",
    "                                  data_filename=\"pnj_training_data\")\n",
    "inputs"
   ]
  },
  {
   "cell_type": "code",
   "execution_count": 8,
   "id": "fd65604b",
   "metadata": {},
   "outputs": [
    {
     "name": "stdout",
     "output_type": "stream",
     "text": [
      "Checkpointing directory timeseries_data/pnj exists\n",
      "saved metadata to timeseries_data/pnj/pnj_metadata.json\n"
     ]
    },
    {
     "data": {
      "text/plain": [
       "'s3://sagemaker-us-east-1-049151007956/data/timeseries_data/pnj'"
      ]
     },
     "execution_count": 8,
     "metadata": {},
     "output_type": "execute_result"
    }
   ],
   "source": [
    "# max_prediction_length = 180\n",
    "max_prediction_length = 7\n",
    "max_encoder_length = 100\n",
    "\n",
    "training_metadata = {}\n",
    "training_metadata['time_idx'] = \"time_idx\"\n",
    "training_metadata['target'] = \"SOLUONG\"\n",
    "training_metadata['group_ids'] = [\"PRODCODE\", \"PLANT\", 'DISCHAN', 'PR_GROUP', 'MATERIAL', 'TYPE_JEWEL', 'STONES']\n",
    "training_metadata['min_encoder_length'] = 0      # keep encoder length long (as it is in the validation set)\n",
    "training_metadata['max_encoder_length'] = max_encoder_length\n",
    "training_metadata['min_prediction_length'] = 1      \n",
    "training_metadata['max_prediction_length'] = max_prediction_length\n",
    "training_metadata['static_categoricals'] = [\"PRODCODE\", \"PLANT\", 'DISCHAN', 'PR_GROUP', 'MATERIAL','TYPE_JEWEL', 'STONES']\n",
    "training_metadata['static_reals'] = []\n",
    "training_metadata['time_varying_known_categoricals'] = ['solar_month', 'solar_day_of_month', 'solar_day_of_week', 'solar_day_of_year', 'lunar_month', 'lunar_day_of_month']\n",
    "training_metadata['variable_groups'] = {}\n",
    "training_metadata['time_varying_known_reals'] = [\"time_idx\"]\n",
    "training_metadata['time_varying_unknown_categoricals'] = ['in_collection']\n",
    "training_metadata['time_varying_unknown_reals'] = []\n",
    "training_metadata['target_normalizer'] = {\n",
    "                            \"normalized_groups\": [\"PRODCODE\", \"PLANT\", 'DISCHAN', 'PR_GROUP', 'MATERIAL', 'TYPE_JEWEL', 'STONES'],\n",
    "                            \"normalization_transformation\": 'softplus'\n",
    "                        }\n",
    "training_metadata['dimensions_w_potentially_unseen_values'] = [\"PRODCODE\", \"PLANT\", 'DISCHAN', 'PR_GROUP', 'MATERIAL', 'TYPE_JEWEL', 'STONES',\n",
    "                                                              \"lunar_month\", \"solar_day_of_year\"]\n",
    "training_metadata['add_relative_time_idx'] = True\n",
    "training_metadata['add_target_scales'] = True\n",
    "training_metadata['add_encoder_length'] = True\n",
    "training_metadata['allow_missing_timesteps'] = True\n",
    "\n",
    "training_metadata['training_cutoff'] = int(data_df[\"time_idx\"].max() - max_prediction_length)\n",
    "# training_metadata['training_cutoff'] = int(data_df[\"time_idx\"].max())\n",
    "\n",
    "# upload metadata\n",
    "metadata_json_upload_s3(training_metadata, sagemaker_session, bucket,\n",
    "                                    dir_name = \"timeseries_data/pnj\",\n",
    "                                    metadata_filename=\"pnj_metadata\")"
   ]
  },
  {
   "cell_type": "code",
   "execution_count": 9,
   "id": "fb305010-a14a-4106-a328-d70cc2442c88",
   "metadata": {},
   "outputs": [
    {
     "data": {
      "text/html": [
       "<div>\n",
       "<style scoped>\n",
       "    .dataframe tbody tr th:only-of-type {\n",
       "        vertical-align: middle;\n",
       "    }\n",
       "\n",
       "    .dataframe tbody tr th {\n",
       "        vertical-align: top;\n",
       "    }\n",
       "\n",
       "    .dataframe thead th {\n",
       "        text-align: right;\n",
       "    }\n",
       "</style>\n",
       "<table border=\"1\" class=\"dataframe\">\n",
       "  <thead>\n",
       "    <tr style=\"text-align: right;\">\n",
       "      <th></th>\n",
       "      <th>PRODCODE</th>\n",
       "      <th>PLANT</th>\n",
       "      <th>DISCHAN</th>\n",
       "      <th>PR_GROUP</th>\n",
       "      <th>SOLUONG</th>\n",
       "      <th>in_collection</th>\n",
       "      <th>solar_month</th>\n",
       "      <th>solar_day_of_month</th>\n",
       "      <th>solar_day_of_week</th>\n",
       "      <th>solar_day_of_year</th>\n",
       "      <th>lunar_month</th>\n",
       "      <th>lunar_day_of_month</th>\n",
       "      <th>MATERIAL</th>\n",
       "      <th>TYPE_JEWEL</th>\n",
       "      <th>STONES</th>\n",
       "      <th>time_idx</th>\n",
       "    </tr>\n",
       "  </thead>\n",
       "  <tbody>\n",
       "    <tr>\n",
       "      <th>828146</th>\n",
       "      <td>40001310</td>\n",
       "      <td>2106</td>\n",
       "      <td>10</td>\n",
       "      <td>PCM000001</td>\n",
       "      <td>1.0</td>\n",
       "      <td>True</td>\n",
       "      <td>9</td>\n",
       "      <td>24</td>\n",
       "      <td>5</td>\n",
       "      <td>267</td>\n",
       "      <td>8</td>\n",
       "      <td>29</td>\n",
       "      <td>4</td>\n",
       "      <td>0</td>\n",
       "      <td>00</td>\n",
       "      <td>19259</td>\n",
       "    </tr>\n",
       "    <tr>\n",
       "      <th>828147</th>\n",
       "      <td>40001311</td>\n",
       "      <td>2106</td>\n",
       "      <td>10</td>\n",
       "      <td>PCM000001</td>\n",
       "      <td>1.0</td>\n",
       "      <td>True</td>\n",
       "      <td>9</td>\n",
       "      <td>24</td>\n",
       "      <td>5</td>\n",
       "      <td>267</td>\n",
       "      <td>8</td>\n",
       "      <td>29</td>\n",
       "      <td>4</td>\n",
       "      <td>0</td>\n",
       "      <td>00</td>\n",
       "      <td>19259</td>\n",
       "    </tr>\n",
       "    <tr>\n",
       "      <th>828148</th>\n",
       "      <td>40001316</td>\n",
       "      <td>1269</td>\n",
       "      <td>10</td>\n",
       "      <td>PCM000001</td>\n",
       "      <td>1.0</td>\n",
       "      <td>True</td>\n",
       "      <td>9</td>\n",
       "      <td>24</td>\n",
       "      <td>5</td>\n",
       "      <td>267</td>\n",
       "      <td>8</td>\n",
       "      <td>29</td>\n",
       "      <td>4</td>\n",
       "      <td>0</td>\n",
       "      <td>00</td>\n",
       "      <td>19259</td>\n",
       "    </tr>\n",
       "    <tr>\n",
       "      <th>828149</th>\n",
       "      <td>40001329</td>\n",
       "      <td>2106</td>\n",
       "      <td>10</td>\n",
       "      <td>PCM000001</td>\n",
       "      <td>1.0</td>\n",
       "      <td>True</td>\n",
       "      <td>9</td>\n",
       "      <td>24</td>\n",
       "      <td>5</td>\n",
       "      <td>267</td>\n",
       "      <td>8</td>\n",
       "      <td>29</td>\n",
       "      <td>4</td>\n",
       "      <td>0</td>\n",
       "      <td>00</td>\n",
       "      <td>19259</td>\n",
       "    </tr>\n",
       "    <tr>\n",
       "      <th>828150</th>\n",
       "      <td>40001331</td>\n",
       "      <td>2106</td>\n",
       "      <td>10</td>\n",
       "      <td>PCM000001</td>\n",
       "      <td>1.0</td>\n",
       "      <td>True</td>\n",
       "      <td>9</td>\n",
       "      <td>24</td>\n",
       "      <td>5</td>\n",
       "      <td>267</td>\n",
       "      <td>8</td>\n",
       "      <td>29</td>\n",
       "      <td>4</td>\n",
       "      <td>0</td>\n",
       "      <td>00</td>\n",
       "      <td>19259</td>\n",
       "    </tr>\n",
       "    <tr>\n",
       "      <th>...</th>\n",
       "      <td>...</td>\n",
       "      <td>...</td>\n",
       "      <td>...</td>\n",
       "      <td>...</td>\n",
       "      <td>...</td>\n",
       "      <td>...</td>\n",
       "      <td>...</td>\n",
       "      <td>...</td>\n",
       "      <td>...</td>\n",
       "      <td>...</td>\n",
       "      <td>...</td>\n",
       "      <td>...</td>\n",
       "      <td>...</td>\n",
       "      <td>...</td>\n",
       "      <td>...</td>\n",
       "      <td>...</td>\n",
       "    </tr>\n",
       "    <tr>\n",
       "      <th>869031</th>\n",
       "      <td>WMI00000099</td>\n",
       "      <td>2106</td>\n",
       "      <td>10</td>\n",
       "      <td>PWFMIQC</td>\n",
       "      <td>1.0</td>\n",
       "      <td>True</td>\n",
       "      <td>9</td>\n",
       "      <td>30</td>\n",
       "      <td>4</td>\n",
       "      <td>273</td>\n",
       "      <td>9</td>\n",
       "      <td>5</td>\n",
       "      <td>W</td>\n",
       "      <td>M</td>\n",
       "      <td>I0</td>\n",
       "      <td>19265</td>\n",
       "    </tr>\n",
       "    <tr>\n",
       "      <th>869032</th>\n",
       "      <td>WOR00000219</td>\n",
       "      <td>1333</td>\n",
       "      <td>10</td>\n",
       "      <td>PWMORAC</td>\n",
       "      <td>1.0</td>\n",
       "      <td>True</td>\n",
       "      <td>9</td>\n",
       "      <td>30</td>\n",
       "      <td>4</td>\n",
       "      <td>273</td>\n",
       "      <td>9</td>\n",
       "      <td>5</td>\n",
       "      <td>W</td>\n",
       "      <td>O</td>\n",
       "      <td>R0</td>\n",
       "      <td>19265</td>\n",
       "    </tr>\n",
       "    <tr>\n",
       "      <th>869033</th>\n",
       "      <td>WOR00000274</td>\n",
       "      <td>1133</td>\n",
       "      <td>10</td>\n",
       "      <td>PWMORAC</td>\n",
       "      <td>1.0</td>\n",
       "      <td>True</td>\n",
       "      <td>9</td>\n",
       "      <td>30</td>\n",
       "      <td>4</td>\n",
       "      <td>273</td>\n",
       "      <td>9</td>\n",
       "      <td>5</td>\n",
       "      <td>W</td>\n",
       "      <td>O</td>\n",
       "      <td>R0</td>\n",
       "      <td>19265</td>\n",
       "    </tr>\n",
       "    <tr>\n",
       "      <th>869034</th>\n",
       "      <td>WOR00000293</td>\n",
       "      <td>1367</td>\n",
       "      <td>10</td>\n",
       "      <td>PWMORAC</td>\n",
       "      <td>1.0</td>\n",
       "      <td>True</td>\n",
       "      <td>9</td>\n",
       "      <td>30</td>\n",
       "      <td>4</td>\n",
       "      <td>273</td>\n",
       "      <td>9</td>\n",
       "      <td>5</td>\n",
       "      <td>W</td>\n",
       "      <td>O</td>\n",
       "      <td>R0</td>\n",
       "      <td>19265</td>\n",
       "    </tr>\n",
       "    <tr>\n",
       "      <th>869035</th>\n",
       "      <td>WTI00000452</td>\n",
       "      <td>1478</td>\n",
       "      <td>10</td>\n",
       "      <td>PWMTIQS</td>\n",
       "      <td>1.0</td>\n",
       "      <td>True</td>\n",
       "      <td>9</td>\n",
       "      <td>30</td>\n",
       "      <td>4</td>\n",
       "      <td>273</td>\n",
       "      <td>9</td>\n",
       "      <td>5</td>\n",
       "      <td>W</td>\n",
       "      <td>T</td>\n",
       "      <td>I0</td>\n",
       "      <td>19265</td>\n",
       "    </tr>\n",
       "  </tbody>\n",
       "</table>\n",
       "<p>40890 rows × 16 columns</p>\n",
       "</div>"
      ],
      "text/plain": [
       "           PRODCODE PLANT DISCHAN   PR_GROUP  SOLUONG in_collection  \\\n",
       "828146     40001310  2106      10  PCM000001      1.0          True   \n",
       "828147     40001311  2106      10  PCM000001      1.0          True   \n",
       "828148     40001316  1269      10  PCM000001      1.0          True   \n",
       "828149     40001329  2106      10  PCM000001      1.0          True   \n",
       "828150     40001331  2106      10  PCM000001      1.0          True   \n",
       "...             ...   ...     ...        ...      ...           ...   \n",
       "869031  WMI00000099  2106      10    PWFMIQC      1.0          True   \n",
       "869032  WOR00000219  1333      10    PWMORAC      1.0          True   \n",
       "869033  WOR00000274  1133      10    PWMORAC      1.0          True   \n",
       "869034  WOR00000293  1367      10    PWMORAC      1.0          True   \n",
       "869035  WTI00000452  1478      10    PWMTIQS      1.0          True   \n",
       "\n",
       "       solar_month solar_day_of_month solar_day_of_week solar_day_of_year  \\\n",
       "828146           9                 24                 5               267   \n",
       "828147           9                 24                 5               267   \n",
       "828148           9                 24                 5               267   \n",
       "828149           9                 24                 5               267   \n",
       "828150           9                 24                 5               267   \n",
       "...            ...                ...               ...               ...   \n",
       "869031           9                 30                 4               273   \n",
       "869032           9                 30                 4               273   \n",
       "869033           9                 30                 4               273   \n",
       "869034           9                 30                 4               273   \n",
       "869035           9                 30                 4               273   \n",
       "\n",
       "       lunar_month lunar_day_of_month MATERIAL TYPE_JEWEL STONES  time_idx  \n",
       "828146           8                 29        4          0     00     19259  \n",
       "828147           8                 29        4          0     00     19259  \n",
       "828148           8                 29        4          0     00     19259  \n",
       "828149           8                 29        4          0     00     19259  \n",
       "828150           8                 29        4          0     00     19259  \n",
       "...            ...                ...      ...        ...    ...       ...  \n",
       "869031           9                  5        W          M     I0     19265  \n",
       "869032           9                  5        W          O     R0     19265  \n",
       "869033           9                  5        W          O     R0     19265  \n",
       "869034           9                  5        W          O     R0     19265  \n",
       "869035           9                  5        W          T     I0     19265  \n",
       "\n",
       "[40890 rows x 16 columns]"
      ]
     },
     "execution_count": 9,
     "metadata": {},
     "output_type": "execute_result"
    }
   ],
   "source": [
    "from pytorch_forecasting import Baseline, TemporalFusionTransformer, TimeSeriesDataSet\n",
    "from pytorch_forecasting.data import GroupNormalizer\n",
    "\n",
    "from pytorch_forecasting.data import encoders\n",
    "\n",
    "cat_encoders = {}\n",
    "for cat in training_metadata['dimensions_w_potentially_unseen_values']:\n",
    "    cat_encoders[cat] = encoders.NaNLabelEncoder(add_nan=True)\n",
    "\n",
    "train_df = data_df[lambda x: x[training_metadata['time_idx']] <= training_metadata['training_cutoff']]\n",
    "val_df = data_df[lambda x: x[training_metadata['time_idx']] > training_metadata['training_cutoff']]\n",
    "val_df"
   ]
  },
  {
   "cell_type": "code",
   "execution_count": 10,
   "id": "56a76faa-17a7-486d-9c9d-0412b868f794",
   "metadata": {},
   "outputs": [],
   "source": [
    "# # refine validation dataframe to only contain elements already seen in train dataframe\n",
    "# for category_dimension in training_metadata['group_ids']:\n",
    "#     val_df = val_df[val_df[category_dimension].isin(train_df[category_dimension].unique())]\n",
    "\n",
    "# val_df"
   ]
  },
  {
   "cell_type": "code",
   "execution_count": 11,
   "id": "d9d03af6",
   "metadata": {
    "tags": []
   },
   "outputs": [
    {
     "name": "stderr",
     "output_type": "stream",
     "text": [
      "/opt/conda/lib/python3.6/site-packages/pytorch_forecasting/data/encoders.py:121: UserWarning: Found 44962 unknown classes which were set to NaN\n",
      "  UserWarning,\n",
      "/opt/conda/lib/python3.6/site-packages/pytorch_forecasting/data/encoders.py:121: UserWarning: Found 373 unknown classes which were set to NaN\n",
      "  UserWarning,\n",
      "/opt/conda/lib/python3.6/site-packages/pytorch_forecasting/data/encoders.py:121: UserWarning: Found 1 unknown classes which were set to NaN\n",
      "  UserWarning,\n",
      "/opt/conda/lib/python3.6/site-packages/pytorch_forecasting/data/encoders.py:121: UserWarning: Found 1100 unknown classes which were set to NaN\n",
      "  UserWarning,\n",
      "/opt/conda/lib/python3.6/site-packages/pytorch_forecasting/data/encoders.py:121: UserWarning: Found 21 unknown classes which were set to NaN\n",
      "  UserWarning,\n",
      "/opt/conda/lib/python3.6/site-packages/pytorch_forecasting/data/encoders.py:121: UserWarning: Found 26 unknown classes which were set to NaN\n",
      "  UserWarning,\n",
      "/opt/conda/lib/python3.6/site-packages/pytorch_forecasting/data/encoders.py:121: UserWarning: Found 73 unknown classes which were set to NaN\n",
      "  UserWarning,\n",
      "/opt/conda/lib/python3.6/site-packages/pytorch_forecasting/data/encoders.py:121: UserWarning: Found 138 unknown classes which were set to NaN\n",
      "  UserWarning,\n",
      "/opt/conda/lib/python3.6/site-packages/pytorch_forecasting/data/encoders.py:121: UserWarning: Found 5 unknown classes which were set to NaN\n",
      "  UserWarning,\n",
      "/opt/conda/lib/python3.6/site-packages/pytorch_forecasting/data/encoders.py:621: UserWarning: scale is below 1e-7 - consider not centering the data or using data with higher variance for numerical stability\n",
      "  UserWarning,\n",
      "/opt/conda/lib/python3.6/site-packages/pytorch_forecasting/data/encoders.py:121: UserWarning: Found 46049 unknown classes which were set to NaN\n",
      "  UserWarning,\n",
      "/opt/conda/lib/python3.6/site-packages/pytorch_forecasting/data/encoders.py:121: UserWarning: Found 374 unknown classes which were set to NaN\n",
      "  UserWarning,\n",
      "/opt/conda/lib/python3.6/site-packages/pytorch_forecasting/data/encoders.py:121: UserWarning: Found 1 unknown classes which were set to NaN\n",
      "  UserWarning,\n",
      "/opt/conda/lib/python3.6/site-packages/pytorch_forecasting/data/encoders.py:121: UserWarning: Found 1108 unknown classes which were set to NaN\n",
      "  UserWarning,\n",
      "/opt/conda/lib/python3.6/site-packages/pytorch_forecasting/data/encoders.py:121: UserWarning: Found 21 unknown classes which were set to NaN\n",
      "  UserWarning,\n",
      "/opt/conda/lib/python3.6/site-packages/pytorch_forecasting/data/encoders.py:121: UserWarning: Found 26 unknown classes which were set to NaN\n",
      "  UserWarning,\n",
      "/opt/conda/lib/python3.6/site-packages/pytorch_forecasting/data/encoders.py:121: UserWarning: Found 74 unknown classes which were set to NaN\n",
      "  UserWarning,\n",
      "/opt/conda/lib/python3.6/site-packages/pytorch_forecasting/data/encoders.py:121: UserWarning: Found 145 unknown classes which were set to NaN\n",
      "  UserWarning,\n",
      "/opt/conda/lib/python3.6/site-packages/pytorch_forecasting/data/encoders.py:121: UserWarning: Found 6 unknown classes which were set to NaN\n",
      "  UserWarning,\n",
      "/opt/conda/lib/python3.6/site-packages/pytorch_forecasting/data/timeseries.py:1244: UserWarning: Min encoder length and/or min_prediction_idx and/or min prediction length and/or lags are too large for 440190 series/groups which therefore are not present in the dataset index. This means no predictions can be made for those series. First 10 removed groups: [{'__group_id__PRODCODE': '30000091', '__group_id__PLANT': '1113', '__group_id__DISCHAN': '10', '__group_id__PR_GROUP': 'PR0000001', '__group_id__MATERIAL': '3', '__group_id__TYPE_JEWEL': '0', '__group_id__STONES': '00'}, {'__group_id__PRODCODE': '30000522', '__group_id__PLANT': '1135', '__group_id__DISCHAN': '10', '__group_id__PR_GROUP': 'PR0000001', '__group_id__MATERIAL': '3', '__group_id__TYPE_JEWEL': '0', '__group_id__STONES': '00'}, {'__group_id__PRODCODE': '30004960', '__group_id__PLANT': '1291', '__group_id__DISCHAN': '10', '__group_id__PR_GROUP': 'PR0000001', '__group_id__MATERIAL': '3', '__group_id__TYPE_JEWEL': '0', '__group_id__STONES': '00'}, {'__group_id__PRODCODE': '31000217', '__group_id__PLANT': '1448', '__group_id__DISCHAN': '10', '__group_id__PR_GROUP': 'PR0000003', '__group_id__MATERIAL': '3', '__group_id__TYPE_JEWEL': '1', '__group_id__STONES': '00'}, {'__group_id__PRODCODE': '40000007', '__group_id__PLANT': '1014', '__group_id__DISCHAN': '10', '__group_id__PR_GROUP': 'PCM000001', '__group_id__MATERIAL': '4', '__group_id__TYPE_JEWEL': '0', '__group_id__STONES': '00'}, {'__group_id__PRODCODE': '40000011', '__group_id__PLANT': '1014', '__group_id__DISCHAN': '10', '__group_id__PR_GROUP': 'PCM000001', '__group_id__MATERIAL': '4', '__group_id__TYPE_JEWEL': '0', '__group_id__STONES': '00'}, {'__group_id__PRODCODE': '40000014', '__group_id__PLANT': '1299', '__group_id__DISCHAN': '10', '__group_id__PR_GROUP': 'PCM000001', '__group_id__MATERIAL': '4', '__group_id__TYPE_JEWEL': '0', '__group_id__STONES': '00'}, {'__group_id__PRODCODE': '40000014', '__group_id__PLANT': '1439', '__group_id__DISCHAN': '10', '__group_id__PR_GROUP': 'PCM000001', '__group_id__MATERIAL': '4', '__group_id__TYPE_JEWEL': '0', '__group_id__STONES': '00'}, {'__group_id__PRODCODE': '40000014', '__group_id__PLANT': '1456', '__group_id__DISCHAN': '10', '__group_id__PR_GROUP': 'PCM000001', '__group_id__MATERIAL': '4', '__group_id__TYPE_JEWEL': '0', '__group_id__STONES': '00'}, {'__group_id__PRODCODE': '40000014', '__group_id__PLANT': '1485', '__group_id__DISCHAN': '10', '__group_id__PR_GROUP': 'PCM000001', '__group_id__MATERIAL': '4', '__group_id__TYPE_JEWEL': '0', '__group_id__STONES': '00'}]\n",
      "  UserWarning,\n"
     ]
    }
   ],
   "source": [
    "training = TimeSeriesDataSet(\n",
    "        train_df,\n",
    "        time_idx= training_metadata['time_idx'],\n",
    "        target= training_metadata['target'],\n",
    "        group_ids= training_metadata['group_ids'],\n",
    "        min_encoder_length= training_metadata['min_encoder_length'],  \n",
    "        max_encoder_length= training_metadata['max_encoder_length'],\n",
    "        min_prediction_length=training_metadata['min_prediction_length'],\n",
    "        max_prediction_length=training_metadata['max_prediction_length'],\n",
    "        static_categoricals=training_metadata['static_categoricals'],\n",
    "        static_reals=training_metadata['static_reals'],\n",
    "        time_varying_known_categoricals=training_metadata['time_varying_known_categoricals'],\n",
    "        variable_groups= training_metadata['variable_groups'],  # group of categorical variables can be treated as one variable\n",
    "        time_varying_known_reals= training_metadata['time_varying_known_reals'],\n",
    "        time_varying_unknown_categoricals= training_metadata['time_varying_unknown_categoricals'],\n",
    "        time_varying_unknown_reals= training_metadata['time_varying_unknown_reals'],\n",
    "        target_normalizer=GroupNormalizer(\n",
    "                groups= training_metadata['target_normalizer']['normalized_groups'], \n",
    "                transformation= training_metadata['target_normalizer']['normalization_transformation']\n",
    "        ),  # use softplus and normalize by group\n",
    "        add_relative_time_idx= training_metadata['add_relative_time_idx'],\n",
    "        add_target_scales= training_metadata['add_target_scales'],\n",
    "        add_encoder_length= training_metadata['add_encoder_length'],\n",
    "        allow_missing_timesteps = training_metadata[\"allow_missing_timesteps\"],\n",
    "        categorical_encoders= cat_encoders\n",
    "    )\n",
    "\n",
    "validation = TimeSeriesDataSet.from_dataset(training, pd.concat([train_df, val_df]), predict=True, stop_randomization=True)\n",
    "batch_size = 64  # set this between 32 to 128\n",
    "# val_dataloader = validation.to_dataloader(train=False, batch_size=batch_size * 10, num_workers=os.cpu_count())\n",
    "val_dataloader = validation.to_dataloader(train=False, batch_size=batch_size * 10, num_workers=0)"
   ]
  },
  {
   "cell_type": "markdown",
   "id": "4c394bf8-f0ed-4f41-b122-ca9d4cfcb0a2",
   "metadata": {},
   "source": [
    "# Sagemaker training instance"
   ]
  },
  {
   "cell_type": "code",
   "execution_count": 12,
   "id": "a4b15198",
   "metadata": {},
   "outputs": [],
   "source": [
    "use_spot_instances = True\n",
    "max_run=60000      # in seconds, after this, job will be terminated\n",
    "max_wait = 10 * max_run if use_spot_instances else None\n",
    "local_image_name = 'pytorch-tft-container-test'\n",
    "\n"
   ]
  },
  {
   "cell_type": "code",
   "execution_count": 20,
   "id": "12155f31",
   "metadata": {},
   "outputs": [],
   "source": [
    "# inputs = \"s3://sagemaker-us-east-1-049151007956/data/timeseries_data/pnj\"\n",
    "# # ecr_image = \"551329315830.dkr.ecr.us-east-1.amazonaws.com/pytorch-tft-container-test\"\n",
    "# RoleName = sagemaker.get_execution_role()\n",
    "# checkpoint_s3_path = \"s3://sagemaker-us-east-1-049151007956/checkpoints/checkpoint-fa2a113c\""
   ]
  },
  {
   "cell_type": "code",
   "execution_count": 16,
   "id": "98d01306-a90b-4f97-a65f-cff1c2d57a0b",
   "metadata": {},
   "outputs": [],
   "source": [
    "tft_hyperparameters = {\n",
    "        'data-filename': \"pnj_training_data.parquet\",\n",
    "        'metadata-filename': \"pnj_metadata.json\",\n",
    "    \n",
    "        'max-prediction-length' : max_prediction_length,\n",
    "        'max-encoder-length' : max_encoder_length,\n",
    "        'num-epochs' : 100,\n",
    "        'early-stopping-patience' : 5,\n",
    "        'multiprocessing-workers' : 5,\n",
    "\n",
    "\n",
    "        'dropout-rate' : 0.1,\n",
    "        'hidden-layer-size' : 160,\n",
    "        'learning-rate' : 0.03,\n",
    "        'minibatch-size' : 64,\n",
    "        'max-gradient-norm' : 0.1,\n",
    "#         'max-gradient-norm' : 1,\n",
    "        'num-heads' : 4,\n",
    "    \n",
    "        'run-mode' : \"real\",\n",
    "        'main-training-metric' : \"val_RMSE\"\n",
    "    \n",
    "    }"
   ]
  },
  {
   "cell_type": "code",
   "execution_count": 15,
   "id": "1998926d",
   "metadata": {
    "collapsed": true,
    "jupyter": {
     "outputs_hidden": true
    },
    "tags": []
   },
   "outputs": [
    {
     "name": "stdout",
     "output_type": "stream",
     "text": [
      "2022-10-25 10:10:30 Starting - Starting the training job...\n",
      "2022-10-25 10:10:53 Starting - Preparing the instances for trainingProfilerReport-1666692630: InProgress\n",
      ".........\n",
      "2022-10-25 10:12:18 Downloading - Downloading input data...\n",
      "2022-10-25 10:12:54 Training - Downloading the training image.................."
     ]
    },
    {
     "ename": "KeyboardInterrupt",
     "evalue": "",
     "output_type": "error",
     "traceback": [
      "\u001b[0;31m---------------------------------------------------------------------------\u001b[0m",
      "\u001b[0;31mKeyboardInterrupt\u001b[0m                         Traceback (most recent call last)",
      "\u001b[0;32m<ipython-input-15-a64b3166639f>\u001b[0m in \u001b[0;36m<module>\u001b[0;34m\u001b[0m\n\u001b[1;32m     70\u001b[0m spot_estimator.fit(\n\u001b[1;32m     71\u001b[0m                 \u001b[0minputs\u001b[0m\u001b[0;34m,\u001b[0m\u001b[0;34m\u001b[0m\u001b[0;34m\u001b[0m\u001b[0m\n\u001b[0;32m---> 72\u001b[0;31m                 \u001b[0mlogs\u001b[0m \u001b[0;34m=\u001b[0m \u001b[0;34m'All'\u001b[0m\u001b[0;34m\u001b[0m\u001b[0;34m\u001b[0m\u001b[0m\n\u001b[0m\u001b[1;32m     73\u001b[0m             )\n",
      "\u001b[0;32m/opt/conda/lib/python3.6/site-packages/sagemaker/estimator.py\u001b[0m in \u001b[0;36mfit\u001b[0;34m(self, inputs, wait, logs, job_name, experiment_config)\u001b[0m\n\u001b[1;32m    662\u001b[0m         \u001b[0mself\u001b[0m\u001b[0;34m.\u001b[0m\u001b[0mjobs\u001b[0m\u001b[0;34m.\u001b[0m\u001b[0mappend\u001b[0m\u001b[0;34m(\u001b[0m\u001b[0mself\u001b[0m\u001b[0;34m.\u001b[0m\u001b[0mlatest_training_job\u001b[0m\u001b[0;34m)\u001b[0m\u001b[0;34m\u001b[0m\u001b[0;34m\u001b[0m\u001b[0m\n\u001b[1;32m    663\u001b[0m         \u001b[0;32mif\u001b[0m \u001b[0mwait\u001b[0m\u001b[0;34m:\u001b[0m\u001b[0;34m\u001b[0m\u001b[0;34m\u001b[0m\u001b[0m\n\u001b[0;32m--> 664\u001b[0;31m             \u001b[0mself\u001b[0m\u001b[0;34m.\u001b[0m\u001b[0mlatest_training_job\u001b[0m\u001b[0;34m.\u001b[0m\u001b[0mwait\u001b[0m\u001b[0;34m(\u001b[0m\u001b[0mlogs\u001b[0m\u001b[0;34m=\u001b[0m\u001b[0mlogs\u001b[0m\u001b[0;34m)\u001b[0m\u001b[0;34m\u001b[0m\u001b[0;34m\u001b[0m\u001b[0m\n\u001b[0m\u001b[1;32m    665\u001b[0m \u001b[0;34m\u001b[0m\u001b[0m\n\u001b[1;32m    666\u001b[0m     \u001b[0;32mdef\u001b[0m \u001b[0m_compilation_job_name\u001b[0m\u001b[0;34m(\u001b[0m\u001b[0mself\u001b[0m\u001b[0;34m)\u001b[0m\u001b[0;34m:\u001b[0m\u001b[0;34m\u001b[0m\u001b[0;34m\u001b[0m\u001b[0m\n",
      "\u001b[0;32m/opt/conda/lib/python3.6/site-packages/sagemaker/estimator.py\u001b[0m in \u001b[0;36mwait\u001b[0;34m(self, logs)\u001b[0m\n\u001b[1;32m   1589\u001b[0m         \u001b[0;31m# If logs are requested, call logs_for_jobs.\u001b[0m\u001b[0;34m\u001b[0m\u001b[0;34m\u001b[0m\u001b[0;34m\u001b[0m\u001b[0m\n\u001b[1;32m   1590\u001b[0m         \u001b[0;32mif\u001b[0m \u001b[0mlogs\u001b[0m \u001b[0;34m!=\u001b[0m \u001b[0;34m\"None\"\u001b[0m\u001b[0;34m:\u001b[0m\u001b[0;34m\u001b[0m\u001b[0;34m\u001b[0m\u001b[0m\n\u001b[0;32m-> 1591\u001b[0;31m             \u001b[0mself\u001b[0m\u001b[0;34m.\u001b[0m\u001b[0msagemaker_session\u001b[0m\u001b[0;34m.\u001b[0m\u001b[0mlogs_for_job\u001b[0m\u001b[0;34m(\u001b[0m\u001b[0mself\u001b[0m\u001b[0;34m.\u001b[0m\u001b[0mjob_name\u001b[0m\u001b[0;34m,\u001b[0m \u001b[0mwait\u001b[0m\u001b[0;34m=\u001b[0m\u001b[0;32mTrue\u001b[0m\u001b[0;34m,\u001b[0m \u001b[0mlog_type\u001b[0m\u001b[0;34m=\u001b[0m\u001b[0mlogs\u001b[0m\u001b[0;34m)\u001b[0m\u001b[0;34m\u001b[0m\u001b[0;34m\u001b[0m\u001b[0m\n\u001b[0m\u001b[1;32m   1592\u001b[0m         \u001b[0;32melse\u001b[0m\u001b[0;34m:\u001b[0m\u001b[0;34m\u001b[0m\u001b[0;34m\u001b[0m\u001b[0m\n\u001b[1;32m   1593\u001b[0m             \u001b[0mself\u001b[0m\u001b[0;34m.\u001b[0m\u001b[0msagemaker_session\u001b[0m\u001b[0;34m.\u001b[0m\u001b[0mwait_for_job\u001b[0m\u001b[0;34m(\u001b[0m\u001b[0mself\u001b[0m\u001b[0;34m.\u001b[0m\u001b[0mjob_name\u001b[0m\u001b[0;34m)\u001b[0m\u001b[0;34m\u001b[0m\u001b[0;34m\u001b[0m\u001b[0m\n",
      "\u001b[0;32m/opt/conda/lib/python3.6/site-packages/sagemaker/session.py\u001b[0m in \u001b[0;36mlogs_for_job\u001b[0;34m(self, job_name, wait, poll, log_type)\u001b[0m\n\u001b[1;32m   3598\u001b[0m                 \u001b[0;32mbreak\u001b[0m\u001b[0;34m\u001b[0m\u001b[0;34m\u001b[0m\u001b[0m\n\u001b[1;32m   3599\u001b[0m \u001b[0;34m\u001b[0m\u001b[0m\n\u001b[0;32m-> 3600\u001b[0;31m             \u001b[0mtime\u001b[0m\u001b[0;34m.\u001b[0m\u001b[0msleep\u001b[0m\u001b[0;34m(\u001b[0m\u001b[0mpoll\u001b[0m\u001b[0;34m)\u001b[0m\u001b[0;34m\u001b[0m\u001b[0;34m\u001b[0m\u001b[0m\n\u001b[0m\u001b[1;32m   3601\u001b[0m \u001b[0;34m\u001b[0m\u001b[0m\n\u001b[1;32m   3602\u001b[0m             \u001b[0;32mif\u001b[0m \u001b[0mstate\u001b[0m \u001b[0;34m==\u001b[0m \u001b[0mLogState\u001b[0m\u001b[0;34m.\u001b[0m\u001b[0mJOB_COMPLETE\u001b[0m\u001b[0;34m:\u001b[0m\u001b[0;34m\u001b[0m\u001b[0;34m\u001b[0m\u001b[0m\n",
      "\u001b[0;31mKeyboardInterrupt\u001b[0m: "
     ]
    }
   ],
   "source": [
    "from sagemaker.pytorch import PyTorch\n",
    "from sagemaker.estimator import Estimator\n",
    "from sagemaker.debugger import TensorBoardOutputConfig\n",
    "\n",
    "\n",
    "\n",
    "\n",
    "tensorboard_output_config = TensorBoardOutputConfig(\n",
    "    s3_output_path='s3://{}/tensorboard'.format(bucket),\n",
    "    container_local_output_path='/lightning_logs'\n",
    ")\n",
    "\n",
    "spot_estimator  = PyTorch(entry_point='TFT_docker/TFT.py',\n",
    "                            dependencies=['TFT_docker/requirements.txt'],\n",
    "                            role=role,\n",
    "                            framework_version='1.7.1',\n",
    "                            py_version='py3',\n",
    "                            instance_count=1,\n",
    "#                             instance_type='local',\n",
    "#                             instance_type='ml.p3.2xlarge',\n",
    "                            # instance_type='ml.p2.xlarge',\n",
    "                            # instance_type='ml.g4dn.xlarge',\n",
    "                            instance_type='ml.g4dn.2xlarge',\n",
    "                            base_job_name='val-df-no-new-group-id',\n",
    "                            hyperparameters=tft_hyperparameters,\n",
    "                            checkpoint_s3_uri=checkpoint_s3_path,\n",
    "                            debugger_hook_config=False,\n",
    "                            input_mode = 'File',\n",
    "                            use_spot_instances=use_spot_instances,\n",
    "                            max_run=max_run,\n",
    "                            max_wait=max_wait,\n",
    "                            tensorboard_output_config=tensorboard_output_config,\n",
    "                            metric_definitions=[\n",
    "                                   {'Name': 'train:epoch', 'Regex': \"'epoch':(.*?)}\"},\n",
    "                                   {'Name': 'train:loss', 'Regex': \"'train_loss_step':(.*?),\"},\n",
    "                                   {'Name': 'train:SMAPE', 'Regex': \"'train_SMAPE_step':(.*?),\"},\n",
    "                                   {'Name': 'train:MAE', 'Regex': \"'train_MAE_step':(.*?),\"},\n",
    "                                   {'Name': 'train:RMSE', 'Regex': \"'train_RMSE_step':(.*?),\"},\n",
    "                                   {'Name': 'train:MAPE', 'Regex': \"'train_MAPE_step':(.*?),\"},\n",
    "                                   {'Name': 'val:loss', 'Regex': \"'val_loss':(.*?),\"},\n",
    "                                   {'Name': 'val:SMAPE', 'Regex': \"'val_SMAPE':(.*?),\"},\n",
    "                                   {'Name': 'val:MAE', 'Regex': \"'val_MAE':(.*?),\"},\n",
    "                                   {'Name': 'val:RMSE', 'Regex': \"'val_RMSE':(.*?),\"},\n",
    "                                   {'Name': 'val:MAPE', 'Regex': \"'val_MAPE':(.*?),\"},\n",
    "                                ]\n",
    "                           )\n",
    "\n",
    "spot_estimator.fit(\n",
    "                inputs,\n",
    "                logs = 'All'\n",
    "            )"
   ]
  },
  {
   "cell_type": "markdown",
   "id": "a1a8513e",
   "metadata": {},
   "source": [
    "## Hyperparameter Tuning"
   ]
  },
  {
   "cell_type": "code",
   "execution_count": null,
   "id": "fb6aa946",
   "metadata": {},
   "outputs": [
    {
     "name": "stderr",
     "output_type": "stream",
     "text": [
      "No finished training job found associated with this estimator. Please make sure this estimator is only used for building workflow config\n"
     ]
    },
    {
     "name": "stdout",
     "output_type": "stream",
     "text": [
      "............................................................................................................................."
     ]
    }
   ],
   "source": [
    "from sagemaker.tuner import IntegerParameter, CategoricalParameter, ContinuousParameter, HyperparameterTuner\n",
    "from sagemaker.tuner import WarmStartConfig,WarmStartTypes\n",
    "\n",
    "hyperparameter_ranges = {\n",
    "    'dropout-rate' : ContinuousParameter(0.00001, 0.01, scaling_type=\"Logarithmic\"),\n",
    "    'learning-rate' : ContinuousParameter(0.00001, 0.01, scaling_type=\"Logarithmic\"),\n",
    "    'minibatch-size' : IntegerParameter(64, 256),\n",
    "    'max-gradient-norm' : ContinuousParameter(0.00001, 0.01, scaling_type=\"Logarithmic\"),\n",
    "}\n",
    "\n",
    "parent_tuning_job_name = \"pytorch-training-220906-0950\"\n",
    "warm_start_config = WarmStartConfig(warm_start_type=WarmStartTypes.IDENTICAL_DATA_AND_ALGORITHM, parents={parent_tuning_job_name})\n",
    "\n",
    "\n",
    "objective_metric_name = 'val:RMSE'\n",
    "objective_type = \"Minimize\"\n",
    "metric_definitions = [\n",
    "                       {'Name': 'train:epoch', 'Regex': \"'epoch':(.*?),\"},\n",
    "                       {'Name': 'train:loss', 'Regex': \"'train_loss_epoch':(.*?),\"},\n",
    "                       {'Name': 'train:SMAPE', 'Regex': \"'train_SMAPE_epoch':(.*?),\"},\n",
    "                       {'Name': 'train:MAE', 'Regex': \"'train_MAE_epoch':(.*?),\"},\n",
    "                       {'Name': 'train:RMSE', 'Regex': \"'train_RMSE_epoch':(.*?),\"},\n",
    "                       {'Name': 'train:MAPE', 'Regex': \"'train_MAPE_epoch':(.*?),\"},\n",
    "                       {'Name': 'val:loss', 'Regex': \"'val_loss':(.*?),\"},\n",
    "                       {'Name': 'val:SMAPE', 'Regex': \"'val_SMAPE':(.*?),\"},\n",
    "                       {'Name': 'val:MAE', 'Regex': \"'val_MAE':(.*?),\"},\n",
    "                       {'Name': 'val:RMSE', 'Regex': \"'val_RMSE':(.*?),\"},\n",
    "                       {'Name': 'val:MAPE', 'Regex': \"'val_MAPE':(.*?),\"},\n",
    "                    ]\n",
    "hpo_tuner = HyperparameterTuner(\n",
    "            spot_estimator,\n",
    "            objective_metric_name,\n",
    "            hyperparameter_ranges,\n",
    "            metric_definitions,\n",
    "            max_jobs = 50,\n",
    "            max_parallel_jobs = 1,\n",
    "            objective_type = objective_type,\n",
    "    \n",
    "            base_tuning_job_name='warmstart',\n",
    "            warm_start_config=warm_start_config,\n",
    "        )\n",
    "\n",
    "\n",
    "hpo_tuner.fit(inputs)"
   ]
  },
  {
   "cell_type": "markdown",
   "id": "af978008",
   "metadata": {},
   "source": [
    "# Test the model on testing data"
   ]
  },
  {
   "cell_type": "markdown",
   "id": "7f8cb117",
   "metadata": {},
   "source": [
    "#### Using model.tar.gz file after model completion (last checkpoint)"
   ]
  },
  {
   "cell_type": "code",
   "execution_count": 22,
   "id": "1be05bba",
   "metadata": {},
   "outputs": [
    {
     "data": {
      "text/plain": [
       "'s3://sagemaker-us-east-1-551329315830/tft-pytorch-spot-1-2022-09-05-13-26-13-257/output/model.tar.gz'"
      ]
     },
     "execution_count": 22,
     "metadata": {},
     "output_type": "execute_result"
    }
   ],
   "source": [
    "model_s3_path = spot_estimator.model_data\n",
    "model_s3_path"
   ]
  },
  {
   "cell_type": "code",
   "execution_count": 23,
   "id": "669ca57e",
   "metadata": {},
   "outputs": [],
   "source": [
    "# model_s3_path = 's3://sagemaker-us-east-1-551329315830/tft-pytorch-spot-1-2022-08-26-15-38-14-680/output/model.tar.gz'"
   ]
  },
  {
   "cell_type": "code",
   "execution_count": 24,
   "id": "8f255c39",
   "metadata": {},
   "outputs": [],
   "source": [
    "from sagemaker.s3 import S3Downloader\n",
    "import tarfile\n",
    "from pytorch_forecasting import TemporalFusionTransformer\n",
    "\n",
    "def download_data_from_s3(s3_uri, sagemaker_session):\n",
    "    S3Downloader.download(\n",
    "                        s3_uri=s3_uri, \n",
    "                        local_path = \"./trained_model_artifact\",\n",
    "                        sagemaker_session=sagemaker_session\n",
    "                )\n",
    "    return \"./trained_model_artifact/model.tar.gz\"\n",
    "\n",
    "model_path = download_data_from_s3(model_s3_path, sagemaker_session)\n",
    "tar = tarfile.open(model_path, \"r:gz\")\n",
    "\n",
    "checkpointed_model = TemporalFusionTransformer.load_from_checkpoint(tar.extractfile(member=tar.getmember(name=\"model_trainer.ckpt\")))\n",
    "best_tft = checkpointed_model\n"
   ]
  },
  {
   "cell_type": "markdown",
   "id": "8f5193e3",
   "metadata": {},
   "source": [
    "## Using best model checkpoint \".ckpt\" file"
   ]
  },
  {
   "cell_type": "code",
   "execution_count": 12,
   "id": "8d8aaca3",
   "metadata": {},
   "outputs": [],
   "source": [
    "# from pytorch_forecasting import TemporalFusionTransformer\n",
    "checkpt_path = 's3://sagemaker-us-east-1-049151007956/checkpoints/checkpoint-b7f2c046/epoch=1-val_RMSE=2.00.ckpt'\n",
    "checkpointed_model = TemporalFusionTransformer.load_from_checkpoint(checkpt_path)\n",
    "best_tft = checkpointed_model"
   ]
  },
  {
   "cell_type": "markdown",
   "id": "916710a8-ab8c-4cff-a110-4898d276e21e",
   "metadata": {},
   "source": [
    "### Check validation loss using training object"
   ]
  },
  {
   "cell_type": "code",
   "execution_count": 17,
   "id": "fdda5840-73ee-4e53-b33a-3dde9ddc40bb",
   "metadata": {},
   "outputs": [
    {
     "name": "stderr",
     "output_type": "stream",
     "text": [
      "/opt/conda/lib/python3.6/site-packages/pytorch_lightning/trainer/connectors/callback_connector.py:91: LightningDeprecationWarning: Setting `Trainer(progress_bar_refresh_rate=0)` is deprecated in v1.5 and will be removed in v1.7. Please pass `pytorch_lightning.callbacks.progress.TQDMProgressBar` with `refresh_rate` directly to the Trainer's `callbacks` argument instead. Or, to disable the progress bar pass `enable_progress_bar = False` to the Trainer.\n",
      "  f\"Setting `Trainer(progress_bar_refresh_rate={progress_bar_refresh_rate})` is deprecated in v1.5 and\"\n",
      "GPU available: False, used: False\n",
      "TPU available: False, using: 0 TPU cores\n",
      "IPU available: False, using: 0 IPUs\n"
     ]
    }
   ],
   "source": [
    "import pytorch_lightning as pl\n",
    "\n",
    "trainer = pl.Trainer(\n",
    "            max_epochs= tft_hyperparameters['num-epochs'],\n",
    "            accelerator= \"auto\",\n",
    "            devices= \"auto\",\n",
    "            weights_summary=\"top\",\n",
    "            gradient_clip_val= tft_hyperparameters['max-gradient-norm'],\n",
    "            progress_bar_refresh_rate=0,                     # disable tqdm progress bar (log is annoying in Sagemaker)\n",
    "        )"
   ]
  },
  {
   "cell_type": "code",
   "execution_count": 18,
   "id": "466ca131-bd9d-47a2-bb5d-648bdbd5e03f",
   "metadata": {},
   "outputs": [
    {
     "ename": "RuntimeError",
     "evalue": "Found no NVIDIA driver on your system. Please check that you have an NVIDIA GPU and installed a driver from http://www.nvidia.com/Download/index.aspx",
     "output_type": "error",
     "traceback": [
      "\u001b[0;31m---------------------------------------------------------------------------\u001b[0m",
      "\u001b[0;31mRuntimeError\u001b[0m                              Traceback (most recent call last)",
      "\u001b[0;32m<ipython-input-18-7646194ac332>\u001b[0m in \u001b[0;36m<module>\u001b[0;34m\u001b[0m\n\u001b[1;32m      2\u001b[0m         \u001b[0mmodel\u001b[0m \u001b[0;34m=\u001b[0m \u001b[0mbest_tft\u001b[0m\u001b[0;34m,\u001b[0m\u001b[0;34m\u001b[0m\u001b[0;34m\u001b[0m\u001b[0m\n\u001b[1;32m      3\u001b[0m         \u001b[0mdataloaders\u001b[0m \u001b[0;34m=\u001b[0m \u001b[0mval_dataloader\u001b[0m\u001b[0;34m,\u001b[0m\u001b[0;34m\u001b[0m\u001b[0;34m\u001b[0m\u001b[0m\n\u001b[0;32m----> 4\u001b[0;31m         \u001b[0mverbose\u001b[0m \u001b[0;34m=\u001b[0m \u001b[0;32mTrue\u001b[0m\u001b[0;34m\u001b[0m\u001b[0;34m\u001b[0m\u001b[0m\n\u001b[0m\u001b[1;32m      5\u001b[0m     )\n",
      "\u001b[0;32m/opt/conda/lib/python3.6/site-packages/pytorch_lightning/trainer/trainer.py\u001b[0m in \u001b[0;36mvalidate\u001b[0;34m(self, model, dataloaders, ckpt_path, verbose, datamodule, val_dataloaders)\u001b[0m\n\u001b[1;32m    819\u001b[0m             )\n\u001b[1;32m    820\u001b[0m             \u001b[0mdataloaders\u001b[0m \u001b[0;34m=\u001b[0m \u001b[0mval_dataloaders\u001b[0m\u001b[0;34m\u001b[0m\u001b[0;34m\u001b[0m\u001b[0m\n\u001b[0;32m--> 821\u001b[0;31m         \u001b[0;32mreturn\u001b[0m \u001b[0mself\u001b[0m\u001b[0;34m.\u001b[0m\u001b[0m_call_and_handle_interrupt\u001b[0m\u001b[0;34m(\u001b[0m\u001b[0mself\u001b[0m\u001b[0;34m.\u001b[0m\u001b[0m_validate_impl\u001b[0m\u001b[0;34m,\u001b[0m \u001b[0mmodel\u001b[0m\u001b[0;34m,\u001b[0m \u001b[0mdataloaders\u001b[0m\u001b[0;34m,\u001b[0m \u001b[0mckpt_path\u001b[0m\u001b[0;34m,\u001b[0m \u001b[0mverbose\u001b[0m\u001b[0;34m,\u001b[0m \u001b[0mdatamodule\u001b[0m\u001b[0;34m)\u001b[0m\u001b[0;34m\u001b[0m\u001b[0;34m\u001b[0m\u001b[0m\n\u001b[0m\u001b[1;32m    822\u001b[0m \u001b[0;34m\u001b[0m\u001b[0m\n\u001b[1;32m    823\u001b[0m     def _validate_impl(\n",
      "\u001b[0;32m/opt/conda/lib/python3.6/site-packages/pytorch_lightning/trainer/trainer.py\u001b[0m in \u001b[0;36m_call_and_handle_interrupt\u001b[0;34m(self, trainer_fn, *args, **kwargs)\u001b[0m\n\u001b[1;32m    683\u001b[0m         \"\"\"\n\u001b[1;32m    684\u001b[0m         \u001b[0;32mtry\u001b[0m\u001b[0;34m:\u001b[0m\u001b[0;34m\u001b[0m\u001b[0;34m\u001b[0m\u001b[0m\n\u001b[0;32m--> 685\u001b[0;31m             \u001b[0;32mreturn\u001b[0m \u001b[0mtrainer_fn\u001b[0m\u001b[0;34m(\u001b[0m\u001b[0;34m*\u001b[0m\u001b[0margs\u001b[0m\u001b[0;34m,\u001b[0m \u001b[0;34m**\u001b[0m\u001b[0mkwargs\u001b[0m\u001b[0;34m)\u001b[0m\u001b[0;34m\u001b[0m\u001b[0;34m\u001b[0m\u001b[0m\n\u001b[0m\u001b[1;32m    686\u001b[0m         \u001b[0;31m# TODO: treat KeyboardInterrupt as BaseException (delete the code below) in v1.7\u001b[0m\u001b[0;34m\u001b[0m\u001b[0;34m\u001b[0m\u001b[0;34m\u001b[0m\u001b[0m\n\u001b[1;32m    687\u001b[0m         \u001b[0;32mexcept\u001b[0m \u001b[0mKeyboardInterrupt\u001b[0m \u001b[0;32mas\u001b[0m \u001b[0mexception\u001b[0m\u001b[0;34m:\u001b[0m\u001b[0;34m\u001b[0m\u001b[0;34m\u001b[0m\u001b[0m\n",
      "\u001b[0;32m/opt/conda/lib/python3.6/site-packages/pytorch_lightning/trainer/trainer.py\u001b[0m in \u001b[0;36m_validate_impl\u001b[0;34m(self, model, dataloaders, ckpt_path, verbose, datamodule)\u001b[0m\n\u001b[1;32m    862\u001b[0m \u001b[0;34m\u001b[0m\u001b[0m\n\u001b[1;32m    863\u001b[0m         \u001b[0;31m# run validate\u001b[0m\u001b[0;34m\u001b[0m\u001b[0;34m\u001b[0m\u001b[0;34m\u001b[0m\u001b[0m\n\u001b[0;32m--> 864\u001b[0;31m         \u001b[0mresults\u001b[0m \u001b[0;34m=\u001b[0m \u001b[0mself\u001b[0m\u001b[0;34m.\u001b[0m\u001b[0m_run\u001b[0m\u001b[0;34m(\u001b[0m\u001b[0mmodel\u001b[0m\u001b[0;34m,\u001b[0m \u001b[0mckpt_path\u001b[0m\u001b[0;34m=\u001b[0m\u001b[0mself\u001b[0m\u001b[0;34m.\u001b[0m\u001b[0mvalidated_ckpt_path\u001b[0m\u001b[0;34m)\u001b[0m\u001b[0;34m\u001b[0m\u001b[0;34m\u001b[0m\u001b[0m\n\u001b[0m\u001b[1;32m    865\u001b[0m \u001b[0;34m\u001b[0m\u001b[0m\n\u001b[1;32m    866\u001b[0m         \u001b[0;32massert\u001b[0m \u001b[0mself\u001b[0m\u001b[0;34m.\u001b[0m\u001b[0mstate\u001b[0m\u001b[0;34m.\u001b[0m\u001b[0mstopped\u001b[0m\u001b[0;34m\u001b[0m\u001b[0;34m\u001b[0m\u001b[0m\n",
      "\u001b[0;32m/opt/conda/lib/python3.6/site-packages/pytorch_lightning/trainer/trainer.py\u001b[0m in \u001b[0;36m_run\u001b[0;34m(self, model, ckpt_path)\u001b[0m\n\u001b[1;32m   1143\u001b[0m \u001b[0;34m\u001b[0m\u001b[0m\n\u001b[1;32m   1144\u001b[0m         \u001b[0mself\u001b[0m\u001b[0;34m.\u001b[0m\u001b[0m_call_configure_sharded_model\u001b[0m\u001b[0;34m(\u001b[0m\u001b[0;34m)\u001b[0m  \u001b[0;31m# allow user to setup in model sharded environment\u001b[0m\u001b[0;34m\u001b[0m\u001b[0;34m\u001b[0m\u001b[0m\n\u001b[0;32m-> 1145\u001b[0;31m         \u001b[0mself\u001b[0m\u001b[0;34m.\u001b[0m\u001b[0maccelerator\u001b[0m\u001b[0;34m.\u001b[0m\u001b[0msetup\u001b[0m\u001b[0;34m(\u001b[0m\u001b[0mself\u001b[0m\u001b[0;34m)\u001b[0m\u001b[0;34m\u001b[0m\u001b[0;34m\u001b[0m\u001b[0m\n\u001b[0m\u001b[1;32m   1146\u001b[0m \u001b[0;34m\u001b[0m\u001b[0m\n\u001b[1;32m   1147\u001b[0m         \u001b[0;31m# ----------------------------\u001b[0m\u001b[0;34m\u001b[0m\u001b[0;34m\u001b[0m\u001b[0;34m\u001b[0m\u001b[0m\n",
      "\u001b[0;32m/opt/conda/lib/python3.6/site-packages/pytorch_lightning/accelerators/cpu.py\u001b[0m in \u001b[0;36msetup\u001b[0;34m(self, trainer)\u001b[0m\n\u001b[1;32m     33\u001b[0m             \u001b[0;32mraise\u001b[0m \u001b[0mMisconfigurationException\u001b[0m\u001b[0;34m(\u001b[0m\u001b[0;34mf\"Device should be CPU, got {self.root_device} instead.\"\u001b[0m\u001b[0;34m)\u001b[0m\u001b[0;34m\u001b[0m\u001b[0;34m\u001b[0m\u001b[0m\n\u001b[1;32m     34\u001b[0m \u001b[0;34m\u001b[0m\u001b[0m\n\u001b[0;32m---> 35\u001b[0;31m         \u001b[0;32mreturn\u001b[0m \u001b[0msuper\u001b[0m\u001b[0;34m(\u001b[0m\u001b[0;34m)\u001b[0m\u001b[0;34m.\u001b[0m\u001b[0msetup\u001b[0m\u001b[0;34m(\u001b[0m\u001b[0mtrainer\u001b[0m\u001b[0;34m)\u001b[0m\u001b[0;34m\u001b[0m\u001b[0;34m\u001b[0m\u001b[0m\n\u001b[0m\u001b[1;32m     36\u001b[0m \u001b[0;34m\u001b[0m\u001b[0m\n\u001b[1;32m     37\u001b[0m     \u001b[0;32mdef\u001b[0m \u001b[0mget_device_stats\u001b[0m\u001b[0;34m(\u001b[0m\u001b[0mself\u001b[0m\u001b[0;34m,\u001b[0m \u001b[0mdevice\u001b[0m\u001b[0;34m:\u001b[0m \u001b[0mUnion\u001b[0m\u001b[0;34m[\u001b[0m\u001b[0mstr\u001b[0m\u001b[0;34m,\u001b[0m \u001b[0mtorch\u001b[0m\u001b[0;34m.\u001b[0m\u001b[0mdevice\u001b[0m\u001b[0;34m]\u001b[0m\u001b[0;34m)\u001b[0m \u001b[0;34m->\u001b[0m \u001b[0mDict\u001b[0m\u001b[0;34m[\u001b[0m\u001b[0mstr\u001b[0m\u001b[0;34m,\u001b[0m \u001b[0mAny\u001b[0m\u001b[0;34m]\u001b[0m\u001b[0;34m:\u001b[0m\u001b[0;34m\u001b[0m\u001b[0;34m\u001b[0m\u001b[0m\n",
      "\u001b[0;32m/opt/conda/lib/python3.6/site-packages/pytorch_lightning/accelerators/accelerator.py\u001b[0m in \u001b[0;36msetup\u001b[0;34m(self, trainer)\u001b[0m\n\u001b[1;32m     89\u001b[0m             \u001b[0mtrainer\u001b[0m\u001b[0;34m:\u001b[0m \u001b[0mthe\u001b[0m \u001b[0mtrainer\u001b[0m \u001b[0minstance\u001b[0m\u001b[0;34m\u001b[0m\u001b[0;34m\u001b[0m\u001b[0m\n\u001b[1;32m     90\u001b[0m         \"\"\"\n\u001b[0;32m---> 91\u001b[0;31m         \u001b[0mself\u001b[0m\u001b[0;34m.\u001b[0m\u001b[0msetup_training_type_plugin\u001b[0m\u001b[0;34m(\u001b[0m\u001b[0;34m)\u001b[0m\u001b[0;34m\u001b[0m\u001b[0;34m\u001b[0m\u001b[0m\n\u001b[0m\u001b[1;32m     92\u001b[0m         \u001b[0;32mif\u001b[0m \u001b[0;32mnot\u001b[0m \u001b[0mself\u001b[0m\u001b[0;34m.\u001b[0m\u001b[0mtraining_type_plugin\u001b[0m\u001b[0;34m.\u001b[0m\u001b[0msetup_optimizers_in_pre_dispatch\u001b[0m\u001b[0;34m:\u001b[0m\u001b[0;34m\u001b[0m\u001b[0;34m\u001b[0m\u001b[0m\n\u001b[1;32m     93\u001b[0m             \u001b[0mself\u001b[0m\u001b[0;34m.\u001b[0m\u001b[0msetup_optimizers\u001b[0m\u001b[0;34m(\u001b[0m\u001b[0mtrainer\u001b[0m\u001b[0;34m)\u001b[0m\u001b[0;34m\u001b[0m\u001b[0;34m\u001b[0m\u001b[0m\n",
      "\u001b[0;32m/opt/conda/lib/python3.6/site-packages/pytorch_lightning/accelerators/accelerator.py\u001b[0m in \u001b[0;36msetup_training_type_plugin\u001b[0;34m(self)\u001b[0m\n\u001b[1;32m    361\u001b[0m     \u001b[0;32mdef\u001b[0m \u001b[0msetup_training_type_plugin\u001b[0m\u001b[0;34m(\u001b[0m\u001b[0mself\u001b[0m\u001b[0;34m)\u001b[0m \u001b[0;34m->\u001b[0m \u001b[0;32mNone\u001b[0m\u001b[0;34m:\u001b[0m\u001b[0;34m\u001b[0m\u001b[0;34m\u001b[0m\u001b[0m\n\u001b[1;32m    362\u001b[0m         \u001b[0;34m\"\"\"Attaches the training type plugin to the accelerator.\"\"\"\u001b[0m\u001b[0;34m\u001b[0m\u001b[0;34m\u001b[0m\u001b[0m\n\u001b[0;32m--> 363\u001b[0;31m         \u001b[0mself\u001b[0m\u001b[0;34m.\u001b[0m\u001b[0mtraining_type_plugin\u001b[0m\u001b[0;34m.\u001b[0m\u001b[0msetup\u001b[0m\u001b[0;34m(\u001b[0m\u001b[0;34m)\u001b[0m\u001b[0;34m\u001b[0m\u001b[0;34m\u001b[0m\u001b[0m\n\u001b[0m\u001b[1;32m    364\u001b[0m \u001b[0;34m\u001b[0m\u001b[0m\n\u001b[1;32m    365\u001b[0m     \u001b[0;32mdef\u001b[0m \u001b[0msetup_precision_plugin\u001b[0m\u001b[0;34m(\u001b[0m\u001b[0mself\u001b[0m\u001b[0;34m)\u001b[0m \u001b[0;34m->\u001b[0m \u001b[0;32mNone\u001b[0m\u001b[0;34m:\u001b[0m\u001b[0;34m\u001b[0m\u001b[0;34m\u001b[0m\u001b[0m\n",
      "\u001b[0;32m/opt/conda/lib/python3.6/site-packages/pytorch_lightning/plugins/training_type/single_device.py\u001b[0m in \u001b[0;36msetup\u001b[0;34m(self)\u001b[0m\n\u001b[1;32m     69\u001b[0m \u001b[0;34m\u001b[0m\u001b[0m\n\u001b[1;32m     70\u001b[0m     \u001b[0;32mdef\u001b[0m \u001b[0msetup\u001b[0m\u001b[0;34m(\u001b[0m\u001b[0mself\u001b[0m\u001b[0;34m)\u001b[0m \u001b[0;34m->\u001b[0m \u001b[0;32mNone\u001b[0m\u001b[0;34m:\u001b[0m\u001b[0;34m\u001b[0m\u001b[0;34m\u001b[0m\u001b[0m\n\u001b[0;32m---> 71\u001b[0;31m         \u001b[0mself\u001b[0m\u001b[0;34m.\u001b[0m\u001b[0mmodel_to_device\u001b[0m\u001b[0;34m(\u001b[0m\u001b[0;34m)\u001b[0m\u001b[0;34m\u001b[0m\u001b[0;34m\u001b[0m\u001b[0m\n\u001b[0m\u001b[1;32m     72\u001b[0m \u001b[0;34m\u001b[0m\u001b[0m\n\u001b[1;32m     73\u001b[0m     \u001b[0;34m@\u001b[0m\u001b[0mproperty\u001b[0m\u001b[0;34m\u001b[0m\u001b[0;34m\u001b[0m\u001b[0m\n",
      "\u001b[0;32m/opt/conda/lib/python3.6/site-packages/pytorch_lightning/plugins/training_type/single_device.py\u001b[0m in \u001b[0;36mmodel_to_device\u001b[0;34m(self)\u001b[0m\n\u001b[1;32m     66\u001b[0m \u001b[0;34m\u001b[0m\u001b[0m\n\u001b[1;32m     67\u001b[0m     \u001b[0;32mdef\u001b[0m \u001b[0mmodel_to_device\u001b[0m\u001b[0;34m(\u001b[0m\u001b[0mself\u001b[0m\u001b[0;34m)\u001b[0m \u001b[0;34m->\u001b[0m \u001b[0;32mNone\u001b[0m\u001b[0;34m:\u001b[0m\u001b[0;34m\u001b[0m\u001b[0;34m\u001b[0m\u001b[0m\n\u001b[0;32m---> 68\u001b[0;31m         \u001b[0mself\u001b[0m\u001b[0;34m.\u001b[0m\u001b[0m_model\u001b[0m\u001b[0;34m.\u001b[0m\u001b[0mto\u001b[0m\u001b[0;34m(\u001b[0m\u001b[0mself\u001b[0m\u001b[0;34m.\u001b[0m\u001b[0mroot_device\u001b[0m\u001b[0;34m)\u001b[0m\u001b[0;34m\u001b[0m\u001b[0;34m\u001b[0m\u001b[0m\n\u001b[0m\u001b[1;32m     69\u001b[0m \u001b[0;34m\u001b[0m\u001b[0m\n\u001b[1;32m     70\u001b[0m     \u001b[0;32mdef\u001b[0m \u001b[0msetup\u001b[0m\u001b[0;34m(\u001b[0m\u001b[0mself\u001b[0m\u001b[0;34m)\u001b[0m \u001b[0;34m->\u001b[0m \u001b[0;32mNone\u001b[0m\u001b[0;34m:\u001b[0m\u001b[0;34m\u001b[0m\u001b[0;34m\u001b[0m\u001b[0m\n",
      "\u001b[0;32m/opt/conda/lib/python3.6/site-packages/pytorch_lightning/core/mixins/device_dtype_mixin.py\u001b[0m in \u001b[0;36mto\u001b[0;34m(self, *args, **kwargs)\u001b[0m\n\u001b[1;32m    109\u001b[0m         \u001b[0mout\u001b[0m \u001b[0;34m=\u001b[0m \u001b[0mtorch\u001b[0m\u001b[0;34m.\u001b[0m\u001b[0m_C\u001b[0m\u001b[0;34m.\u001b[0m\u001b[0m_nn\u001b[0m\u001b[0;34m.\u001b[0m\u001b[0m_parse_to\u001b[0m\u001b[0;34m(\u001b[0m\u001b[0;34m*\u001b[0m\u001b[0margs\u001b[0m\u001b[0;34m,\u001b[0m \u001b[0;34m**\u001b[0m\u001b[0mkwargs\u001b[0m\u001b[0;34m)\u001b[0m\u001b[0;34m\u001b[0m\u001b[0;34m\u001b[0m\u001b[0m\n\u001b[1;32m    110\u001b[0m         \u001b[0mself\u001b[0m\u001b[0;34m.\u001b[0m\u001b[0m__update_properties\u001b[0m\u001b[0;34m(\u001b[0m\u001b[0mdevice\u001b[0m\u001b[0;34m=\u001b[0m\u001b[0mout\u001b[0m\u001b[0;34m[\u001b[0m\u001b[0;36m0\u001b[0m\u001b[0;34m]\u001b[0m\u001b[0;34m,\u001b[0m \u001b[0mdtype\u001b[0m\u001b[0;34m=\u001b[0m\u001b[0mout\u001b[0m\u001b[0;34m[\u001b[0m\u001b[0;36m1\u001b[0m\u001b[0;34m]\u001b[0m\u001b[0;34m)\u001b[0m\u001b[0;34m\u001b[0m\u001b[0;34m\u001b[0m\u001b[0m\n\u001b[0;32m--> 111\u001b[0;31m         \u001b[0;32mreturn\u001b[0m \u001b[0msuper\u001b[0m\u001b[0;34m(\u001b[0m\u001b[0;34m)\u001b[0m\u001b[0;34m.\u001b[0m\u001b[0mto\u001b[0m\u001b[0;34m(\u001b[0m\u001b[0;34m*\u001b[0m\u001b[0margs\u001b[0m\u001b[0;34m,\u001b[0m \u001b[0;34m**\u001b[0m\u001b[0mkwargs\u001b[0m\u001b[0;34m)\u001b[0m\u001b[0;34m\u001b[0m\u001b[0;34m\u001b[0m\u001b[0m\n\u001b[0m\u001b[1;32m    112\u001b[0m \u001b[0;34m\u001b[0m\u001b[0m\n\u001b[1;32m    113\u001b[0m     \u001b[0;32mdef\u001b[0m \u001b[0mcuda\u001b[0m\u001b[0;34m(\u001b[0m\u001b[0mself\u001b[0m\u001b[0;34m,\u001b[0m \u001b[0mdevice\u001b[0m\u001b[0;34m:\u001b[0m \u001b[0mOptional\u001b[0m\u001b[0;34m[\u001b[0m\u001b[0mUnion\u001b[0m\u001b[0;34m[\u001b[0m\u001b[0mtorch\u001b[0m\u001b[0;34m.\u001b[0m\u001b[0mdevice\u001b[0m\u001b[0;34m,\u001b[0m \u001b[0mint\u001b[0m\u001b[0;34m]\u001b[0m\u001b[0;34m]\u001b[0m \u001b[0;34m=\u001b[0m \u001b[0;32mNone\u001b[0m\u001b[0;34m)\u001b[0m \u001b[0;34m->\u001b[0m \u001b[0;34m\"DeviceDtypeModuleMixin\"\u001b[0m\u001b[0;34m:\u001b[0m\u001b[0;34m\u001b[0m\u001b[0;34m\u001b[0m\u001b[0m\n",
      "\u001b[0;32m/opt/conda/lib/python3.6/site-packages/torch/nn/modules/module.py\u001b[0m in \u001b[0;36mto\u001b[0;34m(self, *args, **kwargs)\u001b[0m\n\u001b[1;32m    897\u001b[0m             \u001b[0;32mreturn\u001b[0m \u001b[0mt\u001b[0m\u001b[0;34m.\u001b[0m\u001b[0mto\u001b[0m\u001b[0;34m(\u001b[0m\u001b[0mdevice\u001b[0m\u001b[0;34m,\u001b[0m \u001b[0mdtype\u001b[0m \u001b[0;32mif\u001b[0m \u001b[0mt\u001b[0m\u001b[0;34m.\u001b[0m\u001b[0mis_floating_point\u001b[0m\u001b[0;34m(\u001b[0m\u001b[0;34m)\u001b[0m \u001b[0;32mor\u001b[0m \u001b[0mt\u001b[0m\u001b[0;34m.\u001b[0m\u001b[0mis_complex\u001b[0m\u001b[0;34m(\u001b[0m\u001b[0;34m)\u001b[0m \u001b[0;32melse\u001b[0m \u001b[0;32mNone\u001b[0m\u001b[0;34m,\u001b[0m \u001b[0mnon_blocking\u001b[0m\u001b[0;34m)\u001b[0m\u001b[0;34m\u001b[0m\u001b[0;34m\u001b[0m\u001b[0m\n\u001b[1;32m    898\u001b[0m \u001b[0;34m\u001b[0m\u001b[0m\n\u001b[0;32m--> 899\u001b[0;31m         \u001b[0;32mreturn\u001b[0m \u001b[0mself\u001b[0m\u001b[0;34m.\u001b[0m\u001b[0m_apply\u001b[0m\u001b[0;34m(\u001b[0m\u001b[0mconvert\u001b[0m\u001b[0;34m)\u001b[0m\u001b[0;34m\u001b[0m\u001b[0;34m\u001b[0m\u001b[0m\n\u001b[0m\u001b[1;32m    900\u001b[0m \u001b[0;34m\u001b[0m\u001b[0m\n\u001b[1;32m    901\u001b[0m     def register_backward_hook(\n",
      "\u001b[0;32m/opt/conda/lib/python3.6/site-packages/torch/nn/modules/module.py\u001b[0m in \u001b[0;36m_apply\u001b[0;34m(self, fn)\u001b[0m\n\u001b[1;32m    568\u001b[0m     \u001b[0;32mdef\u001b[0m \u001b[0m_apply\u001b[0m\u001b[0;34m(\u001b[0m\u001b[0mself\u001b[0m\u001b[0;34m,\u001b[0m \u001b[0mfn\u001b[0m\u001b[0;34m)\u001b[0m\u001b[0;34m:\u001b[0m\u001b[0;34m\u001b[0m\u001b[0;34m\u001b[0m\u001b[0m\n\u001b[1;32m    569\u001b[0m         \u001b[0;32mfor\u001b[0m \u001b[0mmodule\u001b[0m \u001b[0;32min\u001b[0m \u001b[0mself\u001b[0m\u001b[0;34m.\u001b[0m\u001b[0mchildren\u001b[0m\u001b[0;34m(\u001b[0m\u001b[0;34m)\u001b[0m\u001b[0;34m:\u001b[0m\u001b[0;34m\u001b[0m\u001b[0;34m\u001b[0m\u001b[0m\n\u001b[0;32m--> 570\u001b[0;31m             \u001b[0mmodule\u001b[0m\u001b[0;34m.\u001b[0m\u001b[0m_apply\u001b[0m\u001b[0;34m(\u001b[0m\u001b[0mfn\u001b[0m\u001b[0;34m)\u001b[0m\u001b[0;34m\u001b[0m\u001b[0;34m\u001b[0m\u001b[0m\n\u001b[0m\u001b[1;32m    571\u001b[0m \u001b[0;34m\u001b[0m\u001b[0m\n\u001b[1;32m    572\u001b[0m         \u001b[0;32mdef\u001b[0m \u001b[0mcompute_should_use_set_data\u001b[0m\u001b[0;34m(\u001b[0m\u001b[0mtensor\u001b[0m\u001b[0;34m,\u001b[0m \u001b[0mtensor_applied\u001b[0m\u001b[0;34m)\u001b[0m\u001b[0;34m:\u001b[0m\u001b[0;34m\u001b[0m\u001b[0;34m\u001b[0m\u001b[0m\n",
      "\u001b[0;32m/opt/conda/lib/python3.6/site-packages/torchmetrics/metric.py\u001b[0m in \u001b[0;36m_apply\u001b[0;34m(self, fn)\u001b[0m\n\u001b[1;32m    554\u001b[0m         \u001b[0;31m# make sure to update the device attribute\u001b[0m\u001b[0;34m\u001b[0m\u001b[0;34m\u001b[0m\u001b[0;34m\u001b[0m\u001b[0m\n\u001b[1;32m    555\u001b[0m         \u001b[0;31m# if the dummy tensor moves device by fn function we should also update the attribute\u001b[0m\u001b[0;34m\u001b[0m\u001b[0;34m\u001b[0m\u001b[0;34m\u001b[0m\u001b[0m\n\u001b[0;32m--> 556\u001b[0;31m         \u001b[0mself\u001b[0m\u001b[0;34m.\u001b[0m\u001b[0m_device\u001b[0m \u001b[0;34m=\u001b[0m \u001b[0mfn\u001b[0m\u001b[0;34m(\u001b[0m\u001b[0mtorch\u001b[0m\u001b[0;34m.\u001b[0m\u001b[0mzeros\u001b[0m\u001b[0;34m(\u001b[0m\u001b[0;36m1\u001b[0m\u001b[0;34m,\u001b[0m \u001b[0mdevice\u001b[0m\u001b[0;34m=\u001b[0m\u001b[0mself\u001b[0m\u001b[0;34m.\u001b[0m\u001b[0mdevice\u001b[0m\u001b[0;34m)\u001b[0m\u001b[0;34m)\u001b[0m\u001b[0;34m.\u001b[0m\u001b[0mdevice\u001b[0m\u001b[0;34m\u001b[0m\u001b[0;34m\u001b[0m\u001b[0m\n\u001b[0m\u001b[1;32m    557\u001b[0m \u001b[0;34m\u001b[0m\u001b[0m\n\u001b[1;32m    558\u001b[0m         \u001b[0;31m# Additional apply to forward cache and computed attributes (may be nested)\u001b[0m\u001b[0;34m\u001b[0m\u001b[0;34m\u001b[0m\u001b[0;34m\u001b[0m\u001b[0m\n",
      "\u001b[0;32m/opt/conda/lib/python3.6/site-packages/torch/cuda/__init__.py\u001b[0m in \u001b[0;36m_lazy_init\u001b[0;34m()\u001b[0m\n\u001b[1;32m    212\u001b[0m         \u001b[0;31m# This function throws if there's a driver initialization error, no GPUs\u001b[0m\u001b[0;34m\u001b[0m\u001b[0;34m\u001b[0m\u001b[0;34m\u001b[0m\u001b[0m\n\u001b[1;32m    213\u001b[0m         \u001b[0;31m# are found or any other error occurs\u001b[0m\u001b[0;34m\u001b[0m\u001b[0;34m\u001b[0m\u001b[0;34m\u001b[0m\u001b[0m\n\u001b[0;32m--> 214\u001b[0;31m         \u001b[0mtorch\u001b[0m\u001b[0;34m.\u001b[0m\u001b[0m_C\u001b[0m\u001b[0;34m.\u001b[0m\u001b[0m_cuda_init\u001b[0m\u001b[0;34m(\u001b[0m\u001b[0;34m)\u001b[0m\u001b[0;34m\u001b[0m\u001b[0;34m\u001b[0m\u001b[0m\n\u001b[0m\u001b[1;32m    215\u001b[0m         \u001b[0;31m# Some of the queued calls may reentrantly call _lazy_init();\u001b[0m\u001b[0;34m\u001b[0m\u001b[0;34m\u001b[0m\u001b[0;34m\u001b[0m\u001b[0m\n\u001b[1;32m    216\u001b[0m         \u001b[0;31m# we need to just return without initializing in that case.\u001b[0m\u001b[0;34m\u001b[0m\u001b[0;34m\u001b[0m\u001b[0;34m\u001b[0m\u001b[0m\n",
      "\u001b[0;31mRuntimeError\u001b[0m: Found no NVIDIA driver on your system. Please check that you have an NVIDIA GPU and installed a driver from http://www.nvidia.com/Download/index.aspx"
     ]
    }
   ],
   "source": [
    "trainer.validate(\n",
    "        model = best_tft,\n",
    "        dataloaders = val_dataloader,\n",
    "        verbose = True\n",
    "    )"
   ]
  },
  {
   "cell_type": "markdown",
   "id": "4e543fd4-86ff-49dc-84f4-3f0c5e99347b",
   "metadata": {},
   "source": [
    "### Misc"
   ]
  },
  {
   "cell_type": "code",
   "execution_count": 13,
   "id": "79bb2217",
   "metadata": {
    "collapsed": true,
    "jupyter": {
     "outputs_hidden": true
    },
    "scrolled": true,
    "tags": []
   },
   "outputs": [
    {
     "name": "stdout",
     "output_type": "stream",
     "text": [
      "19265\n"
     ]
    },
    {
     "name": "stderr",
     "output_type": "stream",
     "text": [
      "/opt/conda/lib/python3.6/site-packages/pytorch_forecasting/data/encoders.py:121: UserWarning: Found 46049 unknown classes which were set to NaN\n",
      "  UserWarning,\n",
      "/opt/conda/lib/python3.6/site-packages/pytorch_forecasting/data/encoders.py:121: UserWarning: Found 374 unknown classes which were set to NaN\n",
      "  UserWarning,\n",
      "/opt/conda/lib/python3.6/site-packages/pytorch_forecasting/data/encoders.py:121: UserWarning: Found 1 unknown classes which were set to NaN\n",
      "  UserWarning,\n",
      "/opt/conda/lib/python3.6/site-packages/pytorch_forecasting/data/encoders.py:121: UserWarning: Found 1108 unknown classes which were set to NaN\n",
      "  UserWarning,\n",
      "/opt/conda/lib/python3.6/site-packages/pytorch_forecasting/data/encoders.py:121: UserWarning: Found 21 unknown classes which were set to NaN\n",
      "  UserWarning,\n",
      "/opt/conda/lib/python3.6/site-packages/pytorch_forecasting/data/encoders.py:121: UserWarning: Found 26 unknown classes which were set to NaN\n",
      "  UserWarning,\n",
      "/opt/conda/lib/python3.6/site-packages/pytorch_forecasting/data/encoders.py:121: UserWarning: Found 74 unknown classes which were set to NaN\n",
      "  UserWarning,\n",
      "/opt/conda/lib/python3.6/site-packages/pytorch_forecasting/data/encoders.py:121: UserWarning: Found 145 unknown classes which were set to NaN\n",
      "  UserWarning,\n",
      "/opt/conda/lib/python3.6/site-packages/pytorch_forecasting/data/encoders.py:121: UserWarning: Found 6 unknown classes which were set to NaN\n",
      "  UserWarning,\n",
      "/opt/conda/lib/python3.6/site-packages/pytorch_forecasting/data/timeseries.py:1244: UserWarning: Min encoder length and/or min_prediction_idx and/or min prediction length and/or lags are too large for 440190 series/groups which therefore are not present in the dataset index. This means no predictions can be made for those series. First 10 removed groups: [{'__group_id__PRODCODE': '30000091', '__group_id__PLANT': '1113', '__group_id__DISCHAN': '10', '__group_id__PR_GROUP': 'PR0000001', '__group_id__MATERIAL': '3', '__group_id__TYPE_JEWEL': '0', '__group_id__STONES': '00'}, {'__group_id__PRODCODE': '30000522', '__group_id__PLANT': '1135', '__group_id__DISCHAN': '10', '__group_id__PR_GROUP': 'PR0000001', '__group_id__MATERIAL': '3', '__group_id__TYPE_JEWEL': '0', '__group_id__STONES': '00'}, {'__group_id__PRODCODE': '30004960', '__group_id__PLANT': '1291', '__group_id__DISCHAN': '10', '__group_id__PR_GROUP': 'PR0000001', '__group_id__MATERIAL': '3', '__group_id__TYPE_JEWEL': '0', '__group_id__STONES': '00'}, {'__group_id__PRODCODE': '31000217', '__group_id__PLANT': '1448', '__group_id__DISCHAN': '10', '__group_id__PR_GROUP': 'PR0000003', '__group_id__MATERIAL': '3', '__group_id__TYPE_JEWEL': '1', '__group_id__STONES': '00'}, {'__group_id__PRODCODE': '40000007', '__group_id__PLANT': '1014', '__group_id__DISCHAN': '10', '__group_id__PR_GROUP': 'PCM000001', '__group_id__MATERIAL': '4', '__group_id__TYPE_JEWEL': '0', '__group_id__STONES': '00'}, {'__group_id__PRODCODE': '40000011', '__group_id__PLANT': '1014', '__group_id__DISCHAN': '10', '__group_id__PR_GROUP': 'PCM000001', '__group_id__MATERIAL': '4', '__group_id__TYPE_JEWEL': '0', '__group_id__STONES': '00'}, {'__group_id__PRODCODE': '40000014', '__group_id__PLANT': '1299', '__group_id__DISCHAN': '10', '__group_id__PR_GROUP': 'PCM000001', '__group_id__MATERIAL': '4', '__group_id__TYPE_JEWEL': '0', '__group_id__STONES': '00'}, {'__group_id__PRODCODE': '40000014', '__group_id__PLANT': '1439', '__group_id__DISCHAN': '10', '__group_id__PR_GROUP': 'PCM000001', '__group_id__MATERIAL': '4', '__group_id__TYPE_JEWEL': '0', '__group_id__STONES': '00'}, {'__group_id__PRODCODE': '40000014', '__group_id__PLANT': '1456', '__group_id__DISCHAN': '10', '__group_id__PR_GROUP': 'PCM000001', '__group_id__MATERIAL': '4', '__group_id__TYPE_JEWEL': '0', '__group_id__STONES': '00'}, {'__group_id__PRODCODE': '40000014', '__group_id__PLANT': '1485', '__group_id__DISCHAN': '10', '__group_id__PR_GROUP': 'PCM000001', '__group_id__MATERIAL': '4', '__group_id__TYPE_JEWEL': '0', '__group_id__STONES': '00'}]\n",
      "  UserWarning,\n",
      "/opt/conda/lib/python3.6/site-packages/pytorch_forecasting/data/timeseries.py:1657: UserWarning: Creating a tensor from a list of numpy.ndarrays is extremely slow. Please consider converting the list to a single numpy.ndarray with numpy.array() before converting to a tensor. (Triggered internally at  ../torch/csrc/utils/tensor_new.cpp:201.)\n",
      "  target_scale = torch.tensor([batch[0][\"target_scale\"] for batch in batches], dtype=torch.float)\n"
     ]
    },
    {
     "data": {
      "text/html": [
       "<div>\n",
       "<style scoped>\n",
       "    .dataframe tbody tr th:only-of-type {\n",
       "        vertical-align: middle;\n",
       "    }\n",
       "\n",
       "    .dataframe tbody tr th {\n",
       "        vertical-align: top;\n",
       "    }\n",
       "\n",
       "    .dataframe thead th {\n",
       "        text-align: right;\n",
       "    }\n",
       "</style>\n",
       "<table border=\"1\" class=\"dataframe\">\n",
       "  <thead>\n",
       "    <tr style=\"text-align: right;\">\n",
       "      <th></th>\n",
       "      <th>time_idx</th>\n",
       "      <th>PRODCODE</th>\n",
       "      <th>PLANT</th>\n",
       "      <th>DISCHAN</th>\n",
       "      <th>PR_GROUP</th>\n",
       "      <th>MATERIAL</th>\n",
       "      <th>TYPE_JEWEL</th>\n",
       "      <th>STONES</th>\n",
       "    </tr>\n",
       "  </thead>\n",
       "  <tbody>\n",
       "    <tr>\n",
       "      <th>0</th>\n",
       "      <td>19258</td>\n",
       "      <td>40000007</td>\n",
       "      <td>1012</td>\n",
       "      <td>10</td>\n",
       "      <td>PCM000001</td>\n",
       "      <td>4</td>\n",
       "      <td>0</td>\n",
       "      <td>00</td>\n",
       "    </tr>\n",
       "    <tr>\n",
       "      <th>1</th>\n",
       "      <td>19258</td>\n",
       "      <td>40000007</td>\n",
       "      <td>1269</td>\n",
       "      <td>10</td>\n",
       "      <td>PCM000001</td>\n",
       "      <td>4</td>\n",
       "      <td>0</td>\n",
       "      <td>00</td>\n",
       "    </tr>\n",
       "    <tr>\n",
       "      <th>2</th>\n",
       "      <td>19145</td>\n",
       "      <td>40000682</td>\n",
       "      <td>1526</td>\n",
       "      <td>10</td>\n",
       "      <td>PCM000001</td>\n",
       "      <td>4</td>\n",
       "      <td>0</td>\n",
       "      <td>00</td>\n",
       "    </tr>\n",
       "    <tr>\n",
       "      <th>3</th>\n",
       "      <td>19145</td>\n",
       "      <td>40000683</td>\n",
       "      <td>1526</td>\n",
       "      <td>10</td>\n",
       "      <td>PCM000001</td>\n",
       "      <td>4</td>\n",
       "      <td>0</td>\n",
       "      <td>00</td>\n",
       "    </tr>\n",
       "    <tr>\n",
       "      <th>4</th>\n",
       "      <td>19141</td>\n",
       "      <td>40000685</td>\n",
       "      <td>1526</td>\n",
       "      <td>10</td>\n",
       "      <td>PCM000001</td>\n",
       "      <td>4</td>\n",
       "      <td>0</td>\n",
       "      <td>00</td>\n",
       "    </tr>\n",
       "    <tr>\n",
       "      <th>...</th>\n",
       "      <td>...</td>\n",
       "      <td>...</td>\n",
       "      <td>...</td>\n",
       "      <td>...</td>\n",
       "      <td>...</td>\n",
       "      <td>...</td>\n",
       "      <td>...</td>\n",
       "      <td>...</td>\n",
       "    </tr>\n",
       "    <tr>\n",
       "      <th>121108</th>\n",
       "      <td>19229</td>\n",
       "      <td>WTI00000452</td>\n",
       "      <td>1484</td>\n",
       "      <td>10</td>\n",
       "      <td>PWMTIQS</td>\n",
       "      <td>W</td>\n",
       "      <td>T</td>\n",
       "      <td>I0</td>\n",
       "    </tr>\n",
       "    <tr>\n",
       "      <th>121109</th>\n",
       "      <td>19256</td>\n",
       "      <td>WTI00000472</td>\n",
       "      <td>1404</td>\n",
       "      <td>10</td>\n",
       "      <td>PWFTIQF</td>\n",
       "      <td>W</td>\n",
       "      <td>T</td>\n",
       "      <td>I0</td>\n",
       "    </tr>\n",
       "    <tr>\n",
       "      <th>121110</th>\n",
       "      <td>19246</td>\n",
       "      <td>WTI00000496</td>\n",
       "      <td>1244</td>\n",
       "      <td>10</td>\n",
       "      <td>PWMTIAC</td>\n",
       "      <td>W</td>\n",
       "      <td>T</td>\n",
       "      <td>I0</td>\n",
       "    </tr>\n",
       "    <tr>\n",
       "      <th>121111</th>\n",
       "      <td>19230</td>\n",
       "      <td>WTI00000496</td>\n",
       "      <td>1421</td>\n",
       "      <td>10</td>\n",
       "      <td>PWMTIAC</td>\n",
       "      <td>W</td>\n",
       "      <td>T</td>\n",
       "      <td>I0</td>\n",
       "    </tr>\n",
       "    <tr>\n",
       "      <th>121112</th>\n",
       "      <td>19165</td>\n",
       "      <td>WTI00000496</td>\n",
       "      <td>2106</td>\n",
       "      <td>10</td>\n",
       "      <td>PWMTIAC</td>\n",
       "      <td>W</td>\n",
       "      <td>T</td>\n",
       "      <td>I0</td>\n",
       "    </tr>\n",
       "  </tbody>\n",
       "</table>\n",
       "<p>121113 rows × 8 columns</p>\n",
       "</div>"
      ],
      "text/plain": [
       "        time_idx     PRODCODE PLANT DISCHAN   PR_GROUP MATERIAL TYPE_JEWEL  \\\n",
       "0          19258     40000007  1012      10  PCM000001        4          0   \n",
       "1          19258     40000007  1269      10  PCM000001        4          0   \n",
       "2          19145     40000682  1526      10  PCM000001        4          0   \n",
       "3          19145     40000683  1526      10  PCM000001        4          0   \n",
       "4          19141     40000685  1526      10  PCM000001        4          0   \n",
       "...          ...          ...   ...     ...        ...      ...        ...   \n",
       "121108     19229  WTI00000452  1484      10    PWMTIQS        W          T   \n",
       "121109     19256  WTI00000472  1404      10    PWFTIQF        W          T   \n",
       "121110     19246  WTI00000496  1244      10    PWMTIAC        W          T   \n",
       "121111     19230  WTI00000496  1421      10    PWMTIAC        W          T   \n",
       "121112     19165  WTI00000496  2106      10    PWMTIAC        W          T   \n",
       "\n",
       "       STONES  \n",
       "0          00  \n",
       "1          00  \n",
       "2          00  \n",
       "3          00  \n",
       "4          00  \n",
       "...       ...  \n",
       "121108     I0  \n",
       "121109     I0  \n",
       "121110     I0  \n",
       "121111     I0  \n",
       "121112     I0  \n",
       "\n",
       "[121113 rows x 8 columns]"
      ]
     },
     "execution_count": 13,
     "metadata": {},
     "output_type": "execute_result"
    }
   ],
   "source": [
    "print(data_df['time_idx'].max())\n",
    "best_tft.predict(data_df, return_index = True)[1]"
   ]
  },
  {
   "cell_type": "code",
   "execution_count": 14,
   "id": "53b5738d",
   "metadata": {
    "collapsed": true,
    "jupyter": {
     "outputs_hidden": true
    },
    "tags": []
   },
   "outputs": [
    {
     "name": "stderr",
     "output_type": "stream",
     "text": [
      "/opt/conda/lib/python3.6/site-packages/pytorch_forecasting/data/encoders.py:121: UserWarning: Found 46049 unknown classes which were set to NaN\n",
      "  UserWarning,\n",
      "/opt/conda/lib/python3.6/site-packages/pytorch_forecasting/data/encoders.py:121: UserWarning: Found 374 unknown classes which were set to NaN\n",
      "  UserWarning,\n",
      "/opt/conda/lib/python3.6/site-packages/pytorch_forecasting/data/encoders.py:121: UserWarning: Found 1 unknown classes which were set to NaN\n",
      "  UserWarning,\n",
      "/opt/conda/lib/python3.6/site-packages/pytorch_forecasting/data/encoders.py:121: UserWarning: Found 1108 unknown classes which were set to NaN\n",
      "  UserWarning,\n",
      "/opt/conda/lib/python3.6/site-packages/pytorch_forecasting/data/encoders.py:121: UserWarning: Found 21 unknown classes which were set to NaN\n",
      "  UserWarning,\n",
      "/opt/conda/lib/python3.6/site-packages/pytorch_forecasting/data/encoders.py:121: UserWarning: Found 26 unknown classes which were set to NaN\n",
      "  UserWarning,\n",
      "/opt/conda/lib/python3.6/site-packages/pytorch_forecasting/data/encoders.py:121: UserWarning: Found 74 unknown classes which were set to NaN\n",
      "  UserWarning,\n",
      "/opt/conda/lib/python3.6/site-packages/pytorch_forecasting/data/encoders.py:121: UserWarning: Found 145 unknown classes which were set to NaN\n",
      "  UserWarning,\n",
      "/opt/conda/lib/python3.6/site-packages/pytorch_forecasting/data/encoders.py:121: UserWarning: Found 6 unknown classes which were set to NaN\n",
      "  UserWarning,\n",
      "/opt/conda/lib/python3.6/site-packages/pytorch_forecasting/data/timeseries.py:1244: UserWarning: Min encoder length and/or min_prediction_idx and/or min prediction length and/or lags are too large for 440190 series/groups which therefore are not present in the dataset index. This means no predictions can be made for those series. First 10 removed groups: [{'__group_id__PRODCODE': '30000091', '__group_id__PLANT': '1113', '__group_id__DISCHAN': '10', '__group_id__PR_GROUP': 'PR0000001', '__group_id__MATERIAL': '3', '__group_id__TYPE_JEWEL': '0', '__group_id__STONES': '00'}, {'__group_id__PRODCODE': '30000522', '__group_id__PLANT': '1135', '__group_id__DISCHAN': '10', '__group_id__PR_GROUP': 'PR0000001', '__group_id__MATERIAL': '3', '__group_id__TYPE_JEWEL': '0', '__group_id__STONES': '00'}, {'__group_id__PRODCODE': '30004960', '__group_id__PLANT': '1291', '__group_id__DISCHAN': '10', '__group_id__PR_GROUP': 'PR0000001', '__group_id__MATERIAL': '3', '__group_id__TYPE_JEWEL': '0', '__group_id__STONES': '00'}, {'__group_id__PRODCODE': '31000217', '__group_id__PLANT': '1448', '__group_id__DISCHAN': '10', '__group_id__PR_GROUP': 'PR0000003', '__group_id__MATERIAL': '3', '__group_id__TYPE_JEWEL': '1', '__group_id__STONES': '00'}, {'__group_id__PRODCODE': '40000007', '__group_id__PLANT': '1014', '__group_id__DISCHAN': '10', '__group_id__PR_GROUP': 'PCM000001', '__group_id__MATERIAL': '4', '__group_id__TYPE_JEWEL': '0', '__group_id__STONES': '00'}, {'__group_id__PRODCODE': '40000011', '__group_id__PLANT': '1014', '__group_id__DISCHAN': '10', '__group_id__PR_GROUP': 'PCM000001', '__group_id__MATERIAL': '4', '__group_id__TYPE_JEWEL': '0', '__group_id__STONES': '00'}, {'__group_id__PRODCODE': '40000014', '__group_id__PLANT': '1299', '__group_id__DISCHAN': '10', '__group_id__PR_GROUP': 'PCM000001', '__group_id__MATERIAL': '4', '__group_id__TYPE_JEWEL': '0', '__group_id__STONES': '00'}, {'__group_id__PRODCODE': '40000014', '__group_id__PLANT': '1439', '__group_id__DISCHAN': '10', '__group_id__PR_GROUP': 'PCM000001', '__group_id__MATERIAL': '4', '__group_id__TYPE_JEWEL': '0', '__group_id__STONES': '00'}, {'__group_id__PRODCODE': '40000014', '__group_id__PLANT': '1456', '__group_id__DISCHAN': '10', '__group_id__PR_GROUP': 'PCM000001', '__group_id__MATERIAL': '4', '__group_id__TYPE_JEWEL': '0', '__group_id__STONES': '00'}, {'__group_id__PRODCODE': '40000014', '__group_id__PLANT': '1485', '__group_id__DISCHAN': '10', '__group_id__PR_GROUP': 'PCM000001', '__group_id__MATERIAL': '4', '__group_id__TYPE_JEWEL': '0', '__group_id__STONES': '00'}]\n",
      "  UserWarning,\n"
     ]
    },
    {
     "data": {
      "text/plain": [
       "[<matplotlib.lines.Line2D at 0x7fafcd4777f0>]"
      ]
     },
     "execution_count": 14,
     "metadata": {},
     "output_type": "execute_result"
    },
    {
     "data": {
      "image/png": "[encoded data removed]",
      "text/plain": [
       "<Figure size 432x288 with 1 Axes>"
      ]
     },
     "metadata": {
      "needs_background": "light"
     },
     "output_type": "display_data"
    }
   ],
   "source": [
    "import matplotlib.pyplot as plt\n",
    "plt.plot(best_tft.predict(data_df, return_index = True)[0][0])"
   ]
  },
  {
   "cell_type": "code",
   "execution_count": 15,
   "id": "b2a329fc",
   "metadata": {
    "collapsed": true,
    "jupyter": {
     "outputs_hidden": true
    },
    "tags": []
   },
   "outputs": [
    {
     "ename": "KeyError",
     "evalue": "'item'",
     "output_type": "error",
     "traceback": [
      "\u001b[0;31m---------------------------------------------------------------------------\u001b[0m",
      "\u001b[0;31mKeyError\u001b[0m                                  Traceback (most recent call last)",
      "\u001b[0;32m/opt/conda/lib/python3.6/site-packages/pandas/core/indexes/base.py\u001b[0m in \u001b[0;36mget_loc\u001b[0;34m(self, key, method, tolerance)\u001b[0m\n\u001b[1;32m   2897\u001b[0m             \u001b[0;32mtry\u001b[0m\u001b[0;34m:\u001b[0m\u001b[0;34m\u001b[0m\u001b[0;34m\u001b[0m\u001b[0m\n\u001b[0;32m-> 2898\u001b[0;31m                 \u001b[0;32mreturn\u001b[0m \u001b[0mself\u001b[0m\u001b[0;34m.\u001b[0m\u001b[0m_engine\u001b[0m\u001b[0;34m.\u001b[0m\u001b[0mget_loc\u001b[0m\u001b[0;34m(\u001b[0m\u001b[0mcasted_key\u001b[0m\u001b[0;34m)\u001b[0m\u001b[0;34m\u001b[0m\u001b[0;34m\u001b[0m\u001b[0m\n\u001b[0m\u001b[1;32m   2899\u001b[0m             \u001b[0;32mexcept\u001b[0m \u001b[0mKeyError\u001b[0m \u001b[0;32mas\u001b[0m \u001b[0merr\u001b[0m\u001b[0;34m:\u001b[0m\u001b[0;34m\u001b[0m\u001b[0;34m\u001b[0m\u001b[0m\n",
      "\u001b[0;32mpandas/_libs/index.pyx\u001b[0m in \u001b[0;36mpandas._libs.index.IndexEngine.get_loc\u001b[0;34m()\u001b[0m\n",
      "\u001b[0;32mpandas/_libs/index.pyx\u001b[0m in \u001b[0;36mpandas._libs.index.IndexEngine.get_loc\u001b[0;34m()\u001b[0m\n",
      "\u001b[0;32mpandas/_libs/hashtable_class_helper.pxi\u001b[0m in \u001b[0;36mpandas._libs.hashtable.PyObjectHashTable.get_item\u001b[0;34m()\u001b[0m\n",
      "\u001b[0;32mpandas/_libs/hashtable_class_helper.pxi\u001b[0m in \u001b[0;36mpandas._libs.hashtable.PyObjectHashTable.get_item\u001b[0;34m()\u001b[0m\n",
      "\u001b[0;31mKeyError\u001b[0m: 'item'",
      "\nThe above exception was the direct cause of the following exception:\n",
      "\u001b[0;31mKeyError\u001b[0m                                  Traceback (most recent call last)",
      "\u001b[0;32m<ipython-input-15-fe49b2fb2892>\u001b[0m in \u001b[0;36m<module>\u001b[0;34m\u001b[0m\n\u001b[0;32m----> 1\u001b[0;31m \u001b[0mtrain_target\u001b[0m \u001b[0;34m=\u001b[0m \u001b[0mdata_df\u001b[0m\u001b[0;34m[\u001b[0m\u001b[0;34m(\u001b[0m\u001b[0mdata_df\u001b[0m\u001b[0;34m[\u001b[0m\u001b[0;34m'item'\u001b[0m\u001b[0;34m]\u001b[0m \u001b[0;34m==\u001b[0m \u001b[0;34m\"1\"\u001b[0m\u001b[0;34m)\u001b[0m \u001b[0;34m&\u001b[0m \u001b[0;34m(\u001b[0m\u001b[0mdata_df\u001b[0m\u001b[0;34m[\u001b[0m\u001b[0;34m'store'\u001b[0m\u001b[0;34m]\u001b[0m \u001b[0;34m==\u001b[0m \u001b[0;34m\"1\"\u001b[0m\u001b[0;34m)\u001b[0m\u001b[0;34m]\u001b[0m\u001b[0;34m\u001b[0m\u001b[0;34m\u001b[0m\u001b[0m\n\u001b[0m\u001b[1;32m      2\u001b[0m \u001b[0mtrain_target\u001b[0m\u001b[0;34m\u001b[0m\u001b[0;34m\u001b[0m\u001b[0m\n\u001b[1;32m      3\u001b[0m \u001b[0mplt\u001b[0m\u001b[0;34m.\u001b[0m\u001b[0mplot\u001b[0m\u001b[0;34m(\u001b[0m\u001b[0mtrain_target\u001b[0m\u001b[0;34m[\u001b[0m\u001b[0;34m'time_idx'\u001b[0m\u001b[0;34m]\u001b[0m\u001b[0;34m[\u001b[0m\u001b[0;34m-\u001b[0m\u001b[0;36m365\u001b[0m\u001b[0;34m:\u001b[0m\u001b[0;34m]\u001b[0m\u001b[0;34m,\u001b[0m \u001b[0mtrain_target\u001b[0m\u001b[0;34m[\u001b[0m\u001b[0;34m'sales'\u001b[0m\u001b[0;34m]\u001b[0m\u001b[0;34m[\u001b[0m\u001b[0;34m-\u001b[0m\u001b[0;36m365\u001b[0m\u001b[0;34m:\u001b[0m\u001b[0;34m]\u001b[0m\u001b[0;34m)\u001b[0m\u001b[0;34m\u001b[0m\u001b[0;34m\u001b[0m\u001b[0m\n\u001b[1;32m      4\u001b[0m \u001b[0mtrain_target\u001b[0m\u001b[0;34m[\u001b[0m\u001b[0;34m'time_idx'\u001b[0m\u001b[0;34m]\u001b[0m\u001b[0;34m.\u001b[0m\u001b[0mmax\u001b[0m\u001b[0;34m(\u001b[0m\u001b[0;34m)\u001b[0m\u001b[0;34m\u001b[0m\u001b[0;34m\u001b[0m\u001b[0m\n",
      "\u001b[0;32m/opt/conda/lib/python3.6/site-packages/pandas/core/frame.py\u001b[0m in \u001b[0;36m__getitem__\u001b[0;34m(self, key)\u001b[0m\n\u001b[1;32m   2904\u001b[0m             \u001b[0;32mif\u001b[0m \u001b[0mself\u001b[0m\u001b[0;34m.\u001b[0m\u001b[0mcolumns\u001b[0m\u001b[0;34m.\u001b[0m\u001b[0mnlevels\u001b[0m \u001b[0;34m>\u001b[0m \u001b[0;36m1\u001b[0m\u001b[0;34m:\u001b[0m\u001b[0;34m\u001b[0m\u001b[0;34m\u001b[0m\u001b[0m\n\u001b[1;32m   2905\u001b[0m                 \u001b[0;32mreturn\u001b[0m \u001b[0mself\u001b[0m\u001b[0;34m.\u001b[0m\u001b[0m_getitem_multilevel\u001b[0m\u001b[0;34m(\u001b[0m\u001b[0mkey\u001b[0m\u001b[0;34m)\u001b[0m\u001b[0;34m\u001b[0m\u001b[0;34m\u001b[0m\u001b[0m\n\u001b[0;32m-> 2906\u001b[0;31m             \u001b[0mindexer\u001b[0m \u001b[0;34m=\u001b[0m \u001b[0mself\u001b[0m\u001b[0;34m.\u001b[0m\u001b[0mcolumns\u001b[0m\u001b[0;34m.\u001b[0m\u001b[0mget_loc\u001b[0m\u001b[0;34m(\u001b[0m\u001b[0mkey\u001b[0m\u001b[0;34m)\u001b[0m\u001b[0;34m\u001b[0m\u001b[0;34m\u001b[0m\u001b[0m\n\u001b[0m\u001b[1;32m   2907\u001b[0m             \u001b[0;32mif\u001b[0m \u001b[0mis_integer\u001b[0m\u001b[0;34m(\u001b[0m\u001b[0mindexer\u001b[0m\u001b[0;34m)\u001b[0m\u001b[0;34m:\u001b[0m\u001b[0;34m\u001b[0m\u001b[0;34m\u001b[0m\u001b[0m\n\u001b[1;32m   2908\u001b[0m                 \u001b[0mindexer\u001b[0m \u001b[0;34m=\u001b[0m \u001b[0;34m[\u001b[0m\u001b[0mindexer\u001b[0m\u001b[0;34m]\u001b[0m\u001b[0;34m\u001b[0m\u001b[0;34m\u001b[0m\u001b[0m\n",
      "\u001b[0;32m/opt/conda/lib/python3.6/site-packages/pandas/core/indexes/base.py\u001b[0m in \u001b[0;36mget_loc\u001b[0;34m(self, key, method, tolerance)\u001b[0m\n\u001b[1;32m   2898\u001b[0m                 \u001b[0;32mreturn\u001b[0m \u001b[0mself\u001b[0m\u001b[0;34m.\u001b[0m\u001b[0m_engine\u001b[0m\u001b[0;34m.\u001b[0m\u001b[0mget_loc\u001b[0m\u001b[0;34m(\u001b[0m\u001b[0mcasted_key\u001b[0m\u001b[0;34m)\u001b[0m\u001b[0;34m\u001b[0m\u001b[0;34m\u001b[0m\u001b[0m\n\u001b[1;32m   2899\u001b[0m             \u001b[0;32mexcept\u001b[0m \u001b[0mKeyError\u001b[0m \u001b[0;32mas\u001b[0m \u001b[0merr\u001b[0m\u001b[0;34m:\u001b[0m\u001b[0;34m\u001b[0m\u001b[0;34m\u001b[0m\u001b[0m\n\u001b[0;32m-> 2900\u001b[0;31m                 \u001b[0;32mraise\u001b[0m \u001b[0mKeyError\u001b[0m\u001b[0;34m(\u001b[0m\u001b[0mkey\u001b[0m\u001b[0;34m)\u001b[0m \u001b[0;32mfrom\u001b[0m \u001b[0merr\u001b[0m\u001b[0;34m\u001b[0m\u001b[0;34m\u001b[0m\u001b[0m\n\u001b[0m\u001b[1;32m   2901\u001b[0m \u001b[0;34m\u001b[0m\u001b[0m\n\u001b[1;32m   2902\u001b[0m         \u001b[0;32mif\u001b[0m \u001b[0mtolerance\u001b[0m \u001b[0;32mis\u001b[0m \u001b[0;32mnot\u001b[0m \u001b[0;32mNone\u001b[0m\u001b[0;34m:\u001b[0m\u001b[0;34m\u001b[0m\u001b[0;34m\u001b[0m\u001b[0m\n",
      "\u001b[0;31mKeyError\u001b[0m: 'item'"
     ]
    }
   ],
   "source": [
    "train_target = data_df[(data_df['item'] == \"1\") & (data_df['store'] == \"1\")]\n",
    "train_target\n",
    "plt.plot(train_target['time_idx'][-365:], train_target['sales'][-365:])\n",
    "train_target['time_idx'].max()\n"
   ]
  },
  {
   "cell_type": "code",
   "execution_count": 30,
   "id": "0e1b0bff",
   "metadata": {},
   "outputs": [
    {
     "data": {
      "text/plain": [
       "[<matplotlib.lines.Line2D at 0x7f8091a695f8>]"
      ]
     },
     "execution_count": 30,
     "metadata": {},
     "output_type": "execute_result"
    },
    {
     "data": {
      "image/png": "[encoded data removed]",
      "text/plain": [
       "<Figure size 432x288 with 1 Axes>"
      ]
     },
     "metadata": {
      "needs_background": "light"
     },
     "output_type": "display_data"
    }
   ],
   "source": [
    "import pandas as pd \n",
    "actual_df = pd.read_csv(\"HistoricalSalesandActive Inventory_3years_testing_no_header.csv\", names=['timestamp','item','store','sales'])\n",
    "actual_df['time_idx'] = pd.DatetimeIndex(actual_df[\"timestamp\"]).astype(int)/ 86400000000000   # equals to 1 day\n",
    "actual_df['time_idx'] = actual_df['time_idx'].astype(int)\n",
    "\n",
    "actual_target = actual_df[(actual_df['item'] == 1) & (actual_df['store'] == 1)][:180]\n",
    "\n",
    "plt.plot(actual_target['time_idx'], actual_target['sales'])"
   ]
  },
  {
   "cell_type": "code",
   "execution_count": 31,
   "id": "37279adb",
   "metadata": {},
   "outputs": [
    {
     "data": {
      "text/html": [
       "<div>\n",
       "<style scoped>\n",
       "    .dataframe tbody tr th:only-of-type {\n",
       "        vertical-align: middle;\n",
       "    }\n",
       "\n",
       "    .dataframe tbody tr th {\n",
       "        vertical-align: top;\n",
       "    }\n",
       "\n",
       "    .dataframe thead th {\n",
       "        text-align: right;\n",
       "    }\n",
       "</style>\n",
       "<table border=\"1\" class=\"dataframe\">\n",
       "  <thead>\n",
       "    <tr style=\"text-align: right;\">\n",
       "      <th></th>\n",
       "      <th>time_idx</th>\n",
       "      <th>item</th>\n",
       "      <th>store</th>\n",
       "    </tr>\n",
       "  </thead>\n",
       "  <tbody>\n",
       "    <tr>\n",
       "      <th>0</th>\n",
       "      <td>17338</td>\n",
       "      <td>1</td>\n",
       "      <td>1</td>\n",
       "    </tr>\n",
       "    <tr>\n",
       "      <th>1</th>\n",
       "      <td>17338</td>\n",
       "      <td>1</td>\n",
       "      <td>2</td>\n",
       "    </tr>\n",
       "    <tr>\n",
       "      <th>2</th>\n",
       "      <td>17338</td>\n",
       "      <td>1</td>\n",
       "      <td>3</td>\n",
       "    </tr>\n",
       "    <tr>\n",
       "      <th>3</th>\n",
       "      <td>17338</td>\n",
       "      <td>1</td>\n",
       "      <td>4</td>\n",
       "    </tr>\n",
       "    <tr>\n",
       "      <th>4</th>\n",
       "      <td>17338</td>\n",
       "      <td>1</td>\n",
       "      <td>5</td>\n",
       "    </tr>\n",
       "  </tbody>\n",
       "</table>\n",
       "</div>"
      ],
      "text/plain": [
       "   time_idx item store\n",
       "0     17338    1     1\n",
       "1     17338    1     2\n",
       "2     17338    1     3\n",
       "3     17338    1     4\n",
       "4     17338    1     5"
      ]
     },
     "execution_count": 31,
     "metadata": {},
     "output_type": "execute_result"
    }
   ],
   "source": [
    "checkpointed_model.predict(val_dataloader, return_index = True)[1]"
   ]
  },
  {
   "cell_type": "code",
   "execution_count": 14,
   "id": "05d1ee62",
   "metadata": {
    "tags": []
   },
   "outputs": [
    {
     "name": "stderr",
     "output_type": "stream",
     "text": [
      "/opt/conda/lib/python3.6/site-packages/pytorch_forecasting/data/timeseries.py:1657: UserWarning: Creating a tensor from a list of numpy.ndarrays is extremely slow. Please consider converting the list to a single numpy.ndarray with numpy.array() before converting to a tensor. (Triggered internally at  ../torch/csrc/utils/tensor_new.cpp:201.)\n",
      "  target_scale = torch.tensor([batch[0][\"target_scale\"] for batch in batches], dtype=torch.float)\n"
     ]
    },
    {
     "name": "stdout",
     "output_type": "stream",
     "text": [
      "MAE: tensor(1.0943)\n",
      "RMSE:  tensor(10.2550)\n"
     ]
    }
   ],
   "source": [
    "# prediction:\n",
    "import torch\n",
    "\n",
    "actuals = torch.cat([y[0] for x, y in iter(val_dataloader)])\n",
    "predictions = checkpointed_model.predict(val_dataloader)\n",
    "print(\"MAE:\" ,(actuals - predictions.int()).abs().mean())\n",
    "print(\"RMSE: \", torch.sqrt(((actuals - predictions.int())**2).mean()))"
   ]
  },
  {
   "cell_type": "code",
   "execution_count": 34,
   "id": "51d31bb0",
   "metadata": {},
   "outputs": [
    {
     "name": "stdout",
     "output_type": "stream",
     "text": [
      "rmse:  8.815658977109061\n"
     ]
    },
    {
     "data": {
      "text/plain": [
       "[<matplotlib.lines.Line2D at 0x7f8091a24b00>]"
      ]
     },
     "execution_count": 34,
     "metadata": {},
     "output_type": "execute_result"
    },
    {
     "data": {
      "image/png": "[encoded data removed]",
      "text/plain": [
       "<Figure size 432x288 with 1 Axes>"
      ]
     },
     "metadata": {
      "needs_background": "light"
     },
     "output_type": "display_data"
    }
   ],
   "source": [
    "import math\n",
    "import matplotlib.pyplot as plt\n",
    "from sklearn.metrics import mean_squared_error\n",
    "\n",
    "item_idx = 2\n",
    "horizon = 180\n",
    "print('rmse: ', math.sqrt(mean_squared_error(actuals[item_idx][:horizon],predictions[item_idx][:horizon])))\n",
    "plt.plot(actuals[item_idx][:horizon])\n",
    "plt.plot(predictions[item_idx][:horizon])"
   ]
  },
  {
   "cell_type": "code",
   "execution_count": 16,
   "id": "b33f16e0",
   "metadata": {
    "tags": []
   },
   "outputs": [
    {
     "ename": "AttributeError",
     "evalue": "'Tensor' object has no attribute 'copy'",
     "output_type": "error",
     "traceback": [
      "\u001b[0;31m---------------------------------------------------------------------------\u001b[0m",
      "\u001b[0;31mAttributeError\u001b[0m                            Traceback (most recent call last)",
      "\u001b[0;32m<ipython-input-16-8bbf94aa47ad>\u001b[0m in \u001b[0;36m<module>\u001b[0;34m\u001b[0m\n\u001b[1;32m      1\u001b[0m \u001b[0mraw_predictions\u001b[0m\u001b[0;34m,\u001b[0m \u001b[0mx\u001b[0m \u001b[0;34m=\u001b[0m \u001b[0mbest_tft\u001b[0m\u001b[0;34m.\u001b[0m\u001b[0mpredict\u001b[0m\u001b[0;34m(\u001b[0m\u001b[0mval_dataloader\u001b[0m\u001b[0;34m,\u001b[0m \u001b[0mreturn_x\u001b[0m\u001b[0;34m=\u001b[0m\u001b[0;32mTrue\u001b[0m\u001b[0;34m)\u001b[0m\u001b[0;34m\u001b[0m\u001b[0;34m\u001b[0m\u001b[0m\n\u001b[0;32m----> 2\u001b[0;31m \u001b[0mint_raw_predictions\u001b[0m \u001b[0;34m=\u001b[0m \u001b[0mraw_predictions\u001b[0m\u001b[0;34m.\u001b[0m\u001b[0mcopy\u001b[0m\u001b[0;34m(\u001b[0m\u001b[0;34m)\u001b[0m\u001b[0;34m\u001b[0m\u001b[0;34m\u001b[0m\u001b[0m\n\u001b[0m",
      "\u001b[0;31mAttributeError\u001b[0m: 'Tensor' object has no attribute 'copy'"
     ]
    }
   ],
   "source": [
    "raw_predictions, x = best_tft.predict(val_dataloader, return_x=True)\n",
    "int_raw_predictions = raw_predictions.copy()"
   ]
  },
  {
   "cell_type": "code",
   "execution_count": null,
   "id": "33043fe9-2611-4a99-829f-9b2b83011975",
   "metadata": {},
   "outputs": [],
   "source": [
    "int_raw_predictions['prediction'] = int_raw_predictions['prediction'].int().float()"
   ]
  },
  {
   "cell_type": "code",
   "execution_count": null,
   "id": "7294e716",
   "metadata": {},
   "outputs": [],
   "source": [
    "for idx in range(10):  # plot 10 examples\n",
    "    best_tft.plot_prediction(x, int_raw_predictions, idx=idx, add_loss_to_title=True);"
   ]
  },
  {
   "cell_type": "code",
   "execution_count": null,
   "id": "40944d4f-25a2-4d32-b20e-2cde9cbb9e6d",
   "metadata": {},
   "outputs": [],
   "source": [
    "# 10 worst performers\n",
    "from pytorch_forecasting.metrics import SMAPE, RMSE\n",
    "\n",
    "mean_losses = RMSE(reduction=\"none\")(predictions.int(), actuals).mean(1)\n",
    "indices = mean_losses.argsort(descending=True)  # sort losses\n",
    "for idx in range(10):  # plot 10 examples\n",
    "    best_tft.plot_prediction(\n",
    "        x, int_raw_predictions, idx=indices[idx], add_loss_to_title=RMSE(quantiles=best_tft.loss.quantiles)\n",
    "    );"
   ]
  },
  {
   "cell_type": "code",
   "execution_count": null,
   "id": "d5f8aa29-3fc4-4309-a9be-2dcb5eadc5d1",
   "metadata": {},
   "outputs": [],
   "source": [
    "# 10 best performers\n",
    "mean_losses = RMSE(reduction=\"none\")(predictions.int(), actuals).mean(1)\n",
    "indices = mean_losses.argsort(descending=False)  # sort losses\n",
    "for idx in range(10):  # plot 10 examples\n",
    "    best_tft.plot_prediction(\n",
    "        x, int_raw_predictions, idx=indices[idx], add_loss_to_title=RMSE(quantiles=best_tft.loss.quantiles)\n",
    "    );"
   ]
  },
  {
   "cell_type": "code",
   "execution_count": null,
   "id": "a7beac58-adb0-4758-93f1-9d050898d25c",
   "metadata": {},
   "outputs": [],
   "source": [
    "# 10 medium performaer"
   ]
  }
 ],
 "metadata": {
  "instance_type": "ml.c5.2xlarge",
  "kernelspec": {
   "display_name": "Python 3 (PyTorch 1.4 Python 3.6 CPU Optimized)",
   "language": "python",
   "name": "python3__SAGEMAKER_INTERNAL__arn:aws:sagemaker:us-east-1:081325390199:image/pytorch-1.4-cpu-py36"
  },
  "language_info": {
   "codemirror_mode": {
    "name": "ipython",
    "version": 3
   },
   "file_extension": ".py",
   "mimetype": "text/x-python",
   "name": "python",
   "nbconvert_exporter": "python",
   "pygments_lexer": "ipython3",
   "version": "3.6.13"
  },
  "lcc_arn": "arn:aws:sagemaker:us-east-1:049151007956:studio-lifecycle-config/pytorch-forcasting-6",
  "toc-autonumbering": true,
  "toc-showcode": false,
  "toc-showmarkdowntxt": true
 },
 "nbformat": 4,
 "nbformat_minor": 5
}
