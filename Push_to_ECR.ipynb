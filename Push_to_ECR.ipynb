{
 "cells": [
  {
   "cell_type": "code",
   "execution_count": 1,
   "id": "3a7ed17d",
   "metadata": {},
   "outputs": [
    {
     "name": "stdout",
     "output_type": "stream",
     "text": [
      "/home/ec2-user/SageMaker/docker_test_folder\n"
     ]
    }
   ],
   "source": [
    "cd ~/SageMaker/docker_test_folder"
   ]
  },
  {
   "cell_type": "code",
   "execution_count": 2,
   "id": "d3714d24",
   "metadata": {},
   "outputs": [
    {
     "name": "stdout",
     "output_type": "stream",
     "text": [
      "/home/ec2-user/SageMaker/docker_test_folder\r\n"
     ]
    }
   ],
   "source": [
    "! pwd"
   ]
  },
  {
   "cell_type": "code",
   "execution_count": 4,
   "id": "43204590",
   "metadata": {},
   "outputs": [
    {
     "name": "stdout",
     "output_type": "stream",
     "text": [
      "Login Succeeded\n",
      "Sending build context to Docker daemon  14.34kB\r",
      "\r\n",
      "Step 1/5 : FROM 763104351884.dkr.ecr.us-east-1.amazonaws.com/pytorch-training:1.5.1-cpu-py36-ubuntu16.04\n",
      " ---> 6177bf009b27\n",
      "Step 2/5 : ENV PATH=\"/opt/ml/code:${PATH}\"\n",
      " ---> Using cache\n",
      " ---> f17c4b5f50ed\n",
      "Step 3/5 : ENV SAGEMAKER_SUBMIT_DIRECTORY /opt/ml/code\n",
      " ---> Using cache\n",
      " ---> 3fa158fc2179\n",
      "Step 4/5 : COPY cifar10.py /opt/ml/code/cifar10.py\n",
      " ---> Using cache\n",
      " ---> 535d94911874\n",
      "Step 5/5 : ENV SAGEMAKER_PROGRAM cifar10.py\n",
      " ---> Using cache\n",
      " ---> 9872e012c96f\n",
      "Successfully built 9872e012c96f\n",
      "Successfully tagged pytorch-extended-container-test:latest\n",
      "The push refers to repository [551329315830.dkr.ecr.us-east-1.amazonaws.com/pytorch-extended-container-test]\n",
      "6792506cf269: Preparing\n",
      "ea7f95045e04: Preparing\n",
      "6dffe9708ca1: Preparing\n",
      "d6988f6060c6: Preparing\n",
      "e53aa3c12226: Preparing\n",
      "f74c62daa95e: Preparing\n",
      "05cd8fe1cb59: Preparing\n",
      "b35d061a5b0d: Preparing\n",
      "b6073ff1bf08: Preparing\n",
      "58defc0e8a35: Preparing\n",
      "d3b16a8aee3d: Preparing\n",
      "42fae27443e4: Preparing\n",
      "5276d2b930fc: Preparing\n",
      "e6feec0db89a: Preparing\n",
      "697949baa658: Preparing\n",
      "935c56d8b3f9: Preparing\n",
      "58defc0e8a35: Waiting\n",
      "d3b16a8aee3d: Waiting\n",
      "42fae27443e4: Waiting\n",
      "5276d2b930fc: Waiting\n",
      "e6feec0db89a: Waiting\n",
      "697949baa658: Waiting\n",
      "935c56d8b3f9: Waiting\n",
      "f74c62daa95e: Waiting\n",
      "05cd8fe1cb59: Waiting\n",
      "b35d061a5b0d: Waiting\n",
      "b6073ff1bf08: Waiting\n",
      "d6988f6060c6: Layer already exists\n",
      "ea7f95045e04: Layer already exists\n",
      "e53aa3c12226: Layer already exists\n",
      "6dffe9708ca1: Layer already exists\n",
      "f74c62daa95e: Layer already exists\n",
      "05cd8fe1cb59: Layer already exists\n",
      "b35d061a5b0d: Layer already exists\n",
      "b6073ff1bf08: Layer already exists\n",
      "58defc0e8a35: Layer already exists\n",
      "d3b16a8aee3d: Layer already exists\n",
      "42fae27443e4: Layer already exists\n",
      "5276d2b930fc: Layer already exists\n",
      "e6feec0db89a: Layer already exists\n",
      "697949baa658: Layer already exists\n",
      "935c56d8b3f9: Layer already exists\n",
      "6792506cf269: Pushed\n",
      "latest: digest: sha256:ed78ec985fb5420f7066cc9014e9ec9e65b42c64b6c66e652c16f84c975c8b0a size: 3665\n"
     ]
    },
    {
     "name": "stderr",
     "output_type": "stream",
     "text": [
      "WARNING! Your password will be stored unencrypted in /home/ec2-user/.docker/config.json.\n",
      "Configure a credential helper to remove this warning. See\n",
      "https://docs.docker.com/engine/reference/commandline/login/#credentials-store\n",
      "\n"
     ]
    }
   ],
   "source": [
    "%%sh\n",
    "\n",
    "# Specify an algorithm name\n",
    "algorithm_name=pytorch-extended-container-test\n",
    "\n",
    "account=$(aws sts get-caller-identity --query Account --output text)\n",
    "\n",
    "# Get the region defined in the current configuration (default to us-west-2 if none defined)\n",
    "region=$(aws configure get region)\n",
    "\n",
    "fullname=\"${account}.dkr.ecr.${region}.amazonaws.com/${algorithm_name}:latest\"\n",
    "\n",
    "# If the repository doesn't exist in ECR, create it.\n",
    "\n",
    "aws ecr describe-repositories --repository-names \"${algorithm_name}\" > /dev/null 2>&1\n",
    "if [ $? -ne 0 ]\n",
    "then\n",
    "aws ecr create-repository --repository-name \"${algorithm_name}\" > /dev/null\n",
    "fi\n",
    "\n",
    "# Log into Docker\n",
    "aws ecr get-login-password --region ${region}|docker login --username AWS --password-stdin ${fullname}\n",
    "\n",
    "# Build the docker image locally with the image name and then push it to ECR\n",
    "# with the full name.\n",
    "\n",
    "docker build -t ${algorithm_name} .\n",
    "docker tag ${algorithm_name} ${fullname}\n",
    "\n",
    "docker push ${fullname}"
   ]
  },
  {
   "cell_type": "code",
   "execution_count": null,
   "id": "0d2f1cea",
   "metadata": {},
   "outputs": [],
   "source": []
  }
 ],
 "metadata": {
  "kernelspec": {
   "display_name": "conda_pytorch_p36",
   "language": "python",
   "name": "conda_pytorch_p36"
  },
  "language_info": {
   "codemirror_mode": {
    "name": "ipython",
    "version": 3
   },
   "file_extension": ".py",
   "mimetype": "text/x-python",
   "name": "python",
   "nbconvert_exporter": "python",
   "pygments_lexer": "ipython3",
   "version": "3.6.13"
  }
 },
 "nbformat": 4,
 "nbformat_minor": 5
}
