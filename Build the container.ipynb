{
 "cells": [
  {
   "cell_type": "code",
   "execution_count": 1,
   "id": "99b3eb18",
   "metadata": {},
   "outputs": [
    {
     "name": "stdout",
     "output_type": "stream",
     "text": [
      "/home/ec2-user/SageMaker/TemporalFusionTransformer/TFT_docker\n"
     ]
    }
   ],
   "source": [
    "cd ~/SageMaker/TemporalFusionTransformer/TFT_docker"
   ]
  },
  {
   "cell_type": "code",
   "execution_count": 2,
   "id": "b85b53e0",
   "metadata": {},
   "outputs": [
    {
     "name": "stdout",
     "output_type": "stream",
     "text": [
      "/home/ec2-user/SageMaker/TemporalFusionTransformer/TFT_docker\r\n"
     ]
    }
   ],
   "source": [
    "! pwd"
   ]
  },
  {
   "cell_type": "code",
   "execution_count": 3,
   "id": "96735fc1",
   "metadata": {},
   "outputs": [
    {
     "name": "stdout",
     "output_type": "stream",
     "text": [
      "WARNING! Your password will be stored unencrypted in /home/ec2-user/.docker/config.json.\r\n",
      "Configure a credential helper to remove this warning. See\r\n",
      "https://docs.docker.com/engine/reference/commandline/login/#credentials-store\r\n",
      "\r\n",
      "Login Succeeded\r\n"
     ]
    }
   ],
   "source": [
    "! aws ecr get-login-password --region us-east-1 | docker login --username AWS --password-stdin 763104351884.dkr.ecr.us-east-1.amazonaws.com"
   ]
  },
  {
   "cell_type": "code",
   "execution_count": 4,
   "id": "dd8f83a3",
   "metadata": {},
   "outputs": [
    {
     "name": "stdout",
     "output_type": "stream",
     "text": [
      "Sending build context to Docker daemon  11.78kB\n",
      "Step 1/6 : FROM 763104351884.dkr.ecr.us-east-1.amazonaws.com/pytorch-training:1.5.1-cpu-py36-ubuntu16.04\n",
      " ---> 6177bf009b27\n",
      "Step 2/6 : ENV PATH=\"/opt/ml/code:${PATH}\"\n",
      " ---> Using cache\n",
      " ---> 2519ad63144a\n",
      "Step 3/6 : ENV SAGEMAKER_SUBMIT_DIRECTORY /opt/ml/code\n",
      " ---> Using cache\n",
      " ---> d6a1e08eee2d\n",
      "Step 4/6 : COPY TFT.py /opt/ml/code/TFT.py\n",
      " ---> Using cache\n",
      " ---> 28cecfb1fce4\n",
      "Step 5/6 : RUN pip install pytorch-forecasting\n",
      " ---> Running in 04852d3dbed3\n",
      "Collecting pytorch-forecasting\n",
      "  Downloading pytorch_forecasting-0.9.0-py3-none-any.whl (112 kB)\n",
      "Collecting scikit-learn<0.25,>=0.23\n",
      "  Downloading scikit_learn-0.24.2-cp36-cp36m-manylinux2010_x86_64.whl (22.2 MB)\n",
      "Collecting pytorch-lightning<2.0.0,>=1.2.4\n",
      "  Downloading pytorch_lightning-1.5.10-py3-none-any.whl (527 kB)\n",
      "Collecting statsmodels\n",
      "  Downloading statsmodels-0.12.2-cp36-cp36m-manylinux1_x86_64.whl (9.5 MB)\n",
      "Requirement already satisfied: scipy in /opt/conda/lib/python3.6/site-packages (from pytorch-forecasting) (1.2.2)\n",
      "Collecting pandas<2.0.0,>=1.1.0\n",
      "  Downloading pandas-1.1.5-cp36-cp36m-manylinux1_x86_64.whl (9.5 MB)\n",
      "Collecting torch<2.0,>=1.7\n",
      "  Downloading torch-1.10.2-cp36-cp36m-manylinux1_x86_64.whl (881.9 MB)\n",
      "\u001b[91mERROR: Could not install packages due to an OSError: [Errno 28] No space left on device\n",
      "\n",
      "\u001b[0mThe command '/bin/sh -c pip install pytorch-forecasting' returned a non-zero code: 1\n"
     ]
    }
   ],
   "source": [
    "! docker build -t pytorch-tft-container-test ."
   ]
  },
  {
   "cell_type": "code",
   "execution_count": null,
   "id": "4a1e4694",
   "metadata": {},
   "outputs": [],
   "source": [
    "!df -h\n"
   ]
  },
  {
   "cell_type": "code",
   "execution_count": null,
   "id": "a19b8bfe",
   "metadata": {},
   "outputs": [],
   "source": []
  }
 ],
 "metadata": {
  "kernelspec": {
   "display_name": "conda_pytorch_p36",
   "language": "python",
   "name": "conda_pytorch_p36"
  },
  "language_info": {
   "codemirror_mode": {
    "name": "ipython",
    "version": 3
   },
   "file_extension": ".py",
   "mimetype": "text/x-python",
   "name": "python",
   "nbconvert_exporter": "python",
   "pygments_lexer": "ipython3",
   "version": "3.6.13"
  }
 },
 "nbformat": 4,
 "nbformat_minor": 5
}
