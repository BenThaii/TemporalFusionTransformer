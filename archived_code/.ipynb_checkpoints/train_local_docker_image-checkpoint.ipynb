{
 "cells": [
  {
   "cell_type": "code",
   "execution_count": 1,
   "id": "577ba557",
   "metadata": {},
   "outputs": [
    {
     "name": "stdout",
     "output_type": "stream",
     "text": [
      "Downloading https://www.cs.toronto.edu/~kriz/cifar-10-python.tar.gz to /tmp/pytorch-example/cifar-10-data/cifar-10-python.tar.gz\n"
     ]
    },
    {
     "data": {
      "application/vnd.jupyter.widget-view+json": {
       "model_id": "",
       "version_major": 2,
       "version_minor": 0
      },
      "text/plain": [
       "  0%|          | 0/170498071 [00:00<?, ?it/s]"
      ]
     },
     "metadata": {},
     "output_type": "display_data"
    },
    {
     "name": "stdout",
     "output_type": "stream",
     "text": [
      "Extracting /tmp/pytorch-example/cifar-10-data/cifar-10-python.tar.gz to /tmp/pytorch-example/cifar-10-data\n",
      "Files already downloaded and verified\n"
     ]
    }
   ],
   "source": [
    "import torch\n",
    "import torchvision\n",
    "import torchvision.transforms as transforms\n",
    "\n",
    "def _get_transform():\n",
    "    return transforms.Compose(\n",
    "        [transforms.ToTensor(),\n",
    "         transforms.Normalize((0.5, 0.5, 0.5), (0.5, 0.5, 0.5))])\n",
    "\n",
    "\n",
    "def get_train_data_loader(data_dir='/tmp/pytorch/cifar-10-data'):\n",
    "    transform=_get_transform()\n",
    "    trainset=torchvision.datasets.CIFAR10(root=data_dir, train=True,\n",
    "                                            download=True, transform=transform)\n",
    "    return torch.utils.data.DataLoader(trainset, batch_size=4,\n",
    "                                       shuffle=True, num_workers=2)\n",
    "\n",
    "\n",
    "def get_test_data_loader(data_dir='/tmp/pytorch/cifar-10-data'):\n",
    "    transform=_get_transform()\n",
    "    testset=torchvision.datasets.CIFAR10(root=data_dir, train=False,\n",
    "                                           download=True, transform=transform)\n",
    "    return torch.utils.data.DataLoader(testset, batch_size=4,\n",
    "                                       shuffle=False, num_workers=2)\n",
    "\n",
    "trainloader=get_train_data_loader('/tmp/pytorch-example/cifar-10-data')\n",
    "testloader=get_test_data_loader('/tmp/pytorch-example/cifar-10-data')"
   ]
  },
  {
   "cell_type": "code",
   "execution_count": 2,
   "id": "fb2a80bb",
   "metadata": {},
   "outputs": [],
   "source": [
    "from sagemaker import get_execution_role\n",
    "\n",
    "role=get_execution_role()"
   ]
  },
  {
   "cell_type": "code",
   "execution_count": 5,
   "id": "91431c30",
   "metadata": {},
   "outputs": [
    {
     "name": "stdout",
     "output_type": "stream",
     "text": [
      "Creating pnwk2a3qj3-algo-1-5o2o5 ... \n",
      "Creating pnwk2a3qj3-algo-1-5o2o5 ... done\n",
      "Attaching to pnwk2a3qj3-algo-1-5o2o5\n",
      "\u001b[36mpnwk2a3qj3-algo-1-5o2o5 |\u001b[0m 2022-08-18 07:54:19,213 sagemaker-training-toolkit INFO     Imported framework sagemaker_pytorch_container.training\n",
      "\u001b[36mpnwk2a3qj3-algo-1-5o2o5 |\u001b[0m 2022-08-18 07:54:19,215 sagemaker-training-toolkit INFO     No GPUs detected (normal if no gpus installed)\n",
      "\u001b[36mpnwk2a3qj3-algo-1-5o2o5 |\u001b[0m 2022-08-18 07:54:19,227 sagemaker_pytorch_container.training INFO     Block until all host DNS lookups succeed.\n",
      "\u001b[36mpnwk2a3qj3-algo-1-5o2o5 |\u001b[0m 2022-08-18 07:54:19,230 sagemaker_pytorch_container.training INFO     Invoking user training script.\n",
      "\u001b[36mpnwk2a3qj3-algo-1-5o2o5 |\u001b[0m 2022-08-18 07:54:19,233 sagemaker-training-toolkit INFO     No GPUs detected (normal if no gpus installed)\n",
      "\u001b[36mpnwk2a3qj3-algo-1-5o2o5 |\u001b[0m 2022-08-18 07:54:19,247 sagemaker-training-toolkit INFO     No GPUs detected (normal if no gpus installed)\n",
      "\u001b[36mpnwk2a3qj3-algo-1-5o2o5 |\u001b[0m 2022-08-18 07:54:19,262 sagemaker-training-toolkit INFO     No GPUs detected (normal if no gpus installed)\n",
      "\u001b[36mpnwk2a3qj3-algo-1-5o2o5 |\u001b[0m 2022-08-18 07:54:19,275 sagemaker-training-toolkit INFO     Invoking user script\n",
      "\u001b[36mpnwk2a3qj3-algo-1-5o2o5 |\u001b[0m \n",
      "\u001b[36mpnwk2a3qj3-algo-1-5o2o5 |\u001b[0m Training Env:\n",
      "\u001b[36mpnwk2a3qj3-algo-1-5o2o5 |\u001b[0m \n",
      "\u001b[36mpnwk2a3qj3-algo-1-5o2o5 |\u001b[0m {\n",
      "\u001b[36mpnwk2a3qj3-algo-1-5o2o5 |\u001b[0m     \"additional_framework_parameters\": {},\n",
      "\u001b[36mpnwk2a3qj3-algo-1-5o2o5 |\u001b[0m     \"channel_input_dirs\": {\n",
      "\u001b[36mpnwk2a3qj3-algo-1-5o2o5 |\u001b[0m         \"training\": \"/opt/ml/input/data/training\"\n",
      "\u001b[36mpnwk2a3qj3-algo-1-5o2o5 |\u001b[0m     },\n",
      "\u001b[36mpnwk2a3qj3-algo-1-5o2o5 |\u001b[0m     \"current_host\": \"algo-1-5o2o5\",\n",
      "\u001b[36mpnwk2a3qj3-algo-1-5o2o5 |\u001b[0m     \"framework_module\": \"sagemaker_pytorch_container.training:main\",\n",
      "\u001b[36mpnwk2a3qj3-algo-1-5o2o5 |\u001b[0m     \"hosts\": [\n",
      "\u001b[36mpnwk2a3qj3-algo-1-5o2o5 |\u001b[0m         \"algo-1-5o2o5\"\n",
      "\u001b[36mpnwk2a3qj3-algo-1-5o2o5 |\u001b[0m     ],\n",
      "\u001b[36mpnwk2a3qj3-algo-1-5o2o5 |\u001b[0m     \"hyperparameters\": {\n",
      "\u001b[36mpnwk2a3qj3-algo-1-5o2o5 |\u001b[0m         \"epochs\": 1\n",
      "\u001b[36mpnwk2a3qj3-algo-1-5o2o5 |\u001b[0m     },\n",
      "\u001b[36mpnwk2a3qj3-algo-1-5o2o5 |\u001b[0m     \"input_config_dir\": \"/opt/ml/input/config\",\n",
      "\u001b[36mpnwk2a3qj3-algo-1-5o2o5 |\u001b[0m     \"input_data_config\": {\n",
      "\u001b[36mpnwk2a3qj3-algo-1-5o2o5 |\u001b[0m         \"training\": {\n",
      "\u001b[36mpnwk2a3qj3-algo-1-5o2o5 |\u001b[0m             \"TrainingInputMode\": \"File\"\n",
      "\u001b[36mpnwk2a3qj3-algo-1-5o2o5 |\u001b[0m         }\n",
      "\u001b[36mpnwk2a3qj3-algo-1-5o2o5 |\u001b[0m     },\n",
      "\u001b[36mpnwk2a3qj3-algo-1-5o2o5 |\u001b[0m     \"input_dir\": \"/opt/ml/input\",\n",
      "\u001b[36mpnwk2a3qj3-algo-1-5o2o5 |\u001b[0m     \"is_master\": true,\n",
      "\u001b[36mpnwk2a3qj3-algo-1-5o2o5 |\u001b[0m     \"job_name\": \"pytorch-extended-container-test-2022-08-18-07-54-16-640\",\n",
      "\u001b[36mpnwk2a3qj3-algo-1-5o2o5 |\u001b[0m     \"log_level\": 20,\n",
      "\u001b[36mpnwk2a3qj3-algo-1-5o2o5 |\u001b[0m     \"master_hostname\": \"algo-1-5o2o5\",\n",
      "\u001b[36mpnwk2a3qj3-algo-1-5o2o5 |\u001b[0m     \"model_dir\": \"/opt/ml/model\",\n",
      "\u001b[36mpnwk2a3qj3-algo-1-5o2o5 |\u001b[0m     \"module_dir\": \"/opt/ml/code\",\n",
      "\u001b[36mpnwk2a3qj3-algo-1-5o2o5 |\u001b[0m     \"module_name\": \"cifar10\",\n",
      "\u001b[36mpnwk2a3qj3-algo-1-5o2o5 |\u001b[0m     \"network_interface_name\": \"eth0\",\n",
      "\u001b[36mpnwk2a3qj3-algo-1-5o2o5 |\u001b[0m     \"num_cpus\": 4,\n",
      "\u001b[36mpnwk2a3qj3-algo-1-5o2o5 |\u001b[0m     \"num_gpus\": 0,\n",
      "\u001b[36mpnwk2a3qj3-algo-1-5o2o5 |\u001b[0m     \"output_data_dir\": \"/opt/ml/output/data\",\n",
      "\u001b[36mpnwk2a3qj3-algo-1-5o2o5 |\u001b[0m     \"output_dir\": \"/opt/ml/output\",\n",
      "\u001b[36mpnwk2a3qj3-algo-1-5o2o5 |\u001b[0m     \"output_intermediate_dir\": \"/opt/ml/output/intermediate\",\n",
      "\u001b[36mpnwk2a3qj3-algo-1-5o2o5 |\u001b[0m     \"resource_config\": {\n",
      "\u001b[36mpnwk2a3qj3-algo-1-5o2o5 |\u001b[0m         \"current_host\": \"algo-1-5o2o5\",\n",
      "\u001b[36mpnwk2a3qj3-algo-1-5o2o5 |\u001b[0m         \"hosts\": [\n",
      "\u001b[36mpnwk2a3qj3-algo-1-5o2o5 |\u001b[0m             \"algo-1-5o2o5\"\n",
      "\u001b[36mpnwk2a3qj3-algo-1-5o2o5 |\u001b[0m         ]\n",
      "\u001b[36mpnwk2a3qj3-algo-1-5o2o5 |\u001b[0m     },\n",
      "\u001b[36mpnwk2a3qj3-algo-1-5o2o5 |\u001b[0m     \"user_entry_point\": \"cifar10.py\"\n",
      "\u001b[36mpnwk2a3qj3-algo-1-5o2o5 |\u001b[0m }\n",
      "\u001b[36mpnwk2a3qj3-algo-1-5o2o5 |\u001b[0m \n",
      "\u001b[36mpnwk2a3qj3-algo-1-5o2o5 |\u001b[0m Environment variables:\n",
      "\u001b[36mpnwk2a3qj3-algo-1-5o2o5 |\u001b[0m \n",
      "\u001b[36mpnwk2a3qj3-algo-1-5o2o5 |\u001b[0m SM_HOSTS=[\"algo-1-5o2o5\"]\n",
      "\u001b[36mpnwk2a3qj3-algo-1-5o2o5 |\u001b[0m SM_NETWORK_INTERFACE_NAME=eth0\n",
      "\u001b[36mpnwk2a3qj3-algo-1-5o2o5 |\u001b[0m SM_HPS={\"epochs\":1}\n",
      "\u001b[36mpnwk2a3qj3-algo-1-5o2o5 |\u001b[0m SM_USER_ENTRY_POINT=cifar10.py\n",
      "\u001b[36mpnwk2a3qj3-algo-1-5o2o5 |\u001b[0m SM_FRAMEWORK_PARAMS={}\n",
      "\u001b[36mpnwk2a3qj3-algo-1-5o2o5 |\u001b[0m SM_RESOURCE_CONFIG={\"current_host\":\"algo-1-5o2o5\",\"hosts\":[\"algo-1-5o2o5\"]}\n",
      "\u001b[36mpnwk2a3qj3-algo-1-5o2o5 |\u001b[0m SM_INPUT_DATA_CONFIG={\"training\":{\"TrainingInputMode\":\"File\"}}\n",
      "\u001b[36mpnwk2a3qj3-algo-1-5o2o5 |\u001b[0m SM_OUTPUT_DATA_DIR=/opt/ml/output/data\n",
      "\u001b[36mpnwk2a3qj3-algo-1-5o2o5 |\u001b[0m SM_CHANNELS=[\"training\"]\n",
      "\u001b[36mpnwk2a3qj3-algo-1-5o2o5 |\u001b[0m SM_CURRENT_HOST=algo-1-5o2o5\n",
      "\u001b[36mpnwk2a3qj3-algo-1-5o2o5 |\u001b[0m SM_MODULE_NAME=cifar10\n",
      "\u001b[36mpnwk2a3qj3-algo-1-5o2o5 |\u001b[0m SM_LOG_LEVEL=20\n",
      "\u001b[36mpnwk2a3qj3-algo-1-5o2o5 |\u001b[0m SM_FRAMEWORK_MODULE=sagemaker_pytorch_container.training:main\n",
      "\u001b[36mpnwk2a3qj3-algo-1-5o2o5 |\u001b[0m SM_INPUT_DIR=/opt/ml/input\n",
      "\u001b[36mpnwk2a3qj3-algo-1-5o2o5 |\u001b[0m SM_INPUT_CONFIG_DIR=/opt/ml/input/config\n",
      "\u001b[36mpnwk2a3qj3-algo-1-5o2o5 |\u001b[0m SM_OUTPUT_DIR=/opt/ml/output\n",
      "\u001b[36mpnwk2a3qj3-algo-1-5o2o5 |\u001b[0m SM_NUM_CPUS=4\n",
      "\u001b[36mpnwk2a3qj3-algo-1-5o2o5 |\u001b[0m SM_NUM_GPUS=0\n",
      "\u001b[36mpnwk2a3qj3-algo-1-5o2o5 |\u001b[0m SM_MODEL_DIR=/opt/ml/model\n",
      "\u001b[36mpnwk2a3qj3-algo-1-5o2o5 |\u001b[0m SM_MODULE_DIR=/opt/ml/code\n",
      "\u001b[36mpnwk2a3qj3-algo-1-5o2o5 |\u001b[0m SM_TRAINING_ENV={\"additional_framework_parameters\":{},\"channel_input_dirs\":{\"training\":\"/opt/ml/input/data/training\"},\"current_host\":\"algo-1-5o2o5\",\"framework_module\":\"sagemaker_pytorch_container.training:main\",\"hosts\":[\"algo-1-5o2o5\"],\"hyperparameters\":{\"epochs\":1},\"input_config_dir\":\"/opt/ml/input/config\",\"input_data_config\":{\"training\":{\"TrainingInputMode\":\"File\"}},\"input_dir\":\"/opt/ml/input\",\"is_master\":true,\"job_name\":\"pytorch-extended-container-test-2022-08-18-07-54-16-640\",\"log_level\":20,\"master_hostname\":\"algo-1-5o2o5\",\"model_dir\":\"/opt/ml/model\",\"module_dir\":\"/opt/ml/code\",\"module_name\":\"cifar10\",\"network_interface_name\":\"eth0\",\"num_cpus\":4,\"num_gpus\":0,\"output_data_dir\":\"/opt/ml/output/data\",\"output_dir\":\"/opt/ml/output\",\"output_intermediate_dir\":\"/opt/ml/output/intermediate\",\"resource_config\":{\"current_host\":\"algo-1-5o2o5\",\"hosts\":[\"algo-1-5o2o5\"]},\"user_entry_point\":\"cifar10.py\"}\n",
      "\u001b[36mpnwk2a3qj3-algo-1-5o2o5 |\u001b[0m SM_USER_ARGS=[\"--epochs\",\"1\"]\n",
      "\u001b[36mpnwk2a3qj3-algo-1-5o2o5 |\u001b[0m SM_OUTPUT_INTERMEDIATE_DIR=/opt/ml/output/intermediate\n",
      "\u001b[36mpnwk2a3qj3-algo-1-5o2o5 |\u001b[0m SM_CHANNEL_TRAINING=/opt/ml/input/data/training\n",
      "\u001b[36mpnwk2a3qj3-algo-1-5o2o5 |\u001b[0m SM_HP_EPOCHS=1\n",
      "\u001b[36mpnwk2a3qj3-algo-1-5o2o5 |\u001b[0m PYTHONPATH=/opt/ml/code:/opt/conda/bin:/opt/conda/lib/python36.zip:/opt/conda/lib/python3.6:/opt/conda/lib/python3.6/lib-dynload:/opt/conda/lib/python3.6/site-packages\n",
      "\u001b[36mpnwk2a3qj3-algo-1-5o2o5 |\u001b[0m \n",
      "\u001b[36mpnwk2a3qj3-algo-1-5o2o5 |\u001b[0m Invoking script with the following command:\n",
      "\u001b[36mpnwk2a3qj3-algo-1-5o2o5 |\u001b[0m \n",
      "\u001b[36mpnwk2a3qj3-algo-1-5o2o5 |\u001b[0m /opt/conda/bin/python3.6 cifar10.py --epochs 1\n",
      "\u001b[36mpnwk2a3qj3-algo-1-5o2o5 |\u001b[0m \n",
      "\u001b[36mpnwk2a3qj3-algo-1-5o2o5 |\u001b[0m \n",
      "\u001b[36mpnwk2a3qj3-algo-1-5o2o5 |\u001b[0m [1,  2000] loss: 2.270\n",
      "\u001b[36mpnwk2a3qj3-algo-1-5o2o5 |\u001b[0m [1,  4000] loss: 1.935\n",
      "\u001b[36mpnwk2a3qj3-algo-1-5o2o5 |\u001b[0m [1,  6000] loss: 1.707\n",
      "\u001b[36mpnwk2a3qj3-algo-1-5o2o5 |\u001b[0m [1,  8000] loss: 1.619\n",
      "\u001b[36mpnwk2a3qj3-algo-1-5o2o5 |\u001b[0m [1, 10000] loss: 1.522\n",
      "\u001b[36mpnwk2a3qj3-algo-1-5o2o5 |\u001b[0m [1, 12000] loss: 1.471\n",
      "\u001b[36mpnwk2a3qj3-algo-1-5o2o5 |\u001b[0m Finished Training\n",
      "\u001b[36mpnwk2a3qj3-algo-1-5o2o5 |\u001b[0m INFO:__main__:Saving the model.\n",
      "\u001b[36mpnwk2a3qj3-algo-1-5o2o5 |\u001b[0m \n",
      "\u001b[36mpnwk2a3qj3-algo-1-5o2o5 |\u001b[0m 2022-08-18 07:55:45,155 sagemaker-training-toolkit INFO     Reporting training SUCCESS\n",
      "\u001b[36mpnwk2a3qj3-algo-1-5o2o5 exited with code 0\n",
      "\u001b[0mAborting on container exit...\n",
      "===== Job Complete =====\n"
     ]
    }
   ],
   "source": [
    "from sagemaker.estimator import Estimator\n",
    "\n",
    "hyperparameters={'epochs': 1}\n",
    "\n",
    "estimator=Estimator(\n",
    "    image_uri='pytorch-extended-container-test',\n",
    "    role=role,\n",
    "    instance_count=1,\n",
    "    instance_type='local',\n",
    "    hyperparameters=hyperparameters\n",
    ")\n",
    "\n",
    "estimator.fit('file:///tmp/pytorch-example/cifar-10-data')"
   ]
  }
 ],
 "metadata": {
  "kernelspec": {
   "display_name": "conda_pytorch_p36",
   "language": "python",
   "name": "conda_pytorch_p36"
  },
  "language_info": {
   "codemirror_mode": {
    "name": "ipython",
    "version": 3
   },
   "file_extension": ".py",
   "mimetype": "text/x-python",
   "name": "python",
   "nbconvert_exporter": "python",
   "pygments_lexer": "ipython3",
   "version": "3.6.13"
  }
 },
 "nbformat": 4,
 "nbformat_minor": 5
}
