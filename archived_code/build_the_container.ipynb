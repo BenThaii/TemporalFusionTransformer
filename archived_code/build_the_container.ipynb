{
 "cells": [
  {
   "cell_type": "code",
   "execution_count": 1,
   "id": "2a64719d",
   "metadata": {},
   "outputs": [
    {
     "name": "stdout",
     "output_type": "stream",
     "text": [
      "/home/ec2-user/SageMaker/TemporalFusionTransformer/docker_test_folder\n"
     ]
    }
   ],
   "source": [
    "cd ~/SageMaker/TemporalFusionTransformer/docker_test_folder"
   ]
  },
  {
   "cell_type": "code",
   "execution_count": 2,
   "id": "77bd0e95",
   "metadata": {},
   "outputs": [
    {
     "name": "stdout",
     "output_type": "stream",
     "text": [
      "/home/ec2-user/SageMaker/TemporalFusionTransformer/docker_test_folder\r\n"
     ]
    }
   ],
   "source": [
    "! pwd"
   ]
  },
  {
   "cell_type": "code",
   "execution_count": 3,
   "id": "d284044e",
   "metadata": {},
   "outputs": [
    {
     "name": "stdout",
     "output_type": "stream",
     "text": [
      "WARNING! Your password will be stored unencrypted in /home/ec2-user/.docker/config.json.\r\n",
      "Configure a credential helper to remove this warning. See\r\n",
      "https://docs.docker.com/engine/reference/commandline/login/#credentials-store\r\n",
      "\r\n",
      "Login Succeeded\r\n"
     ]
    }
   ],
   "source": [
    "! aws ecr get-login-password --region us-east-1 | docker login --username AWS --password-stdin 763104351884.dkr.ecr.us-east-1.amazonaws.com"
   ]
  },
  {
   "cell_type": "code",
   "execution_count": 4,
   "id": "00c53b72",
   "metadata": {},
   "outputs": [
    {
     "name": "stdout",
     "output_type": "stream",
     "text": [
      "Sending build context to Docker daemon   12.8kB\n",
      "Step 1/5 : FROM 763104351884.dkr.ecr.us-east-1.amazonaws.com/pytorch-training:1.5.1-cpu-py36-ubuntu16.04\n",
      " ---> 6177bf009b27\n",
      "Step 2/5 : ENV PATH=\"/opt/ml/code:${PATH}\"\n",
      " ---> Using cache\n",
      " ---> 359e9cd566b8\n",
      "Step 3/5 : ENV SAGEMAKER_SUBMIT_DIRECTORY /opt/ml/code\n",
      " ---> Using cache\n",
      " ---> 424ae9cdb5e5\n",
      "Step 4/5 : COPY cifar10.py /opt/ml/code/cifar10.py\n",
      " ---> eaeb205f20f4\n",
      "Step 5/5 : ENV SAGEMAKER_PROGRAM cifar10.py\n",
      " ---> Running in b37af09c0e69\n",
      "Removing intermediate container b37af09c0e69\n",
      " ---> f9f10d4ac716\n",
      "Successfully built f9f10d4ac716\n",
      "Successfully tagged pytorch-extended-container-test:latest\n"
     ]
    }
   ],
   "source": [
    "! docker build -t pytorch-extended-container-test ."
   ]
  },
  {
   "cell_type": "code",
   "execution_count": null,
   "id": "9ee4b695",
   "metadata": {},
   "outputs": [],
   "source": []
  }
 ],
 "metadata": {
  "kernelspec": {
   "display_name": "conda_pytorch_p36",
   "language": "python",
   "name": "conda_pytorch_p36"
  },
  "language_info": {
   "codemirror_mode": {
    "name": "ipython",
    "version": 3
   },
   "file_extension": ".py",
   "mimetype": "text/x-python",
   "name": "python",
   "nbconvert_exporter": "python",
   "pygments_lexer": "ipython3",
   "version": "3.6.13"
  }
 },
 "nbformat": 4,
 "nbformat_minor": 5
}
