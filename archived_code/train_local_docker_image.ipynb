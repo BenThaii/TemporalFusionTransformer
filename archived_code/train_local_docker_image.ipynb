{
 "cells": [
  {
   "cell_type": "code",
   "execution_count": 1,
   "id": "b4ad6dc8",
   "metadata": {},
   "outputs": [
    {
     "name": "stdout",
     "output_type": "stream",
     "text": [
      "Downloading https://www.cs.toronto.edu/~kriz/cifar-10-python.tar.gz to /tmp/pytorch-example/cifar-10-data/cifar-10-python.tar.gz\n"
     ]
    },
    {
     "data": {
      "application/vnd.jupyter.widget-view+json": {
       "model_id": "f4b0328ee086432bb4a4fbbb7a2ac78c",
       "version_major": 2,
       "version_minor": 0
      },
      "text/plain": [
       "  0%|          | 0/170498071 [00:00<?, ?it/s]"
      ]
     },
     "metadata": {},
     "output_type": "display_data"
    },
    {
     "name": "stdout",
     "output_type": "stream",
     "text": [
      "Extracting /tmp/pytorch-example/cifar-10-data/cifar-10-python.tar.gz to /tmp/pytorch-example/cifar-10-data\n",
      "Files already downloaded and verified\n"
     ]
    }
   ],
   "source": [
    "import torch\n",
    "import torchvision\n",
    "import torchvision.transforms as transforms\n",
    "\n",
    "def _get_transform():\n",
    "    return transforms.Compose(\n",
    "        [transforms.ToTensor(),\n",
    "         transforms.Normalize((0.5, 0.5, 0.5), (0.5, 0.5, 0.5))])\n",
    "\n",
    "\n",
    "def get_train_data_loader(data_dir='/tmp/pytorch/cifar-10-data'):\n",
    "    transform=_get_transform()\n",
    "    trainset=torchvision.datasets.CIFAR10(root=data_dir, train=True,\n",
    "                                            download=True, transform=transform)\n",
    "    return torch.utils.data.DataLoader(trainset, batch_size=4,\n",
    "                                       shuffle=True, num_workers=2)\n",
    "\n",
    "\n",
    "def get_test_data_loader(data_dir='/tmp/pytorch/cifar-10-data'):\n",
    "    transform=_get_transform()\n",
    "    testset=torchvision.datasets.CIFAR10(root=data_dir, train=False,\n",
    "                                           download=True, transform=transform)\n",
    "    return torch.utils.data.DataLoader(testset, batch_size=4,\n",
    "                                       shuffle=False, num_workers=2)\n",
    "\n",
    "trainloader=get_train_data_loader('/tmp/pytorch-example/cifar-10-data')\n",
    "testloader=get_test_data_loader('/tmp/pytorch-example/cifar-10-data')"
   ]
  },
  {
   "cell_type": "code",
   "execution_count": 2,
   "id": "c8c93950",
   "metadata": {},
   "outputs": [],
   "source": [
    "from sagemaker import get_execution_role\n",
    "\n",
    "role=get_execution_role()"
   ]
  },
  {
   "cell_type": "code",
   "execution_count": 4,
   "id": "b865b48c",
   "metadata": {},
   "outputs": [
    {
     "name": "stdout",
     "output_type": "stream",
     "text": [
      "Creating svvnf5xnlk-algo-1-b3i26 ... \n",
      "Creating svvnf5xnlk-algo-1-b3i26 ... done\n",
      "Attaching to svvnf5xnlk-algo-1-b3i26\n",
      "\u001b[36msvvnf5xnlk-algo-1-b3i26 |\u001b[0m 2022-08-22 10:52:04,694 sagemaker-training-toolkit INFO     Imported framework sagemaker_pytorch_container.training\n",
      "\u001b[36msvvnf5xnlk-algo-1-b3i26 |\u001b[0m 2022-08-22 10:52:04,696 sagemaker-training-toolkit INFO     No GPUs detected (normal if no gpus installed)\n",
      "\u001b[36msvvnf5xnlk-algo-1-b3i26 |\u001b[0m 2022-08-22 10:52:04,706 sagemaker_pytorch_container.training INFO     Block until all host DNS lookups succeed.\n",
      "\u001b[36msvvnf5xnlk-algo-1-b3i26 |\u001b[0m 2022-08-22 10:52:04,709 sagemaker_pytorch_container.training INFO     Invoking user training script.\n",
      "\u001b[36msvvnf5xnlk-algo-1-b3i26 |\u001b[0m 2022-08-22 10:52:04,712 sagemaker-training-toolkit INFO     No GPUs detected (normal if no gpus installed)\n",
      "\u001b[36msvvnf5xnlk-algo-1-b3i26 |\u001b[0m 2022-08-22 10:52:04,723 sagemaker-training-toolkit INFO     No GPUs detected (normal if no gpus installed)\n",
      "\u001b[36msvvnf5xnlk-algo-1-b3i26 |\u001b[0m 2022-08-22 10:52:04,735 sagemaker-training-toolkit INFO     No GPUs detected (normal if no gpus installed)\n",
      "\u001b[36msvvnf5xnlk-algo-1-b3i26 |\u001b[0m 2022-08-22 10:52:04,745 sagemaker-training-toolkit INFO     Invoking user script\n",
      "\u001b[36msvvnf5xnlk-algo-1-b3i26 |\u001b[0m \n",
      "\u001b[36msvvnf5xnlk-algo-1-b3i26 |\u001b[0m Training Env:\n",
      "\u001b[36msvvnf5xnlk-algo-1-b3i26 |\u001b[0m \n",
      "\u001b[36msvvnf5xnlk-algo-1-b3i26 |\u001b[0m {\n",
      "\u001b[36msvvnf5xnlk-algo-1-b3i26 |\u001b[0m     \"additional_framework_parameters\": {},\n",
      "\u001b[36msvvnf5xnlk-algo-1-b3i26 |\u001b[0m     \"channel_input_dirs\": {\n",
      "\u001b[36msvvnf5xnlk-algo-1-b3i26 |\u001b[0m         \"training\": \"/opt/ml/input/data/training\"\n",
      "\u001b[36msvvnf5xnlk-algo-1-b3i26 |\u001b[0m     },\n",
      "\u001b[36msvvnf5xnlk-algo-1-b3i26 |\u001b[0m     \"current_host\": \"algo-1-b3i26\",\n",
      "\u001b[36msvvnf5xnlk-algo-1-b3i26 |\u001b[0m     \"framework_module\": \"sagemaker_pytorch_container.training:main\",\n",
      "\u001b[36msvvnf5xnlk-algo-1-b3i26 |\u001b[0m     \"hosts\": [\n",
      "\u001b[36msvvnf5xnlk-algo-1-b3i26 |\u001b[0m         \"algo-1-b3i26\"\n",
      "\u001b[36msvvnf5xnlk-algo-1-b3i26 |\u001b[0m     ],\n",
      "\u001b[36msvvnf5xnlk-algo-1-b3i26 |\u001b[0m     \"hyperparameters\": {\n",
      "\u001b[36msvvnf5xnlk-algo-1-b3i26 |\u001b[0m         \"epochs\": 1\n",
      "\u001b[36msvvnf5xnlk-algo-1-b3i26 |\u001b[0m     },\n",
      "\u001b[36msvvnf5xnlk-algo-1-b3i26 |\u001b[0m     \"input_config_dir\": \"/opt/ml/input/config\",\n",
      "\u001b[36msvvnf5xnlk-algo-1-b3i26 |\u001b[0m     \"input_data_config\": {\n",
      "\u001b[36msvvnf5xnlk-algo-1-b3i26 |\u001b[0m         \"training\": {\n",
      "\u001b[36msvvnf5xnlk-algo-1-b3i26 |\u001b[0m             \"TrainingInputMode\": \"File\"\n",
      "\u001b[36msvvnf5xnlk-algo-1-b3i26 |\u001b[0m         }\n",
      "\u001b[36msvvnf5xnlk-algo-1-b3i26 |\u001b[0m     },\n",
      "\u001b[36msvvnf5xnlk-algo-1-b3i26 |\u001b[0m     \"input_dir\": \"/opt/ml/input\",\n",
      "\u001b[36msvvnf5xnlk-algo-1-b3i26 |\u001b[0m     \"is_master\": true,\n",
      "\u001b[36msvvnf5xnlk-algo-1-b3i26 |\u001b[0m     \"job_name\": \"pytorch-extended-container-test-2022-08-22-10-52-01-839\",\n",
      "\u001b[36msvvnf5xnlk-algo-1-b3i26 |\u001b[0m     \"log_level\": 20,\n",
      "\u001b[36msvvnf5xnlk-algo-1-b3i26 |\u001b[0m     \"master_hostname\": \"algo-1-b3i26\",\n",
      "\u001b[36msvvnf5xnlk-algo-1-b3i26 |\u001b[0m     \"model_dir\": \"/opt/ml/model\",\n",
      "\u001b[36msvvnf5xnlk-algo-1-b3i26 |\u001b[0m     \"module_dir\": \"/opt/ml/code\",\n",
      "\u001b[36msvvnf5xnlk-algo-1-b3i26 |\u001b[0m     \"module_name\": \"cifar10\",\n",
      "\u001b[36msvvnf5xnlk-algo-1-b3i26 |\u001b[0m     \"network_interface_name\": \"eth0\",\n",
      "\u001b[36msvvnf5xnlk-algo-1-b3i26 |\u001b[0m     \"num_cpus\": 2,\n",
      "\u001b[36msvvnf5xnlk-algo-1-b3i26 |\u001b[0m     \"num_gpus\": 0,\n",
      "\u001b[36msvvnf5xnlk-algo-1-b3i26 |\u001b[0m     \"output_data_dir\": \"/opt/ml/output/data\",\n",
      "\u001b[36msvvnf5xnlk-algo-1-b3i26 |\u001b[0m     \"output_dir\": \"/opt/ml/output\",\n",
      "\u001b[36msvvnf5xnlk-algo-1-b3i26 |\u001b[0m     \"output_intermediate_dir\": \"/opt/ml/output/intermediate\",\n",
      "\u001b[36msvvnf5xnlk-algo-1-b3i26 |\u001b[0m     \"resource_config\": {\n",
      "\u001b[36msvvnf5xnlk-algo-1-b3i26 |\u001b[0m         \"current_host\": \"algo-1-b3i26\",\n",
      "\u001b[36msvvnf5xnlk-algo-1-b3i26 |\u001b[0m         \"hosts\": [\n",
      "\u001b[36msvvnf5xnlk-algo-1-b3i26 |\u001b[0m             \"algo-1-b3i26\"\n",
      "\u001b[36msvvnf5xnlk-algo-1-b3i26 |\u001b[0m         ]\n",
      "\u001b[36msvvnf5xnlk-algo-1-b3i26 |\u001b[0m     },\n",
      "\u001b[36msvvnf5xnlk-algo-1-b3i26 |\u001b[0m     \"user_entry_point\": \"cifar10.py\"\n",
      "\u001b[36msvvnf5xnlk-algo-1-b3i26 |\u001b[0m }\n",
      "\u001b[36msvvnf5xnlk-algo-1-b3i26 |\u001b[0m \n",
      "\u001b[36msvvnf5xnlk-algo-1-b3i26 |\u001b[0m Environment variables:\n",
      "\u001b[36msvvnf5xnlk-algo-1-b3i26 |\u001b[0m \n",
      "\u001b[36msvvnf5xnlk-algo-1-b3i26 |\u001b[0m SM_HOSTS=[\"algo-1-b3i26\"]\n",
      "\u001b[36msvvnf5xnlk-algo-1-b3i26 |\u001b[0m SM_NETWORK_INTERFACE_NAME=eth0\n",
      "\u001b[36msvvnf5xnlk-algo-1-b3i26 |\u001b[0m SM_HPS={\"epochs\":1}\n",
      "\u001b[36msvvnf5xnlk-algo-1-b3i26 |\u001b[0m SM_USER_ENTRY_POINT=cifar10.py\n",
      "\u001b[36msvvnf5xnlk-algo-1-b3i26 |\u001b[0m SM_FRAMEWORK_PARAMS={}\n",
      "\u001b[36msvvnf5xnlk-algo-1-b3i26 |\u001b[0m SM_RESOURCE_CONFIG={\"current_host\":\"algo-1-b3i26\",\"hosts\":[\"algo-1-b3i26\"]}\n",
      "\u001b[36msvvnf5xnlk-algo-1-b3i26 |\u001b[0m SM_INPUT_DATA_CONFIG={\"training\":{\"TrainingInputMode\":\"File\"}}\n",
      "\u001b[36msvvnf5xnlk-algo-1-b3i26 |\u001b[0m SM_OUTPUT_DATA_DIR=/opt/ml/output/data\n",
      "\u001b[36msvvnf5xnlk-algo-1-b3i26 |\u001b[0m SM_CHANNELS=[\"training\"]\n",
      "\u001b[36msvvnf5xnlk-algo-1-b3i26 |\u001b[0m SM_CURRENT_HOST=algo-1-b3i26\n",
      "\u001b[36msvvnf5xnlk-algo-1-b3i26 |\u001b[0m SM_MODULE_NAME=cifar10\n",
      "\u001b[36msvvnf5xnlk-algo-1-b3i26 |\u001b[0m SM_LOG_LEVEL=20\n",
      "\u001b[36msvvnf5xnlk-algo-1-b3i26 |\u001b[0m SM_FRAMEWORK_MODULE=sagemaker_pytorch_container.training:main\n",
      "\u001b[36msvvnf5xnlk-algo-1-b3i26 |\u001b[0m SM_INPUT_DIR=/opt/ml/input\n",
      "\u001b[36msvvnf5xnlk-algo-1-b3i26 |\u001b[0m SM_INPUT_CONFIG_DIR=/opt/ml/input/config\n",
      "\u001b[36msvvnf5xnlk-algo-1-b3i26 |\u001b[0m SM_OUTPUT_DIR=/opt/ml/output\n",
      "\u001b[36msvvnf5xnlk-algo-1-b3i26 |\u001b[0m SM_NUM_CPUS=2\n",
      "\u001b[36msvvnf5xnlk-algo-1-b3i26 |\u001b[0m SM_NUM_GPUS=0\n",
      "\u001b[36msvvnf5xnlk-algo-1-b3i26 |\u001b[0m SM_MODEL_DIR=/opt/ml/model\n",
      "\u001b[36msvvnf5xnlk-algo-1-b3i26 |\u001b[0m SM_MODULE_DIR=/opt/ml/code\n",
      "\u001b[36msvvnf5xnlk-algo-1-b3i26 |\u001b[0m SM_TRAINING_ENV={\"additional_framework_parameters\":{},\"channel_input_dirs\":{\"training\":\"/opt/ml/input/data/training\"},\"current_host\":\"algo-1-b3i26\",\"framework_module\":\"sagemaker_pytorch_container.training:main\",\"hosts\":[\"algo-1-b3i26\"],\"hyperparameters\":{\"epochs\":1},\"input_config_dir\":\"/opt/ml/input/config\",\"input_data_config\":{\"training\":{\"TrainingInputMode\":\"File\"}},\"input_dir\":\"/opt/ml/input\",\"is_master\":true,\"job_name\":\"pytorch-extended-container-test-2022-08-22-10-52-01-839\",\"log_level\":20,\"master_hostname\":\"algo-1-b3i26\",\"model_dir\":\"/opt/ml/model\",\"module_dir\":\"/opt/ml/code\",\"module_name\":\"cifar10\",\"network_interface_name\":\"eth0\",\"num_cpus\":2,\"num_gpus\":0,\"output_data_dir\":\"/opt/ml/output/data\",\"output_dir\":\"/opt/ml/output\",\"output_intermediate_dir\":\"/opt/ml/output/intermediate\",\"resource_config\":{\"current_host\":\"algo-1-b3i26\",\"hosts\":[\"algo-1-b3i26\"]},\"user_entry_point\":\"cifar10.py\"}\n",
      "\u001b[36msvvnf5xnlk-algo-1-b3i26 |\u001b[0m SM_USER_ARGS=[\"--epochs\",\"1\"]\n",
      "\u001b[36msvvnf5xnlk-algo-1-b3i26 |\u001b[0m SM_OUTPUT_INTERMEDIATE_DIR=/opt/ml/output/intermediate\n",
      "\u001b[36msvvnf5xnlk-algo-1-b3i26 |\u001b[0m SM_CHANNEL_TRAINING=/opt/ml/input/data/training\n",
      "\u001b[36msvvnf5xnlk-algo-1-b3i26 |\u001b[0m SM_HP_EPOCHS=1\n",
      "\u001b[36msvvnf5xnlk-algo-1-b3i26 |\u001b[0m PYTHONPATH=/opt/ml/code:/opt/conda/bin:/opt/conda/lib/python36.zip:/opt/conda/lib/python3.6:/opt/conda/lib/python3.6/lib-dynload:/opt/conda/lib/python3.6/site-packages\n",
      "\u001b[36msvvnf5xnlk-algo-1-b3i26 |\u001b[0m \n",
      "\u001b[36msvvnf5xnlk-algo-1-b3i26 |\u001b[0m Invoking script with the following command:\n",
      "\u001b[36msvvnf5xnlk-algo-1-b3i26 |\u001b[0m \n",
      "\u001b[36msvvnf5xnlk-algo-1-b3i26 |\u001b[0m /opt/conda/bin/python3.6 cifar10.py --epochs 1\n",
      "\u001b[36msvvnf5xnlk-algo-1-b3i26 |\u001b[0m \n",
      "\u001b[36msvvnf5xnlk-algo-1-b3i26 |\u001b[0m \n",
      "\u001b[36msvvnf5xnlk-algo-1-b3i26 |\u001b[0m Creating Checkpointing directory /opt/ml/checkpoints\n",
      "\u001b[36msvvnf5xnlk-algo-1-b3i26 |\u001b[0m Device Type: cpu\n",
      "\u001b[36msvvnf5xnlk-algo-1-b3i26 |\u001b[0m Loading Cifar10 dataset\n",
      "\u001b[36msvvnf5xnlk-algo-1-b3i26 |\u001b[0m Model loaded\n",
      "\u001b[36msvvnf5xnlk-algo-1-b3i26 |\u001b[0m [1,  2000] loss: 2.168\n",
      "\u001b[36msvvnf5xnlk-algo-1-b3i26 |\u001b[0m [1,  4000] loss: 1.822\n",
      "\u001b[36msvvnf5xnlk-algo-1-b3i26 |\u001b[0m [1,  6000] loss: 1.659\n",
      "\u001b[36msvvnf5xnlk-algo-1-b3i26 |\u001b[0m [1,  8000] loss: 1.562\n",
      "\u001b[36msvvnf5xnlk-algo-1-b3i26 |\u001b[0m [1, 10000] loss: 1.521\n",
      "\u001b[36msvvnf5xnlk-algo-1-b3i26 |\u001b[0m [1, 12000] loss: 1.459\n",
      "\u001b[36msvvnf5xnlk-algo-1-b3i26 |\u001b[0m epoch: 1 - loss: 1.9005111455917358\n",
      "\u001b[36msvvnf5xnlk-algo-1-b3i26 |\u001b[0m Saving the Checkpoint: /opt/ml/checkpoints/checkpoint.pth\n",
      "\u001b[36msvvnf5xnlk-algo-1-b3i26 |\u001b[0m Finished Training\n",
      "\u001b[36msvvnf5xnlk-algo-1-b3i26 |\u001b[0m Saving the model.\n",
      "\u001b[36msvvnf5xnlk-algo-1-b3i26 |\u001b[0m \n",
      "\u001b[36msvvnf5xnlk-algo-1-b3i26 |\u001b[0m 2022-08-22 10:53:17,444 sagemaker-training-toolkit INFO     Reporting training SUCCESS\n",
      "\u001b[36msvvnf5xnlk-algo-1-b3i26 exited with code 0\n",
      "\u001b[0mAborting on container exit...\n"
     ]
    },
    {
     "name": "stdout",
     "output_type": "stream",
     "text": [
      "===== Job Complete =====\n"
     ]
    }
   ],
   "source": [
    "from sagemaker.estimator import Estimator\n",
    "\n",
    "hyperparameters={'epochs': 1}\n",
    "\n",
    "estimator=Estimator(\n",
    "    image_uri='pytorch-extended-container-test',\n",
    "    role=role,\n",
    "    instance_count=1,\n",
    "    instance_type='local',\n",
    "    hyperparameters=hyperparameters\n",
    ")\n",
    "\n",
    "estimator.fit('file:///tmp/pytorch-example/cifar-10-data')"
   ]
  },
  {
   "cell_type": "code",
   "execution_count": 8,
   "id": "08d29726",
   "metadata": {},
   "outputs": [
    {
     "ename": "FileNotFoundError",
     "evalue": "[Errno 2] No such file or directory: 'model-script/'",
     "output_type": "error",
     "traceback": [
      "\u001b[0;31m---------------------------------------------------------------------------\u001b[0m",
      "\u001b[0;31mFileNotFoundError\u001b[0m                         Traceback (most recent call last)",
      "\u001b[0;32m<ipython-input-8-b5c488ade744>\u001b[0m in \u001b[0;36m<module>\u001b[0;34m\u001b[0m\n\u001b[1;32m     13\u001b[0m \u001b[0;34m\u001b[0m\u001b[0m\n\u001b[1;32m     14\u001b[0m \u001b[0;31m# Create transformer from PyTorchModel object\u001b[0m\u001b[0;34m\u001b[0m\u001b[0;34m\u001b[0m\u001b[0;34m\u001b[0m\u001b[0m\n\u001b[0;32m---> 15\u001b[0;31m \u001b[0mtransformer\u001b[0m \u001b[0;34m=\u001b[0m \u001b[0mpytorch_model\u001b[0m\u001b[0;34m.\u001b[0m\u001b[0mtransformer\u001b[0m\u001b[0;34m(\u001b[0m\u001b[0minstance_count\u001b[0m\u001b[0;34m=\u001b[0m\u001b[0;36m1\u001b[0m\u001b[0;34m,\u001b[0m \u001b[0minstance_type\u001b[0m\u001b[0;34m=\u001b[0m\u001b[0;34m\"ml.c5.xlarge\"\u001b[0m\u001b[0;34m)\u001b[0m\u001b[0;34m\u001b[0m\u001b[0;34m\u001b[0m\u001b[0m\n\u001b[0m",
      "\u001b[0;32m~/anaconda3/envs/pytorch_p36/lib/python3.6/site-packages/sagemaker/model.py\u001b[0m in \u001b[0;36mtransformer\u001b[0;34m(self, instance_count, instance_type, strategy, assemble_with, output_path, output_kms_key, accept, env, max_concurrent_transforms, max_payload, tags, volume_kms_key)\u001b[0m\n\u001b[1;32m   1243\u001b[0m         \u001b[0mself\u001b[0m\u001b[0;34m.\u001b[0m\u001b[0m_init_sagemaker_session_if_does_not_exist\u001b[0m\u001b[0;34m(\u001b[0m\u001b[0minstance_type\u001b[0m\u001b[0;34m)\u001b[0m\u001b[0;34m\u001b[0m\u001b[0;34m\u001b[0m\u001b[0m\n\u001b[1;32m   1244\u001b[0m \u001b[0;34m\u001b[0m\u001b[0m\n\u001b[0;32m-> 1245\u001b[0;31m         \u001b[0mself\u001b[0m\u001b[0;34m.\u001b[0m\u001b[0m_create_sagemaker_model\u001b[0m\u001b[0;34m(\u001b[0m\u001b[0minstance_type\u001b[0m\u001b[0;34m,\u001b[0m \u001b[0mtags\u001b[0m\u001b[0;34m=\u001b[0m\u001b[0mtags\u001b[0m\u001b[0;34m)\u001b[0m\u001b[0;34m\u001b[0m\u001b[0;34m\u001b[0m\u001b[0m\n\u001b[0m\u001b[1;32m   1246\u001b[0m         \u001b[0;32mif\u001b[0m \u001b[0mself\u001b[0m\u001b[0;34m.\u001b[0m\u001b[0menable_network_isolation\u001b[0m\u001b[0;34m(\u001b[0m\u001b[0;34m)\u001b[0m\u001b[0;34m:\u001b[0m\u001b[0;34m\u001b[0m\u001b[0;34m\u001b[0m\u001b[0m\n\u001b[1;32m   1247\u001b[0m             \u001b[0menv\u001b[0m \u001b[0;34m=\u001b[0m \u001b[0;32mNone\u001b[0m\u001b[0;34m\u001b[0m\u001b[0;34m\u001b[0m\u001b[0m\n",
      "\u001b[0;32m~/anaconda3/envs/pytorch_p36/lib/python3.6/site-packages/sagemaker/model.py\u001b[0m in \u001b[0;36m_create_sagemaker_model\u001b[0;34m(self, instance_type, accelerator_type, tags, serverless_inference_config)\u001b[0m\n\u001b[1;32m    646\u001b[0m             \u001b[0minstance_type\u001b[0m\u001b[0;34m,\u001b[0m\u001b[0;34m\u001b[0m\u001b[0;34m\u001b[0m\u001b[0m\n\u001b[1;32m    647\u001b[0m             \u001b[0maccelerator_type\u001b[0m\u001b[0;34m=\u001b[0m\u001b[0maccelerator_type\u001b[0m\u001b[0;34m,\u001b[0m\u001b[0;34m\u001b[0m\u001b[0;34m\u001b[0m\u001b[0m\n\u001b[0;32m--> 648\u001b[0;31m             \u001b[0mserverless_inference_config\u001b[0m\u001b[0;34m=\u001b[0m\u001b[0mserverless_inference_config\u001b[0m\u001b[0;34m,\u001b[0m\u001b[0;34m\u001b[0m\u001b[0;34m\u001b[0m\u001b[0m\n\u001b[0m\u001b[1;32m    649\u001b[0m         )\n\u001b[1;32m    650\u001b[0m \u001b[0;34m\u001b[0m\u001b[0m\n",
      "\u001b[0;32m~/anaconda3/envs/pytorch_p36/lib/python3.6/site-packages/sagemaker/pytorch/model.py\u001b[0m in \u001b[0;36mprepare_container_def\u001b[0;34m(self, instance_type, accelerator_type, serverless_inference_config)\u001b[0m\n\u001b[1;32m    290\u001b[0m \u001b[0;34m\u001b[0m\u001b[0m\n\u001b[1;32m    291\u001b[0m         \u001b[0mdeploy_key_prefix\u001b[0m \u001b[0;34m=\u001b[0m \u001b[0mmodel_code_key_prefix\u001b[0m\u001b[0;34m(\u001b[0m\u001b[0mself\u001b[0m\u001b[0;34m.\u001b[0m\u001b[0mkey_prefix\u001b[0m\u001b[0;34m,\u001b[0m \u001b[0mself\u001b[0m\u001b[0;34m.\u001b[0m\u001b[0mname\u001b[0m\u001b[0;34m,\u001b[0m \u001b[0mdeploy_image\u001b[0m\u001b[0;34m)\u001b[0m\u001b[0;34m\u001b[0m\u001b[0;34m\u001b[0m\u001b[0m\n\u001b[0;32m--> 292\u001b[0;31m         \u001b[0mself\u001b[0m\u001b[0;34m.\u001b[0m\u001b[0m_upload_code\u001b[0m\u001b[0;34m(\u001b[0m\u001b[0mdeploy_key_prefix\u001b[0m\u001b[0;34m,\u001b[0m \u001b[0mrepack\u001b[0m\u001b[0;34m=\u001b[0m\u001b[0mself\u001b[0m\u001b[0;34m.\u001b[0m\u001b[0m_is_mms_version\u001b[0m\u001b[0;34m(\u001b[0m\u001b[0;34m)\u001b[0m\u001b[0;34m)\u001b[0m\u001b[0;34m\u001b[0m\u001b[0;34m\u001b[0m\u001b[0m\n\u001b[0m\u001b[1;32m    293\u001b[0m         \u001b[0mdeploy_env\u001b[0m \u001b[0;34m=\u001b[0m \u001b[0mdict\u001b[0m\u001b[0;34m(\u001b[0m\u001b[0mself\u001b[0m\u001b[0;34m.\u001b[0m\u001b[0menv\u001b[0m\u001b[0;34m)\u001b[0m\u001b[0;34m\u001b[0m\u001b[0;34m\u001b[0m\u001b[0m\n\u001b[1;32m    294\u001b[0m         \u001b[0mdeploy_env\u001b[0m\u001b[0;34m.\u001b[0m\u001b[0mupdate\u001b[0m\u001b[0;34m(\u001b[0m\u001b[0mself\u001b[0m\u001b[0;34m.\u001b[0m\u001b[0m_script_mode_env_vars\u001b[0m\u001b[0;34m(\u001b[0m\u001b[0;34m)\u001b[0m\u001b[0;34m)\u001b[0m\u001b[0;34m\u001b[0m\u001b[0;34m\u001b[0m\u001b[0m\n",
      "\u001b[0;32m~/anaconda3/envs/pytorch_p36/lib/python3.6/site-packages/sagemaker/model.py\u001b[0m in \u001b[0;36m_upload_code\u001b[0;34m(self, key_prefix, repack)\u001b[0m\n\u001b[1;32m    583\u001b[0m                 \u001b[0mrepacked_model_uri\u001b[0m\u001b[0;34m=\u001b[0m\u001b[0mrepacked_model_data\u001b[0m\u001b[0;34m,\u001b[0m\u001b[0;34m\u001b[0m\u001b[0;34m\u001b[0m\u001b[0m\n\u001b[1;32m    584\u001b[0m                 \u001b[0msagemaker_session\u001b[0m\u001b[0;34m=\u001b[0m\u001b[0mself\u001b[0m\u001b[0;34m.\u001b[0m\u001b[0msagemaker_session\u001b[0m\u001b[0;34m,\u001b[0m\u001b[0;34m\u001b[0m\u001b[0;34m\u001b[0m\u001b[0m\n\u001b[0;32m--> 585\u001b[0;31m                 \u001b[0mkms_key\u001b[0m\u001b[0;34m=\u001b[0m\u001b[0mself\u001b[0m\u001b[0;34m.\u001b[0m\u001b[0mmodel_kms_key\u001b[0m\u001b[0;34m,\u001b[0m\u001b[0;34m\u001b[0m\u001b[0;34m\u001b[0m\u001b[0m\n\u001b[0m\u001b[1;32m    586\u001b[0m             )\n\u001b[1;32m    587\u001b[0m \u001b[0;34m\u001b[0m\u001b[0m\n",
      "\u001b[0;32m~/anaconda3/envs/pytorch_p36/lib/python3.6/site-packages/sagemaker/utils.py\u001b[0m in \u001b[0;36mrepack_model\u001b[0;34m(inference_script, source_directory, dependencies, model_uri, repacked_model_uri, sagemaker_session, kms_key)\u001b[0m\n\u001b[1;32m    434\u001b[0m             \u001b[0mdependencies\u001b[0m\u001b[0;34m,\u001b[0m\u001b[0;34m\u001b[0m\u001b[0;34m\u001b[0m\u001b[0m\n\u001b[1;32m    435\u001b[0m             \u001b[0msagemaker_session\u001b[0m\u001b[0;34m,\u001b[0m\u001b[0;34m\u001b[0m\u001b[0;34m\u001b[0m\u001b[0m\n\u001b[0;32m--> 436\u001b[0;31m             \u001b[0mtmp\u001b[0m\u001b[0;34m,\u001b[0m\u001b[0;34m\u001b[0m\u001b[0;34m\u001b[0m\u001b[0m\n\u001b[0m\u001b[1;32m    437\u001b[0m         )\n\u001b[1;32m    438\u001b[0m \u001b[0;34m\u001b[0m\u001b[0m\n",
      "\u001b[0;32m~/anaconda3/envs/pytorch_p36/lib/python3.6/site-packages/sagemaker/utils.py\u001b[0m in \u001b[0;36m_create_or_update_code_dir\u001b[0;34m(model_dir, inference_script, source_directory, dependencies, sagemaker_session, tmp)\u001b[0m\n\u001b[1;32m    484\u001b[0m         \u001b[0;32mif\u001b[0m \u001b[0mos\u001b[0m\u001b[0;34m.\u001b[0m\u001b[0mpath\u001b[0m\u001b[0;34m.\u001b[0m\u001b[0mexists\u001b[0m\u001b[0;34m(\u001b[0m\u001b[0mcode_dir\u001b[0m\u001b[0;34m)\u001b[0m\u001b[0;34m:\u001b[0m\u001b[0;34m\u001b[0m\u001b[0;34m\u001b[0m\u001b[0m\n\u001b[1;32m    485\u001b[0m             \u001b[0mshutil\u001b[0m\u001b[0;34m.\u001b[0m\u001b[0mrmtree\u001b[0m\u001b[0;34m(\u001b[0m\u001b[0mcode_dir\u001b[0m\u001b[0;34m)\u001b[0m\u001b[0;34m\u001b[0m\u001b[0;34m\u001b[0m\u001b[0m\n\u001b[0;32m--> 486\u001b[0;31m         \u001b[0mshutil\u001b[0m\u001b[0;34m.\u001b[0m\u001b[0mcopytree\u001b[0m\u001b[0;34m(\u001b[0m\u001b[0msource_directory\u001b[0m\u001b[0;34m,\u001b[0m \u001b[0mcode_dir\u001b[0m\u001b[0;34m)\u001b[0m\u001b[0;34m\u001b[0m\u001b[0;34m\u001b[0m\u001b[0m\n\u001b[0m\u001b[1;32m    487\u001b[0m     \u001b[0;32melse\u001b[0m\u001b[0;34m:\u001b[0m\u001b[0;34m\u001b[0m\u001b[0;34m\u001b[0m\u001b[0m\n\u001b[1;32m    488\u001b[0m         \u001b[0;32mif\u001b[0m \u001b[0;32mnot\u001b[0m \u001b[0mos\u001b[0m\u001b[0;34m.\u001b[0m\u001b[0mpath\u001b[0m\u001b[0;34m.\u001b[0m\u001b[0mexists\u001b[0m\u001b[0;34m(\u001b[0m\u001b[0mcode_dir\u001b[0m\u001b[0;34m)\u001b[0m\u001b[0;34m:\u001b[0m\u001b[0;34m\u001b[0m\u001b[0;34m\u001b[0m\u001b[0m\n",
      "\u001b[0;32m~/anaconda3/envs/pytorch_p36/lib/python3.6/shutil.py\u001b[0m in \u001b[0;36mcopytree\u001b[0;34m(src, dst, symlinks, ignore, copy_function, ignore_dangling_symlinks)\u001b[0m\n\u001b[1;32m    313\u001b[0m \u001b[0;34m\u001b[0m\u001b[0m\n\u001b[1;32m    314\u001b[0m     \"\"\"\n\u001b[0;32m--> 315\u001b[0;31m     \u001b[0mnames\u001b[0m \u001b[0;34m=\u001b[0m \u001b[0mos\u001b[0m\u001b[0;34m.\u001b[0m\u001b[0mlistdir\u001b[0m\u001b[0;34m(\u001b[0m\u001b[0msrc\u001b[0m\u001b[0;34m)\u001b[0m\u001b[0;34m\u001b[0m\u001b[0;34m\u001b[0m\u001b[0m\n\u001b[0m\u001b[1;32m    316\u001b[0m     \u001b[0;32mif\u001b[0m \u001b[0mignore\u001b[0m \u001b[0;32mis\u001b[0m \u001b[0;32mnot\u001b[0m \u001b[0;32mNone\u001b[0m\u001b[0;34m:\u001b[0m\u001b[0;34m\u001b[0m\u001b[0;34m\u001b[0m\u001b[0m\n\u001b[1;32m    317\u001b[0m         \u001b[0mignored_names\u001b[0m \u001b[0;34m=\u001b[0m \u001b[0mignore\u001b[0m\u001b[0;34m(\u001b[0m\u001b[0msrc\u001b[0m\u001b[0;34m,\u001b[0m \u001b[0mnames\u001b[0m\u001b[0;34m)\u001b[0m\u001b[0;34m\u001b[0m\u001b[0;34m\u001b[0m\u001b[0m\n",
      "\u001b[0;31mFileNotFoundError\u001b[0m: [Errno 2] No such file or directory: 'model-script/'"
     ]
    }
   ],
   "source": []
  }
 ],
 "metadata": {
  "kernelspec": {
   "display_name": "conda_pytorch_p36",
   "language": "python",
   "name": "conda_pytorch_p36"
  },
  "language_info": {
   "codemirror_mode": {
    "name": "ipython",
    "version": 3
   },
   "file_extension": ".py",
   "mimetype": "text/x-python",
   "name": "python",
   "nbconvert_exporter": "python",
   "pygments_lexer": "ipython3",
   "version": "3.6.13"
  }
 },
 "nbformat": 4,
 "nbformat_minor": 5
}
