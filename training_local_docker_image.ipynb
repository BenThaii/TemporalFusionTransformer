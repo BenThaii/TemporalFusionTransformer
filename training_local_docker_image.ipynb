{
 "cells": [
  {
   "cell_type": "code",
   "execution_count": 2,
   "id": "d719f9ef",
   "metadata": {},
   "outputs": [
    {
     "name": "stdout",
     "output_type": "stream",
     "text": [
      "Downloading https://www.cs.toronto.edu/~kriz/cifar-10-python.tar.gz to /tmp/pytorch-example/cifar-10-data/cifar-10-python.tar.gz\n"
     ]
    },
    {
     "data": {
      "application/vnd.jupyter.widget-view+json": {
       "model_id": "e47694eb7d2b4baa9c5a824c12bb0b56",
       "version_major": 2,
       "version_minor": 0
      },
      "text/plain": [
       "  0%|          | 0/170498071 [00:00<?, ?it/s]"
      ]
     },
     "metadata": {},
     "output_type": "display_data"
    },
    {
     "name": "stdout",
     "output_type": "stream",
     "text": [
      "Extracting /tmp/pytorch-example/cifar-10-data/cifar-10-python.tar.gz to /tmp/pytorch-example/cifar-10-data\n",
      "Files already downloaded and verified\n"
     ]
    }
   ],
   "source": [
    "import torch\n",
    "import torchvision\n",
    "import torchvision.transforms as transforms\n",
    "\n",
    "def _get_transform():\n",
    "    return transforms.Compose(\n",
    "        [transforms.ToTensor(),\n",
    "         transforms.Normalize((0.5, 0.5, 0.5), (0.5, 0.5, 0.5))])\n",
    "\n",
    "\n",
    "def get_train_data_loader(data_dir='/tmp/pytorch/cifar-10-data'):\n",
    "    transform=_get_transform()\n",
    "    trainset=torchvision.datasets.CIFAR10(root=data_dir, train=True,\n",
    "                                            download=True, transform=transform)\n",
    "    return torch.utils.data.DataLoader(trainset, batch_size=4,\n",
    "                                       shuffle=True, num_workers=2)\n",
    "\n",
    "\n",
    "def get_test_data_loader(data_dir='/tmp/pytorch/cifar-10-data'):\n",
    "    transform=_get_transform()\n",
    "    testset=torchvision.datasets.CIFAR10(root=data_dir, train=False,\n",
    "                                           download=True, transform=transform)\n",
    "    return torch.utils.data.DataLoader(testset, batch_size=4,\n",
    "                                       shuffle=False, num_workers=2)\n",
    "\n",
    "trainloader=get_train_data_loader('/tmp/pytorch-example/cifar-10-data')\n",
    "testloader=get_test_data_loader('/tmp/pytorch-example/cifar-10-data')"
   ]
  },
  {
   "cell_type": "code",
   "execution_count": 1,
   "id": "7faffba6",
   "metadata": {},
   "outputs": [],
   "source": [
    "from sagemaker import get_execution_role\n",
    "\n",
    "role=get_execution_role()"
   ]
  },
  {
   "cell_type": "code",
   "execution_count": 4,
   "id": "71a84877",
   "metadata": {},
   "outputs": [
    {
     "data": {
      "text/plain": [
       "'arn:aws:iam::551329315830:role/service-role/AmazonSageMaker-ExecutionRole-20220817T152235'"
      ]
     },
     "execution_count": 4,
     "metadata": {},
     "output_type": "execute_result"
    }
   ],
   "source": [
    "role"
   ]
  },
  {
   "cell_type": "code",
   "execution_count": 3,
   "id": "fc56cc6c",
   "metadata": {},
   "outputs": [
    {
     "name": "stdout",
     "output_type": "stream",
     "text": [
      "Creating uc1fbfgbdl-algo-1-2y9kh ... \n",
      "Creating uc1fbfgbdl-algo-1-2y9kh ... done\n",
      "Attaching to uc1fbfgbdl-algo-1-2y9kh\n",
      "\u001b[36muc1fbfgbdl-algo-1-2y9kh |\u001b[0m 2022-08-20 13:23:14,690 sagemaker-training-toolkit INFO     Imported framework sagemaker_pytorch_container.training\n",
      "\u001b[36muc1fbfgbdl-algo-1-2y9kh |\u001b[0m 2022-08-20 13:23:14,692 sagemaker-training-toolkit INFO     No GPUs detected (normal if no gpus installed)\n",
      "\u001b[36muc1fbfgbdl-algo-1-2y9kh |\u001b[0m 2022-08-20 13:23:14,703 sagemaker_pytorch_container.training INFO     Block until all host DNS lookups succeed.\n",
      "\u001b[36muc1fbfgbdl-algo-1-2y9kh |\u001b[0m 2022-08-20 13:23:14,706 sagemaker_pytorch_container.training INFO     Invoking user training script.\n",
      "\u001b[36muc1fbfgbdl-algo-1-2y9kh |\u001b[0m 2022-08-20 13:23:14,710 sagemaker-training-toolkit INFO     No GPUs detected (normal if no gpus installed)\n",
      "\u001b[36muc1fbfgbdl-algo-1-2y9kh |\u001b[0m 2022-08-20 13:23:14,722 sagemaker-training-toolkit INFO     No GPUs detected (normal if no gpus installed)\n",
      "\u001b[36muc1fbfgbdl-algo-1-2y9kh |\u001b[0m 2022-08-20 13:23:14,733 sagemaker-training-toolkit INFO     No GPUs detected (normal if no gpus installed)\n",
      "\u001b[36muc1fbfgbdl-algo-1-2y9kh |\u001b[0m 2022-08-20 13:23:14,743 sagemaker-training-toolkit INFO     Invoking user script\n",
      "\u001b[36muc1fbfgbdl-algo-1-2y9kh |\u001b[0m \n",
      "\u001b[36muc1fbfgbdl-algo-1-2y9kh |\u001b[0m Training Env:\n",
      "\u001b[36muc1fbfgbdl-algo-1-2y9kh |\u001b[0m \n",
      "\u001b[36muc1fbfgbdl-algo-1-2y9kh |\u001b[0m {\n",
      "\u001b[36muc1fbfgbdl-algo-1-2y9kh |\u001b[0m     \"additional_framework_parameters\": {},\n",
      "\u001b[36muc1fbfgbdl-algo-1-2y9kh |\u001b[0m     \"channel_input_dirs\": {\n",
      "\u001b[36muc1fbfgbdl-algo-1-2y9kh |\u001b[0m         \"training\": \"/opt/ml/input/data/training\"\n",
      "\u001b[36muc1fbfgbdl-algo-1-2y9kh |\u001b[0m     },\n",
      "\u001b[36muc1fbfgbdl-algo-1-2y9kh |\u001b[0m     \"current_host\": \"algo-1-2y9kh\",\n",
      "\u001b[36muc1fbfgbdl-algo-1-2y9kh |\u001b[0m     \"framework_module\": \"sagemaker_pytorch_container.training:main\",\n",
      "\u001b[36muc1fbfgbdl-algo-1-2y9kh |\u001b[0m     \"hosts\": [\n",
      "\u001b[36muc1fbfgbdl-algo-1-2y9kh |\u001b[0m         \"algo-1-2y9kh\"\n",
      "\u001b[36muc1fbfgbdl-algo-1-2y9kh |\u001b[0m     ],\n",
      "\u001b[36muc1fbfgbdl-algo-1-2y9kh |\u001b[0m     \"hyperparameters\": {\n",
      "\u001b[36muc1fbfgbdl-algo-1-2y9kh |\u001b[0m         \"epochs\": 1\n",
      "\u001b[36muc1fbfgbdl-algo-1-2y9kh |\u001b[0m     },\n",
      "\u001b[36muc1fbfgbdl-algo-1-2y9kh |\u001b[0m     \"input_config_dir\": \"/opt/ml/input/config\",\n",
      "\u001b[36muc1fbfgbdl-algo-1-2y9kh |\u001b[0m     \"input_data_config\": {\n",
      "\u001b[36muc1fbfgbdl-algo-1-2y9kh |\u001b[0m         \"training\": {\n",
      "\u001b[36muc1fbfgbdl-algo-1-2y9kh |\u001b[0m             \"TrainingInputMode\": \"File\"\n",
      "\u001b[36muc1fbfgbdl-algo-1-2y9kh |\u001b[0m         }\n",
      "\u001b[36muc1fbfgbdl-algo-1-2y9kh |\u001b[0m     },\n",
      "\u001b[36muc1fbfgbdl-algo-1-2y9kh |\u001b[0m     \"input_dir\": \"/opt/ml/input\",\n",
      "\u001b[36muc1fbfgbdl-algo-1-2y9kh |\u001b[0m     \"is_master\": true,\n",
      "\u001b[36muc1fbfgbdl-algo-1-2y9kh |\u001b[0m     \"job_name\": \"pytorch-tft-container-test-2022-08-20-13-23-09-765\",\n",
      "\u001b[36muc1fbfgbdl-algo-1-2y9kh |\u001b[0m     \"log_level\": 20,\n",
      "\u001b[36muc1fbfgbdl-algo-1-2y9kh |\u001b[0m     \"master_hostname\": \"algo-1-2y9kh\",\n",
      "\u001b[36muc1fbfgbdl-algo-1-2y9kh |\u001b[0m     \"model_dir\": \"/opt/ml/model\",\n",
      "\u001b[36muc1fbfgbdl-algo-1-2y9kh |\u001b[0m     \"module_dir\": \"/opt/ml/code\",\n",
      "\u001b[36muc1fbfgbdl-algo-1-2y9kh |\u001b[0m     \"module_name\": \"TFT\",\n",
      "\u001b[36muc1fbfgbdl-algo-1-2y9kh |\u001b[0m     \"network_interface_name\": \"eth0\",\n",
      "\u001b[36muc1fbfgbdl-algo-1-2y9kh |\u001b[0m     \"num_cpus\": 2,\n",
      "\u001b[36muc1fbfgbdl-algo-1-2y9kh |\u001b[0m     \"num_gpus\": 0,\n",
      "\u001b[36muc1fbfgbdl-algo-1-2y9kh |\u001b[0m     \"output_data_dir\": \"/opt/ml/output/data\",\n",
      "\u001b[36muc1fbfgbdl-algo-1-2y9kh |\u001b[0m     \"output_dir\": \"/opt/ml/output\",\n",
      "\u001b[36muc1fbfgbdl-algo-1-2y9kh |\u001b[0m     \"output_intermediate_dir\": \"/opt/ml/output/intermediate\",\n",
      "\u001b[36muc1fbfgbdl-algo-1-2y9kh |\u001b[0m     \"resource_config\": {\n",
      "\u001b[36muc1fbfgbdl-algo-1-2y9kh |\u001b[0m         \"current_host\": \"algo-1-2y9kh\",\n",
      "\u001b[36muc1fbfgbdl-algo-1-2y9kh |\u001b[0m         \"hosts\": [\n",
      "\u001b[36muc1fbfgbdl-algo-1-2y9kh |\u001b[0m             \"algo-1-2y9kh\"\n",
      "\u001b[36muc1fbfgbdl-algo-1-2y9kh |\u001b[0m         ]\n",
      "\u001b[36muc1fbfgbdl-algo-1-2y9kh |\u001b[0m     },\n",
      "\u001b[36muc1fbfgbdl-algo-1-2y9kh |\u001b[0m     \"user_entry_point\": \"TFT.py\"\n",
      "\u001b[36muc1fbfgbdl-algo-1-2y9kh |\u001b[0m }\n",
      "\u001b[36muc1fbfgbdl-algo-1-2y9kh |\u001b[0m \n",
      "\u001b[36muc1fbfgbdl-algo-1-2y9kh |\u001b[0m Environment variables:\n",
      "\u001b[36muc1fbfgbdl-algo-1-2y9kh |\u001b[0m \n",
      "\u001b[36muc1fbfgbdl-algo-1-2y9kh |\u001b[0m SM_HOSTS=[\"algo-1-2y9kh\"]\n",
      "\u001b[36muc1fbfgbdl-algo-1-2y9kh |\u001b[0m SM_NETWORK_INTERFACE_NAME=eth0\n",
      "\u001b[36muc1fbfgbdl-algo-1-2y9kh |\u001b[0m SM_HPS={\"epochs\":1}\n",
      "\u001b[36muc1fbfgbdl-algo-1-2y9kh |\u001b[0m SM_USER_ENTRY_POINT=TFT.py\n",
      "\u001b[36muc1fbfgbdl-algo-1-2y9kh |\u001b[0m SM_FRAMEWORK_PARAMS={}\n",
      "\u001b[36muc1fbfgbdl-algo-1-2y9kh |\u001b[0m SM_RESOURCE_CONFIG={\"current_host\":\"algo-1-2y9kh\",\"hosts\":[\"algo-1-2y9kh\"]}\n",
      "\u001b[36muc1fbfgbdl-algo-1-2y9kh |\u001b[0m SM_INPUT_DATA_CONFIG={\"training\":{\"TrainingInputMode\":\"File\"}}\n",
      "\u001b[36muc1fbfgbdl-algo-1-2y9kh |\u001b[0m SM_OUTPUT_DATA_DIR=/opt/ml/output/data\n",
      "\u001b[36muc1fbfgbdl-algo-1-2y9kh |\u001b[0m SM_CHANNELS=[\"training\"]\n",
      "\u001b[36muc1fbfgbdl-algo-1-2y9kh |\u001b[0m SM_CURRENT_HOST=algo-1-2y9kh\n",
      "\u001b[36muc1fbfgbdl-algo-1-2y9kh |\u001b[0m SM_MODULE_NAME=TFT\n",
      "\u001b[36muc1fbfgbdl-algo-1-2y9kh |\u001b[0m SM_LOG_LEVEL=20\n",
      "\u001b[36muc1fbfgbdl-algo-1-2y9kh |\u001b[0m SM_FRAMEWORK_MODULE=sagemaker_pytorch_container.training:main\n",
      "\u001b[36muc1fbfgbdl-algo-1-2y9kh |\u001b[0m SM_INPUT_DIR=/opt/ml/input\n",
      "\u001b[36muc1fbfgbdl-algo-1-2y9kh |\u001b[0m SM_INPUT_CONFIG_DIR=/opt/ml/input/config\n",
      "\u001b[36muc1fbfgbdl-algo-1-2y9kh |\u001b[0m SM_OUTPUT_DIR=/opt/ml/output\n",
      "\u001b[36muc1fbfgbdl-algo-1-2y9kh |\u001b[0m SM_NUM_CPUS=2\n",
      "\u001b[36muc1fbfgbdl-algo-1-2y9kh |\u001b[0m SM_NUM_GPUS=0\n",
      "\u001b[36muc1fbfgbdl-algo-1-2y9kh |\u001b[0m SM_MODEL_DIR=/opt/ml/model\n",
      "\u001b[36muc1fbfgbdl-algo-1-2y9kh |\u001b[0m SM_MODULE_DIR=/opt/ml/code\n",
      "\u001b[36muc1fbfgbdl-algo-1-2y9kh |\u001b[0m SM_TRAINING_ENV={\"additional_framework_parameters\":{},\"channel_input_dirs\":{\"training\":\"/opt/ml/input/data/training\"},\"current_host\":\"algo-1-2y9kh\",\"framework_module\":\"sagemaker_pytorch_container.training:main\",\"hosts\":[\"algo-1-2y9kh\"],\"hyperparameters\":{\"epochs\":1},\"input_config_dir\":\"/opt/ml/input/config\",\"input_data_config\":{\"training\":{\"TrainingInputMode\":\"File\"}},\"input_dir\":\"/opt/ml/input\",\"is_master\":true,\"job_name\":\"pytorch-tft-container-test-2022-08-20-13-23-09-765\",\"log_level\":20,\"master_hostname\":\"algo-1-2y9kh\",\"model_dir\":\"/opt/ml/model\",\"module_dir\":\"/opt/ml/code\",\"module_name\":\"TFT\",\"network_interface_name\":\"eth0\",\"num_cpus\":2,\"num_gpus\":0,\"output_data_dir\":\"/opt/ml/output/data\",\"output_dir\":\"/opt/ml/output\",\"output_intermediate_dir\":\"/opt/ml/output/intermediate\",\"resource_config\":{\"current_host\":\"algo-1-2y9kh\",\"hosts\":[\"algo-1-2y9kh\"]},\"user_entry_point\":\"TFT.py\"}\n",
      "\u001b[36muc1fbfgbdl-algo-1-2y9kh |\u001b[0m SM_USER_ARGS=[\"--epochs\",\"1\"]\n",
      "\u001b[36muc1fbfgbdl-algo-1-2y9kh |\u001b[0m SM_OUTPUT_INTERMEDIATE_DIR=/opt/ml/output/intermediate\n",
      "\u001b[36muc1fbfgbdl-algo-1-2y9kh |\u001b[0m SM_CHANNEL_TRAINING=/opt/ml/input/data/training\n",
      "\u001b[36muc1fbfgbdl-algo-1-2y9kh |\u001b[0m SM_HP_EPOCHS=1\n",
      "\u001b[36muc1fbfgbdl-algo-1-2y9kh |\u001b[0m PYTHONPATH=/opt/ml/code:/opt/conda/bin:/opt/conda/lib/python36.zip:/opt/conda/lib/python3.6:/opt/conda/lib/python3.6/lib-dynload:/opt/conda/lib/python3.6/site-packages\n",
      "\u001b[36muc1fbfgbdl-algo-1-2y9kh |\u001b[0m \n",
      "\u001b[36muc1fbfgbdl-algo-1-2y9kh |\u001b[0m Invoking script with the following command:\n",
      "\u001b[36muc1fbfgbdl-algo-1-2y9kh |\u001b[0m \n",
      "\u001b[36muc1fbfgbdl-algo-1-2y9kh |\u001b[0m /opt/conda/bin/python3.6 TFT.py --epochs 1\n",
      "\u001b[36muc1fbfgbdl-algo-1-2y9kh |\u001b[0m \n",
      "\u001b[36muc1fbfgbdl-algo-1-2y9kh |\u001b[0m \n",
      "\u001b[36muc1fbfgbdl-algo-1-2y9kh |\u001b[0m Traceback (most recent call last):\n",
      "\u001b[36muc1fbfgbdl-algo-1-2y9kh |\u001b[0m   File \"TFT.py\", line 221, in <module>\n",
      "\u001b[36muc1fbfgbdl-algo-1-2y9kh |\u001b[0m     _train(parser.parse_args())\n",
      "\u001b[36muc1fbfgbdl-algo-1-2y9kh |\u001b[0m   File \"TFT.py\", line 24, in _train\n",
      "\u001b[36muc1fbfgbdl-algo-1-2y9kh |\u001b[0m     logger.debug(\"Distributed training - {}\".format(is_distributed))\n",
      "\u001b[36muc1fbfgbdl-algo-1-2y9kh |\u001b[0m UnboundLocalError: local variable 'logger' referenced before assignment\n",
      "\u001b[36muc1fbfgbdl-algo-1-2y9kh |\u001b[0m \n",
      "\u001b[36muc1fbfgbdl-algo-1-2y9kh |\u001b[0m 2022-08-20 13:23:18,025 sagemaker-training-toolkit ERROR    ExecuteUserScriptError:\n",
      "\u001b[36muc1fbfgbdl-algo-1-2y9kh |\u001b[0m Command \"/opt/conda/bin/python3.6 TFT.py --epochs 1\"\n",
      "\u001b[36muc1fbfgbdl-algo-1-2y9kh |\u001b[0m Traceback (most recent call last):\n",
      "\u001b[36muc1fbfgbdl-algo-1-2y9kh |\u001b[0m   File \"TFT.py\", line 221, in <module>\n",
      "\u001b[36muc1fbfgbdl-algo-1-2y9kh |\u001b[0m     _train(parser.parse_args())\n",
      "\u001b[36muc1fbfgbdl-algo-1-2y9kh |\u001b[0m   File \"TFT.py\", line 24, in _train\n",
      "\u001b[36muc1fbfgbdl-algo-1-2y9kh |\u001b[0m     logger.debug(\"Distributed training - {}\".format(is_distributed))\n",
      "\u001b[36muc1fbfgbdl-algo-1-2y9kh |\u001b[0m UnboundLocalError: local variable 'logger' referenced before assignment\n"
     ]
    },
    {
     "name": "stdout",
     "output_type": "stream",
     "text": [
      "\u001b[36muc1fbfgbdl-algo-1-2y9kh exited with code 1\n",
      "\u001b[0m1\n",
      "Aborting on container exit...\n"
     ]
    },
    {
     "ename": "RuntimeError",
     "evalue": "Failed to run: ['docker-compose', '-f', '/tmp/tmpywpllbkn/docker-compose.yaml', 'up', '--build', '--abort-on-container-exit'], Process exited with code: 1",
     "output_type": "error",
     "traceback": [
      "\u001b[0;31m---------------------------------------------------------------------------\u001b[0m",
      "\u001b[0;31mRuntimeError\u001b[0m                              Traceback (most recent call last)",
      "\u001b[0;32m~/anaconda3/envs/pytorch_p36/lib/python3.6/site-packages/sagemaker/local/image.py\u001b[0m in \u001b[0;36mtrain\u001b[0;34m(self, input_data_config, output_data_config, hyperparameters, environment, job_name)\u001b[0m\n\u001b[1;32m    247\u001b[0m         \u001b[0;32mtry\u001b[0m\u001b[0;34m:\u001b[0m\u001b[0;34m\u001b[0m\u001b[0;34m\u001b[0m\u001b[0m\n\u001b[0;32m--> 248\u001b[0;31m             \u001b[0m_stream_output\u001b[0m\u001b[0;34m(\u001b[0m\u001b[0mprocess\u001b[0m\u001b[0;34m)\u001b[0m\u001b[0;34m\u001b[0m\u001b[0;34m\u001b[0m\u001b[0m\n\u001b[0m\u001b[1;32m    249\u001b[0m         \u001b[0;32mexcept\u001b[0m \u001b[0mRuntimeError\u001b[0m \u001b[0;32mas\u001b[0m \u001b[0me\u001b[0m\u001b[0;34m:\u001b[0m\u001b[0;34m\u001b[0m\u001b[0;34m\u001b[0m\u001b[0m\n",
      "\u001b[0;32m~/anaconda3/envs/pytorch_p36/lib/python3.6/site-packages/sagemaker/local/image.py\u001b[0m in \u001b[0;36m_stream_output\u001b[0;34m(process)\u001b[0m\n\u001b[1;32m    915\u001b[0m     \u001b[0;32mif\u001b[0m \u001b[0mexit_code\u001b[0m \u001b[0;34m!=\u001b[0m \u001b[0;36m0\u001b[0m\u001b[0;34m:\u001b[0m\u001b[0;34m\u001b[0m\u001b[0;34m\u001b[0m\u001b[0m\n\u001b[0;32m--> 916\u001b[0;31m         \u001b[0;32mraise\u001b[0m \u001b[0mRuntimeError\u001b[0m\u001b[0;34m(\u001b[0m\u001b[0;34m\"Process exited with code: %s\"\u001b[0m \u001b[0;34m%\u001b[0m \u001b[0mexit_code\u001b[0m\u001b[0;34m)\u001b[0m\u001b[0;34m\u001b[0m\u001b[0;34m\u001b[0m\u001b[0m\n\u001b[0m\u001b[1;32m    917\u001b[0m \u001b[0;34m\u001b[0m\u001b[0m\n",
      "\u001b[0;31mRuntimeError\u001b[0m: Process exited with code: 1",
      "\nDuring handling of the above exception, another exception occurred:\n",
      "\u001b[0;31mRuntimeError\u001b[0m                              Traceback (most recent call last)",
      "\u001b[0;32m<ipython-input-3-00dfde411b2d>\u001b[0m in \u001b[0;36m<module>\u001b[0;34m\u001b[0m\n\u001b[1;32m     11\u001b[0m )\n\u001b[1;32m     12\u001b[0m \u001b[0;34m\u001b[0m\u001b[0m\n\u001b[0;32m---> 13\u001b[0;31m \u001b[0mestimator\u001b[0m\u001b[0;34m.\u001b[0m\u001b[0mfit\u001b[0m\u001b[0;34m(\u001b[0m\u001b[0;34m'file:///tmp/pytorch-example/cifar-10-data'\u001b[0m\u001b[0;34m)\u001b[0m\u001b[0;34m\u001b[0m\u001b[0;34m\u001b[0m\u001b[0m\n\u001b[0m",
      "\u001b[0;32m~/anaconda3/envs/pytorch_p36/lib/python3.6/site-packages/sagemaker/workflow/pipeline_context.py\u001b[0m in \u001b[0;36mwrapper\u001b[0;34m(*args, **kwargs)\u001b[0m\n\u001b[1;32m    208\u001b[0m             \u001b[0;32mreturn\u001b[0m \u001b[0mself_instance\u001b[0m\u001b[0;34m.\u001b[0m\u001b[0msagemaker_session\u001b[0m\u001b[0;34m.\u001b[0m\u001b[0mcontext\u001b[0m\u001b[0;34m\u001b[0m\u001b[0;34m\u001b[0m\u001b[0m\n\u001b[1;32m    209\u001b[0m \u001b[0;34m\u001b[0m\u001b[0m\n\u001b[0;32m--> 210\u001b[0;31m         \u001b[0;32mreturn\u001b[0m \u001b[0mrun_func\u001b[0m\u001b[0;34m(\u001b[0m\u001b[0;34m*\u001b[0m\u001b[0margs\u001b[0m\u001b[0;34m,\u001b[0m \u001b[0;34m**\u001b[0m\u001b[0mkwargs\u001b[0m\u001b[0;34m)\u001b[0m\u001b[0;34m\u001b[0m\u001b[0;34m\u001b[0m\u001b[0m\n\u001b[0m\u001b[1;32m    211\u001b[0m \u001b[0;34m\u001b[0m\u001b[0m\n\u001b[1;32m    212\u001b[0m     \u001b[0;32mreturn\u001b[0m \u001b[0mwrapper\u001b[0m\u001b[0;34m\u001b[0m\u001b[0;34m\u001b[0m\u001b[0m\n",
      "\u001b[0;32m~/anaconda3/envs/pytorch_p36/lib/python3.6/site-packages/sagemaker/estimator.py\u001b[0m in \u001b[0;36mfit\u001b[0;34m(self, inputs, wait, logs, job_name, experiment_config)\u001b[0m\n\u001b[1;32m   1029\u001b[0m         \u001b[0mself\u001b[0m\u001b[0;34m.\u001b[0m\u001b[0m_prepare_for_training\u001b[0m\u001b[0;34m(\u001b[0m\u001b[0mjob_name\u001b[0m\u001b[0;34m=\u001b[0m\u001b[0mjob_name\u001b[0m\u001b[0;34m)\u001b[0m\u001b[0;34m\u001b[0m\u001b[0;34m\u001b[0m\u001b[0m\n\u001b[1;32m   1030\u001b[0m \u001b[0;34m\u001b[0m\u001b[0m\n\u001b[0;32m-> 1031\u001b[0;31m         \u001b[0mself\u001b[0m\u001b[0;34m.\u001b[0m\u001b[0mlatest_training_job\u001b[0m \u001b[0;34m=\u001b[0m \u001b[0m_TrainingJob\u001b[0m\u001b[0;34m.\u001b[0m\u001b[0mstart_new\u001b[0m\u001b[0;34m(\u001b[0m\u001b[0mself\u001b[0m\u001b[0;34m,\u001b[0m \u001b[0minputs\u001b[0m\u001b[0;34m,\u001b[0m \u001b[0mexperiment_config\u001b[0m\u001b[0;34m)\u001b[0m\u001b[0;34m\u001b[0m\u001b[0;34m\u001b[0m\u001b[0m\n\u001b[0m\u001b[1;32m   1032\u001b[0m         \u001b[0mself\u001b[0m\u001b[0;34m.\u001b[0m\u001b[0mjobs\u001b[0m\u001b[0;34m.\u001b[0m\u001b[0mappend\u001b[0m\u001b[0;34m(\u001b[0m\u001b[0mself\u001b[0m\u001b[0;34m.\u001b[0m\u001b[0mlatest_training_job\u001b[0m\u001b[0;34m)\u001b[0m\u001b[0;34m\u001b[0m\u001b[0;34m\u001b[0m\u001b[0m\n\u001b[1;32m   1033\u001b[0m         \u001b[0;32mif\u001b[0m \u001b[0mwait\u001b[0m\u001b[0;34m:\u001b[0m\u001b[0;34m\u001b[0m\u001b[0;34m\u001b[0m\u001b[0m\n",
      "\u001b[0;32m~/anaconda3/envs/pytorch_p36/lib/python3.6/site-packages/sagemaker/estimator.py\u001b[0m in \u001b[0;36mstart_new\u001b[0;34m(cls, estimator, inputs, experiment_config)\u001b[0m\n\u001b[1;32m   1918\u001b[0m         \u001b[0mtrain_args\u001b[0m \u001b[0;34m=\u001b[0m \u001b[0mcls\u001b[0m\u001b[0;34m.\u001b[0m\u001b[0m_get_train_args\u001b[0m\u001b[0;34m(\u001b[0m\u001b[0mestimator\u001b[0m\u001b[0;34m,\u001b[0m \u001b[0minputs\u001b[0m\u001b[0;34m,\u001b[0m \u001b[0mexperiment_config\u001b[0m\u001b[0;34m)\u001b[0m\u001b[0;34m\u001b[0m\u001b[0;34m\u001b[0m\u001b[0m\n\u001b[1;32m   1919\u001b[0m \u001b[0;34m\u001b[0m\u001b[0m\n\u001b[0;32m-> 1920\u001b[0;31m         \u001b[0mestimator\u001b[0m\u001b[0;34m.\u001b[0m\u001b[0msagemaker_session\u001b[0m\u001b[0;34m.\u001b[0m\u001b[0mtrain\u001b[0m\u001b[0;34m(\u001b[0m\u001b[0;34m**\u001b[0m\u001b[0mtrain_args\u001b[0m\u001b[0;34m)\u001b[0m\u001b[0;34m\u001b[0m\u001b[0;34m\u001b[0m\u001b[0m\n\u001b[0m\u001b[1;32m   1921\u001b[0m \u001b[0;34m\u001b[0m\u001b[0m\n\u001b[1;32m   1922\u001b[0m         \u001b[0;32mreturn\u001b[0m \u001b[0mcls\u001b[0m\u001b[0;34m(\u001b[0m\u001b[0mestimator\u001b[0m\u001b[0;34m.\u001b[0m\u001b[0msagemaker_session\u001b[0m\u001b[0;34m,\u001b[0m \u001b[0mestimator\u001b[0m\u001b[0;34m.\u001b[0m\u001b[0m_current_job_name\u001b[0m\u001b[0;34m)\u001b[0m\u001b[0;34m\u001b[0m\u001b[0;34m\u001b[0m\u001b[0m\n",
      "\u001b[0;32m~/anaconda3/envs/pytorch_p36/lib/python3.6/site-packages/sagemaker/session.py\u001b[0m in \u001b[0;36mtrain\u001b[0;34m(self, input_mode, input_config, role, job_name, output_config, resource_config, vpc_config, hyperparameters, stop_condition, tags, metric_definitions, enable_network_isolation, image_uri, algorithm_arn, encrypt_inter_container_traffic, use_spot_instances, checkpoint_s3_uri, checkpoint_local_path, experiment_config, debugger_rule_configs, debugger_hook_config, tensorboard_output_config, enable_sagemaker_metrics, profiler_rule_configs, profiler_config, environment, retry_strategy)\u001b[0m\n\u001b[1;32m    610\u001b[0m             \u001b[0mself\u001b[0m\u001b[0;34m.\u001b[0m\u001b[0msagemaker_client\u001b[0m\u001b[0;34m.\u001b[0m\u001b[0mcreate_training_job\u001b[0m\u001b[0;34m(\u001b[0m\u001b[0;34m**\u001b[0m\u001b[0mrequest\u001b[0m\u001b[0;34m)\u001b[0m\u001b[0;34m\u001b[0m\u001b[0;34m\u001b[0m\u001b[0m\n\u001b[1;32m    611\u001b[0m \u001b[0;34m\u001b[0m\u001b[0m\n\u001b[0;32m--> 612\u001b[0;31m         \u001b[0mself\u001b[0m\u001b[0;34m.\u001b[0m\u001b[0m_intercept_create_request\u001b[0m\u001b[0;34m(\u001b[0m\u001b[0mtrain_request\u001b[0m\u001b[0;34m,\u001b[0m \u001b[0msubmit\u001b[0m\u001b[0;34m,\u001b[0m \u001b[0mself\u001b[0m\u001b[0;34m.\u001b[0m\u001b[0mtrain\u001b[0m\u001b[0;34m.\u001b[0m\u001b[0m__name__\u001b[0m\u001b[0;34m)\u001b[0m\u001b[0;34m\u001b[0m\u001b[0;34m\u001b[0m\u001b[0m\n\u001b[0m\u001b[1;32m    613\u001b[0m \u001b[0;34m\u001b[0m\u001b[0m\n\u001b[1;32m    614\u001b[0m     def _get_train_request(  # noqa: C901\n",
      "\u001b[0;32m~/anaconda3/envs/pytorch_p36/lib/python3.6/site-packages/sagemaker/session.py\u001b[0m in \u001b[0;36m_intercept_create_request\u001b[0;34m(self, request, create, func_name)\u001b[0m\n\u001b[1;32m   4294\u001b[0m             \u001b[0mfunc_name\u001b[0m \u001b[0;34m(\u001b[0m\u001b[0mstr\u001b[0m\u001b[0;34m)\u001b[0m\u001b[0;34m:\u001b[0m \u001b[0mthe\u001b[0m \u001b[0mname\u001b[0m \u001b[0mof\u001b[0m \u001b[0mthe\u001b[0m \u001b[0mfunction\u001b[0m \u001b[0mneeded\u001b[0m \u001b[0mintercepting\u001b[0m\u001b[0;34m\u001b[0m\u001b[0;34m\u001b[0m\u001b[0m\n\u001b[1;32m   4295\u001b[0m         \"\"\"\n\u001b[0;32m-> 4296\u001b[0;31m         \u001b[0;32mreturn\u001b[0m \u001b[0mcreate\u001b[0m\u001b[0;34m(\u001b[0m\u001b[0mrequest\u001b[0m\u001b[0;34m)\u001b[0m\u001b[0;34m\u001b[0m\u001b[0;34m\u001b[0m\u001b[0m\n\u001b[0m\u001b[1;32m   4297\u001b[0m \u001b[0;34m\u001b[0m\u001b[0m\n\u001b[1;32m   4298\u001b[0m \u001b[0;34m\u001b[0m\u001b[0m\n",
      "\u001b[0;32m~/anaconda3/envs/pytorch_p36/lib/python3.6/site-packages/sagemaker/session.py\u001b[0m in \u001b[0;36msubmit\u001b[0;34m(request)\u001b[0m\n\u001b[1;32m    608\u001b[0m             \u001b[0mLOGGER\u001b[0m\u001b[0;34m.\u001b[0m\u001b[0minfo\u001b[0m\u001b[0;34m(\u001b[0m\u001b[0;34m\"Creating training-job with name: %s\"\u001b[0m\u001b[0;34m,\u001b[0m \u001b[0mjob_name\u001b[0m\u001b[0;34m)\u001b[0m\u001b[0;34m\u001b[0m\u001b[0;34m\u001b[0m\u001b[0m\n\u001b[1;32m    609\u001b[0m             \u001b[0mLOGGER\u001b[0m\u001b[0;34m.\u001b[0m\u001b[0mdebug\u001b[0m\u001b[0;34m(\u001b[0m\u001b[0;34m\"train request: %s\"\u001b[0m\u001b[0;34m,\u001b[0m \u001b[0mjson\u001b[0m\u001b[0;34m.\u001b[0m\u001b[0mdumps\u001b[0m\u001b[0;34m(\u001b[0m\u001b[0mrequest\u001b[0m\u001b[0;34m,\u001b[0m \u001b[0mindent\u001b[0m\u001b[0;34m=\u001b[0m\u001b[0;36m4\u001b[0m\u001b[0;34m)\u001b[0m\u001b[0;34m)\u001b[0m\u001b[0;34m\u001b[0m\u001b[0;34m\u001b[0m\u001b[0m\n\u001b[0;32m--> 610\u001b[0;31m             \u001b[0mself\u001b[0m\u001b[0;34m.\u001b[0m\u001b[0msagemaker_client\u001b[0m\u001b[0;34m.\u001b[0m\u001b[0mcreate_training_job\u001b[0m\u001b[0;34m(\u001b[0m\u001b[0;34m**\u001b[0m\u001b[0mrequest\u001b[0m\u001b[0;34m)\u001b[0m\u001b[0;34m\u001b[0m\u001b[0;34m\u001b[0m\u001b[0m\n\u001b[0m\u001b[1;32m    611\u001b[0m \u001b[0;34m\u001b[0m\u001b[0m\n\u001b[1;32m    612\u001b[0m         \u001b[0mself\u001b[0m\u001b[0;34m.\u001b[0m\u001b[0m_intercept_create_request\u001b[0m\u001b[0;34m(\u001b[0m\u001b[0mtrain_request\u001b[0m\u001b[0;34m,\u001b[0m \u001b[0msubmit\u001b[0m\u001b[0;34m,\u001b[0m \u001b[0mself\u001b[0m\u001b[0;34m.\u001b[0m\u001b[0mtrain\u001b[0m\u001b[0;34m.\u001b[0m\u001b[0m__name__\u001b[0m\u001b[0;34m)\u001b[0m\u001b[0;34m\u001b[0m\u001b[0;34m\u001b[0m\u001b[0m\n",
      "\u001b[0;32m~/anaconda3/envs/pytorch_p36/lib/python3.6/site-packages/sagemaker/local/local_session.py\u001b[0m in \u001b[0;36mcreate_training_job\u001b[0;34m(self, TrainingJobName, AlgorithmSpecification, OutputDataConfig, ResourceConfig, InputDataConfig, Environment, **kwargs)\u001b[0m\n\u001b[1;32m    190\u001b[0m         \u001b[0mlogger\u001b[0m\u001b[0;34m.\u001b[0m\u001b[0minfo\u001b[0m\u001b[0;34m(\u001b[0m\u001b[0;34m\"Starting training job\"\u001b[0m\u001b[0;34m)\u001b[0m\u001b[0;34m\u001b[0m\u001b[0;34m\u001b[0m\u001b[0m\n\u001b[1;32m    191\u001b[0m         training_job.start(\n\u001b[0;32m--> 192\u001b[0;31m             \u001b[0mInputDataConfig\u001b[0m\u001b[0;34m,\u001b[0m \u001b[0mOutputDataConfig\u001b[0m\u001b[0;34m,\u001b[0m \u001b[0mhyperparameters\u001b[0m\u001b[0;34m,\u001b[0m \u001b[0mEnvironment\u001b[0m\u001b[0;34m,\u001b[0m \u001b[0mTrainingJobName\u001b[0m\u001b[0;34m\u001b[0m\u001b[0;34m\u001b[0m\u001b[0m\n\u001b[0m\u001b[1;32m    193\u001b[0m         )\n\u001b[1;32m    194\u001b[0m \u001b[0;34m\u001b[0m\u001b[0m\n",
      "\u001b[0;32m~/anaconda3/envs/pytorch_p36/lib/python3.6/site-packages/sagemaker/local/entities.py\u001b[0m in \u001b[0;36mstart\u001b[0;34m(self, input_data_config, output_data_config, hyperparameters, environment, job_name)\u001b[0m\n\u001b[1;32m    235\u001b[0m \u001b[0;34m\u001b[0m\u001b[0m\n\u001b[1;32m    236\u001b[0m         self.model_artifacts = self.container.train(\n\u001b[0;32m--> 237\u001b[0;31m             \u001b[0minput_data_config\u001b[0m\u001b[0;34m,\u001b[0m \u001b[0moutput_data_config\u001b[0m\u001b[0;34m,\u001b[0m \u001b[0mhyperparameters\u001b[0m\u001b[0;34m,\u001b[0m \u001b[0menvironment\u001b[0m\u001b[0;34m,\u001b[0m \u001b[0mjob_name\u001b[0m\u001b[0;34m\u001b[0m\u001b[0;34m\u001b[0m\u001b[0m\n\u001b[0m\u001b[1;32m    238\u001b[0m         )\n\u001b[1;32m    239\u001b[0m         \u001b[0mself\u001b[0m\u001b[0;34m.\u001b[0m\u001b[0mend_time\u001b[0m \u001b[0;34m=\u001b[0m \u001b[0mdatetime\u001b[0m\u001b[0;34m.\u001b[0m\u001b[0mdatetime\u001b[0m\u001b[0;34m.\u001b[0m\u001b[0mnow\u001b[0m\u001b[0;34m(\u001b[0m\u001b[0;34m)\u001b[0m\u001b[0;34m\u001b[0m\u001b[0;34m\u001b[0m\u001b[0m\n",
      "\u001b[0;32m~/anaconda3/envs/pytorch_p36/lib/python3.6/site-packages/sagemaker/local/image.py\u001b[0m in \u001b[0;36mtrain\u001b[0;34m(self, input_data_config, output_data_config, hyperparameters, environment, job_name)\u001b[0m\n\u001b[1;32m    251\u001b[0m             \u001b[0;31m# which contains the exit code and append the command line to it.\u001b[0m\u001b[0;34m\u001b[0m\u001b[0;34m\u001b[0m\u001b[0;34m\u001b[0m\u001b[0m\n\u001b[1;32m    252\u001b[0m             \u001b[0mmsg\u001b[0m \u001b[0;34m=\u001b[0m \u001b[0;34m\"Failed to run: %s, %s\"\u001b[0m \u001b[0;34m%\u001b[0m \u001b[0;34m(\u001b[0m\u001b[0mcompose_command\u001b[0m\u001b[0;34m,\u001b[0m \u001b[0mstr\u001b[0m\u001b[0;34m(\u001b[0m\u001b[0me\u001b[0m\u001b[0;34m)\u001b[0m\u001b[0;34m)\u001b[0m\u001b[0;34m\u001b[0m\u001b[0;34m\u001b[0m\u001b[0m\n\u001b[0;32m--> 253\u001b[0;31m             \u001b[0;32mraise\u001b[0m \u001b[0mRuntimeError\u001b[0m\u001b[0;34m(\u001b[0m\u001b[0mmsg\u001b[0m\u001b[0;34m)\u001b[0m\u001b[0;34m\u001b[0m\u001b[0;34m\u001b[0m\u001b[0m\n\u001b[0m\u001b[1;32m    254\u001b[0m         \u001b[0;32mfinally\u001b[0m\u001b[0;34m:\u001b[0m\u001b[0;34m\u001b[0m\u001b[0;34m\u001b[0m\u001b[0m\n\u001b[1;32m    255\u001b[0m             \u001b[0martifacts\u001b[0m \u001b[0;34m=\u001b[0m \u001b[0mself\u001b[0m\u001b[0;34m.\u001b[0m\u001b[0mretrieve_artifacts\u001b[0m\u001b[0;34m(\u001b[0m\u001b[0mcompose_data\u001b[0m\u001b[0;34m,\u001b[0m \u001b[0moutput_data_config\u001b[0m\u001b[0;34m,\u001b[0m \u001b[0mjob_name\u001b[0m\u001b[0;34m)\u001b[0m\u001b[0;34m\u001b[0m\u001b[0;34m\u001b[0m\u001b[0m\n",
      "\u001b[0;31mRuntimeError\u001b[0m: Failed to run: ['docker-compose', '-f', '/tmp/tmpywpllbkn/docker-compose.yaml', 'up', '--build', '--abort-on-container-exit'], Process exited with code: 1"
     ]
    }
   ],
   "source": [
    "from sagemaker.estimator import Estimator\n",
    "\n",
    "hyperparameters={'epochs': 1}\n",
    "\n",
    "estimator=Estimator(\n",
    "    image_uri='pytorch-tft-container-test',\n",
    "    role=role,\n",
    "    instance_count=1,\n",
    "    instance_type='local',\n",
    "    hyperparameters=hyperparameters\n",
    ")\n",
    "\n",
    "estimator.fit('file:///tmp/pytorch-example/cifar-10-data')"
   ]
  },
  {
   "cell_type": "code",
   "execution_count": null,
   "id": "9acc10a2",
   "metadata": {},
   "outputs": [],
   "source": []
  }
 ],
 "metadata": {
  "kernelspec": {
   "display_name": "conda_pytorch_p36",
   "language": "python",
   "name": "conda_pytorch_p36"
  },
  "language_info": {
   "codemirror_mode": {
    "name": "ipython",
    "version": 3
   },
   "file_extension": ".py",
   "mimetype": "text/x-python",
   "name": "python",
   "nbconvert_exporter": "python",
   "pygments_lexer": "ipython3",
   "version": "3.6.13"
  }
 },
 "nbformat": 4,
 "nbformat_minor": 5
}
